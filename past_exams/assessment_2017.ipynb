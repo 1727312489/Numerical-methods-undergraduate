{
  "cells": [
    {
      "metadata": {},
      "cell_type": "markdown",
      "source": "# 3.09 Numerical methods 1 exam - 14:00-16:00 5th May 2017"
    },
    {
      "metadata": {},
      "cell_type": "markdown",
      "source": "# Test instructions\n\n* This test contains **3** questions each of which should be answered.\n* Write your program in a Python cell just under each question.\n* You should write an explanation of your solution as comments in your code.\n* In each case your solution program must fulfil all of the instructions. Please check the instructions carefully and double check that your program fulfils all of the given instructions.\n* Save your work regularly.\n* At the end of the test you should email your IPython notebook document (i.e. this document) to [Gerard Gorman](http://www.imperial.ac.uk/people/g.gorman) at <mailto:g.gorman@imperial.ac.uk> **and also** [Matthew Piggott](http://www.imperial.ac.uk/people/m.d.piggott) at \n<mailto:m.d.piggott@imperial.ac.uk>  "
    },
    {
      "metadata": {},
      "cell_type": "markdown",
      "source": "## Question 1\n\nConsider the matrix:\n\n\\begin{equation}\n\\bf{A} = \n\\begin{pmatrix}\n1  & 3 & −9 &  6 & 4\\\\\n2  &−1 &  6 &  7 & 1\\\\\n3  & 2 & −3 & 15 & 5\\\\\n8  &−1 &  1 &  4 & 2\\\\\n11 & 1 & −2 & 18 & 7\n\\end{pmatrix}.\n\\end{equation}\n\n 1. Write a Python Gaussian function that takes as input a matrix and returns the upper diagonal matrix. Demonstrate the correctness by applying it to the matrix A. <sub>[17 marks]</sub>\n 2. Determine whether $\\bf{A}$ is invertible and explain why. <sub>[17 marks]</sub>"
    },
    {
      "metadata": {},
      "cell_type": "markdown",
      "source": "## Question 2\n\nConsider the expression\n\\begin{equation}\nf(x) = x \\mathrm{sin}(\\pi x)-\\mathrm{e}^{-x}.\n\\end{equation}\n\n 1. Write a function, $f$,  to evaluate this expression for a given $x$. Show that it works by plotting the function with respect to $100$ evenly spaced points between $x=-3$ and $x=3$. <sub>[8 marks]</sub>\n 2. Write another function, $g$ that uses central finite differences to numerically evaluate the derivative of an arbitrary given function with respect to $x$ (you may assume $dx\\approx0.01$). Show that it works by plotting the derivative of the function defined above between $x=-3$ and $x=3$. <sub>[8 marks]</sub>\n 3. Write a function that implements Newton's method for root finding. It should take as input parameters a function, $f$, whose root is to be found, its derivative function, $g$, and an initial guess, $x0$. <sub>[9 marks]</sub>\n 4. Use your implementation of Newton's method to calculate all the roots of $f$ between $-3$ and $3$.<sub>[8 marks]</sub>"
    },
    {
      "metadata": {},
      "cell_type": "markdown",
      "source": "## Question 3\n\nThe discrete function $y$ is defined as:\n\ny = [0.0109439010693,0.292339081461,0.925277149533,\n     2.01332091034,3.37454077451,4.68171817154,\n     5.64468727334,6.14851510939,6.28859790888,\n     6.2961542923,6.4,6.69882629738,7.11010256048,\n     7.42182227368,7.42089923772,7.03212055883,\n     6.39346348534,5.82192391325,5.67641305593,\n     6.17668765765,7.26466471676]\n\nfor positions $x$:\n\nx = [-2.0,-1.8,-1.6,-1.4,-1.2,-1.0,-0.8,-0.6,-0.4,-0.2,\n     0.0,0.2,0.4,0.6,0.8,1.0,1.2,1.4,1.6,1.8,2.0]\n\n     \n 1. Fit a polynomial to the data such that the polynomial passes through each point. Plot the polynomial fit with the original data.<sub>[11 marks]</sub>\n 2.  Write a Python function that integrates a given function using Simpson's rule. The function should look like *simpson_rule(start_point, end_point, f, atol=1.0e-6)* where *start_point* and *end_point* are the bound of the integral, *f* is the function to be integrated and *atol* is the target error in the integral (you may approximate the error as the amount the integral changes when the number of segments is doubled).<sub>[11 marks]</sub>\n 3. Plot the value of the integral as a function of bin width.<sub>[11 marks]</sub>"
    },
    {
      "metadata": {
        "collapsed": true,
        "trusted": false
      },
      "cell_type": "code",
      "source": "",
      "execution_count": null,
      "outputs": []
    }
  ],
  "metadata": {
    "kernelspec": {
      "name": "python3",
      "display_name": "Python 3",
      "language": "python"
    },
    "language_info": {
      "mimetype": "text/x-python",
      "nbconvert_exporter": "python",
      "name": "python",
      "pygments_lexer": "ipython3",
      "version": "3.5.4",
      "file_extension": ".py",
      "codemirror_mode": {
        "version": 3,
        "name": "ipython"
      }
    }
  },
  "nbformat": 4,
  "nbformat_minor": 1
}