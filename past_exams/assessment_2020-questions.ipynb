{
 "cells": [
  {
   "cell_type": "markdown",
   "metadata": {},
   "source": [
    "# Numerical Methods\n",
    "\n",
    "# 2019/20 Class Assessment"
   ]
  },
  {
   "cell_type": "markdown",
   "metadata": {},
   "source": [
    "## Thursday 7th May 2020\n",
    "\n",
    "## 12:00 - 15:00 (UK time: BST= GMT+1)"
   ]
  },
  {
   "cell_type": "markdown",
   "metadata": {},
   "source": [
    "## Test instructions\n",
    "\n",
    "\n",
    "* This test contains FOUR questions with multiple parts, **all** of which should be answered.\n",
    "\n",
    "\n",
    "\n",
    "* Write your solution in *markdown* (text and equations) and *code* (Python) cells under each question.\n",
    "\n",
    "\n",
    "\n",
    "* [You may if you choose also submit parts of your answers via **scans of hand written pages** - feel free to use this option in particular for supplementary sketches or equations, you will not be marked down for not embedding equations into your markdown cells. But please make sure that the question number each sheet you scan refers to is very clear. Please use the Microsoft Office Lens solution you're using for exams. I suggest you also upload these scans to your Project on notebooks.azure for completeness and as a backup.]\n",
    "\n",
    "\n",
    "\n",
    "* You should provide an explanation of your solution as comments in your code and in the surrounding markdown cells as appropriate to answer the question and explain your steps.\n",
    "\n",
    "\n",
    "\n",
    "* Unless explicitly told otherwise in the question you can reuse any code from the lectures and homeworks, you can also use any calls to standard libraries (e.g. NumPy, SciPy).\n",
    "\n",
    "\n",
    "\n",
    "* **Save your work regularly** ( > File > Save and Checkpoint)\n",
    "\n",
    "\n",
    "\n",
    "* At the end of the test you should (1) **Download your Jupyter notebook** (i.e. this file with a .ipynb extension), either from within the notebook with >File>Download, or from the MyProjects page on azure by right clicking on the notebook and selecting download; (2) **email your Jupyter notebook document**  and any **scans of hand written sheets** to [Matthew Piggott](http://www.imperial.ac.uk/people/m.d.piggott) at <mailto:m.d.piggott@imperial.ac.uk>.\n",
    "\n",
    "\n",
    "\n",
    "* If there are any issues during the assessment period **please document these**, e.g. via photos, and as soon as possible email <mailto:m.d.piggott@imperial.ac.uk> to report the problem.\n",
    "\n",
    "\n",
    "\n",
    "* If your email attachments together are larger than 10Mb please use <https://fileexchange.ic.ac.uk/>"
   ]
  },
  {
   "cell_type": "markdown",
   "metadata": {},
   "source": [
    "This time-limited remote assessment is being run as an open-book examination. We have worked hard to create exams that assesses synthesis of knowledge rather than factual recall. Thus, access to the internet, notes or other sources of factual information in the time provided will not be helpful and may well limit your time to successfully synthesise the answers required. Where individual questions rely more on factual recall and may therefore be less discriminatory in an open book context, we may compare the performance on these questions to similar style questions in previous years and we may scale or ignore the marks associated with such questions or parts of the questions. The use of the work of another student, past or present, constitutes plagiarism. Giving your work to another student to use may also constitute an offence. Collusion is a form of plagiarism and will be treated in a similar manner. This is an individual assessment and thus should be completed solely by you. The College will investigate all instances where an examination or assessment offence is reported or suspected, using plagiarism software, vivas and other tools, and apply appropriate penalties to students. In all examinations we will analyse exam performance against previous performance and against data from previous years and use an evidence-based approach to maintain a fair and robust examination. As with all exams, the best strategy is to read the question carefully and answer as fully as possible, taking account of the time and number of marks available."
   ]
  },
  {
   "cell_type": "code",
   "execution_count": 1,
   "metadata": {},
   "outputs": [],
   "source": [
    "# you may import any libraries we used in lectures, e.g.\n",
    "\n",
    "%matplotlib inline\n",
    "import matplotlib.pyplot as plt\n",
    "\n",
    "import numpy as np\n",
    "# scipy's linear algebra libary\n",
    "import scipy.linalg as sl\n",
    "# scipy's optimization libary\n",
    "import scipy.optimize as sop"
   ]
  },
  {
   "cell_type": "markdown",
   "metadata": {},
   "source": [
    "### Question 1 - interpolation [25 marks]\n",
    "\n",
    "<br>\n",
    "\n",
    "Consider the following $(x,y)$ data points\n",
    "\n",
    "|  x  |  y  |\n",
    "|-----|-----|\n",
    "| 0.0 | 0.5 |\n",
    "| 0.2 | 0.4 |\n",
    "| 0.5 | 0.3 |\n",
    "| 0.65 | 0.5 |\n",
    "| 0.8 | 0.9 |\n",
    "| 1.0 | 0.8 |\n",
    "\n",
    "<br>\n",
    "\n",
    "\n",
    "**1.1 <sub>[8 marks]</sub>**\n",
    "\n",
    "Calculate the Lagrange polynomial (as a function of the $x$ variable) which passes through these points. Plot both the Lagrange polynomial and the raw data points to demonstrate that your polynomial does indeed interpolate the points. \n",
    "\n",
    "<br>\n",
    "\n",
    "**1.2 <sub>[10 marks]</sub>**\n",
    "\n",
    "<br>\n",
    "\n",
    "Fit a $3^{rd}$ degree polynomial (cubic function) to the given data points. Plot the resulting polynomial function as well as the raw data points. In this case we do not expect the curve to pass through all the data points perfectly - there will be a misfit (i.e. errors) with some or all of the data points. Explain what measure (i.e. norm or function) of these misfit values your curve is expected to minimise.\n",
    "\n",
    "<br>\n",
    "\n",
    "**1.3 <sub>[7 marks]</sub>**\n",
    "\n",
    "Explain how you know in advance what degree of polynomial you need in order to fit the data perfectly, i.e. with zero misfits, based on the number of data points you are trying to interpolate. Explain in what situation you may be able to fit the data perfectly with a lower degree polynomial; provide an example demonstrating this situation."
   ]
  },
  {
   "cell_type": "code",
   "execution_count": null,
   "metadata": {},
   "outputs": [],
   "source": []
  },
  {
   "cell_type": "code",
   "execution_count": null,
   "metadata": {},
   "outputs": [],
   "source": []
  },
  {
   "cell_type": "code",
   "execution_count": null,
   "metadata": {},
   "outputs": [],
   "source": []
  },
  {
   "cell_type": "markdown",
   "metadata": {},
   "source": [
    "### Question 2 - differentiation & ODEs [25 marks]\n",
    "\n",
    "<br>\n",
    "\n",
    "**2.1  <sub>[10 marks]</sub>**\n",
    "\n",
    "Use forward and central finite difference methods to compute the derivative of the function \n",
    "\n",
    "$$f(x) = \\cos(x) + x^2$$\n",
    "\n",
    "at $x=0.75$.\n",
    "\n",
    "Perform a convergence analysis against the exact solution with respect to $\\Delta x$ for the two methods \n",
    "and comment on what you observe.\n",
    "\n",
    "<br>\n",
    "\n",
    "**2.2 <sub>[15 marks]</sub>**\n",
    "\n",
    "Solve the following ODE problem\n",
    "\n",
    "$$ \\frac{dy}{dt} = y + t^3, \\;\\;\\;\\;\\;\\; y(0) = 1, $$  \n",
    "\n",
    "using the forward Euler and Heun's method up to time $t=3$.\n",
    "\n",
    "To verify the correctness of your numerical solutions, first verify analytically that the following is an exact solution to\n",
    "the ODE problem\n",
    "\n",
    "$$ y(t) = 7\\text{e}^t - t^3 - 3t^2 - 6t - 6. $$\n",
    "\n",
    "Then perform a convergence analysis with respect to $\\Delta t$ for the two methods and comment on what you observe (you can just consider the error in the solution at the final time level).\n"
   ]
  },
  {
   "cell_type": "code",
   "execution_count": null,
   "metadata": {},
   "outputs": [],
   "source": []
  },
  {
   "cell_type": "code",
   "execution_count": null,
   "metadata": {},
   "outputs": [],
   "source": []
  },
  {
   "cell_type": "code",
   "execution_count": null,
   "metadata": {},
   "outputs": [],
   "source": []
  },
  {
   "cell_type": "markdown",
   "metadata": {},
   "source": [
    "### Question 3 - integration/quadrature [25 marks]\n",
    "\n",
    "<br>\n",
    "\n",
    "**3.1 <sub>[10 marks]</sub>**\n",
    "\n",
    "Implement functions for the Trapezoidal integration/quadrature rule, and the composite form of the Trapezoidal rule.\n",
    "\n",
    "<br>\n",
    "\n",
    "**3.2  <sub>[10 marks]</sub>**\n",
    "\n",
    "Verify your implementations by applying them to the quadrature problem \n",
    "\n",
    "$$\\int_0^\\pi \\, \\sin(x) \\, dx$$\n",
    "\n",
    "<br>\n",
    "\n",
    "**3.3  <sub>[5 marks]</sub>**\n",
    "\n",
    "Explain why it might be important to use the composite version of the rule."
   ]
  },
  {
   "cell_type": "code",
   "execution_count": null,
   "metadata": {},
   "outputs": [],
   "source": []
  },
  {
   "cell_type": "code",
   "execution_count": null,
   "metadata": {},
   "outputs": [],
   "source": []
  },
  {
   "cell_type": "code",
   "execution_count": null,
   "metadata": {},
   "outputs": [],
   "source": []
  },
  {
   "cell_type": "markdown",
   "metadata": {},
   "source": [
    "### Question 4 - numerical linear algebra [25 marks]\n",
    "\n",
    "<br>\n",
    "\n",
    "Consider the following set of linear equations\n",
    "\n",
    "\\begin{align*}\n",
    "  x + 2y + 4z &= -20 \\\\\n",
    "  2x + 5y + 6z &= -36 \\\\\n",
    "  -x - 5y + 3z &= 26\n",
    "\\end{align*}\n",
    "\n",
    "<br>\n",
    "\n",
    "**4.1  <sub>[8 marks]</sub>**\n",
    "\n",
    "[**For the first part of the question do everything \"by hand\", i.e. either with pen and paper, or with equations written in a markdown cell as you see fit**]\n",
    "\n",
    "Write this in matrix form ($A\\pmb{x}=\\pmb{b}$), form the corresponding augmented system ($[A|\\pmb{b}]$) and perform row operations until you get to upper-triangular form, find the solution ($\\pmb{x}$) using back substitution).\n",
    "\n",
    "Check your answer using any method available to you to solve this problem in SciPy of NumPy.\n",
    "\n",
    "<br>\n",
    "\n",
    "**4.2  <sub>[7 marks]</sub>**\n",
    "\n",
    "Assuming we have already performed an LU decomposition of the matrix, \n",
    "explain mathematically how we can then trivially solve the corresponding linear system using\n",
    "forward and backward substitution. \n",
    "In what situations might this solution approach be advantageous?\n",
    "\n",
    "<br>\n",
    "\n",
    "**4.3  <sub>[10 marks]</sub>**\n",
    "\n",
    "Write some code/functions which take a matrix $A$ and RHS vector $\\pmb{b}$ and returns the solution using LU decomposition (e.g. with the call format `x = LU_solve(A, b)`, where the function `LU_solve` itself calls three functions to perform the LU decomposition, forward and backward substitutions as appropriate). Test your code on the problem specified at the start of this question.\n",
    "\n"
   ]
  },
  {
   "cell_type": "code",
   "execution_count": null,
   "metadata": {},
   "outputs": [],
   "source": []
  },
  {
   "cell_type": "code",
   "execution_count": null,
   "metadata": {},
   "outputs": [],
   "source": []
  },
  {
   "cell_type": "code",
   "execution_count": null,
   "metadata": {},
   "outputs": [],
   "source": []
  }
 ],
 "metadata": {
  "celltoolbar": "Slideshow",
  "kernelspec": {
   "display_name": "Python 3",
   "language": "python",
   "name": "python3"
  },
  "language_info": {
   "codemirror_mode": {
    "name": "ipython",
    "version": 3
   },
   "file_extension": ".py",
   "mimetype": "text/x-python",
   "name": "python",
   "nbconvert_exporter": "python",
   "pygments_lexer": "ipython3",
   "version": "3.7.3"
  },
  "toc": {
   "base_numbering": 1,
   "nav_menu": {},
   "number_sections": false,
   "sideBar": false,
   "skip_h1_title": false,
   "title_cell": "Table of Contents",
   "title_sidebar": "Contents",
   "toc_cell": false,
   "toc_position": {
    "height": "calc(100% - 180px)",
    "left": "10px",
    "top": "150px",
    "width": "258.313px"
   },
   "toc_section_display": false,
   "toc_window_display": false
  }
 },
 "nbformat": 4,
 "nbformat_minor": 1
}
