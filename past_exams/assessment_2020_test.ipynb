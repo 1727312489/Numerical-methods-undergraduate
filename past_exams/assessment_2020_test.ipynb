{
 "cells": [
  {
   "cell_type": "markdown",
   "metadata": {},
   "source": [
    "# Numerical Methods\n",
    "\n",
    "# 2019/20 Class Assessment"
   ]
  },
  {
   "cell_type": "markdown",
   "metadata": {},
   "source": [
    "## Thursday 7th May 2020\n",
    "\n",
    "## 12:00 - 15:00 (UK time: BST= GMT+1)"
   ]
  },
  {
   "cell_type": "markdown",
   "metadata": {},
   "source": [
    "## Test instructions\n",
    "\n",
    "\n",
    "* This test contains **N** questions with multiple parts, **all** of which should be answered.\n",
    "\n",
    "\n",
    "\n",
    "* Write your solution in *markdown* (text and equations) and *code* (Python) cells under each question.\n",
    "\n",
    "\n",
    "\n",
    "* [You may if you choose also submit parts of your answers via **scans of hand written pages** - feel free to use this option in particular for supplementary sketches or equations, you will not be marked down for not embedding equations into your markdown cells. But please make sure that the question number each sheet you scan refers to is very clear. Please use the Microsoft Office Lens solution you're using for exams. I suggest you also upload these scans to your Project on notebooks.azure for completeness and as a backup.]\n",
    "\n",
    "\n",
    "\n",
    "* You should provide an explanation of your solution as comments in your code and in the surrounding markdown cells as appropriate to answer the question and explain your steps.\n",
    "\n",
    "\n",
    "\n",
    "* **Save your work regularly** ( > File > Save and Checkpoint)\n",
    "\n",
    "\n",
    "\n",
    "* At the end of the test you should (1) **Download your Jupyter notebook** (i.e. this file with a .ipynb extension), either from within the notebook with >File>Download, or from the MyProjects page on azure by right clicking on the notebook and selecting download; (2) **email your Jupyter notebook document**  and any **scans of hand written sheets** to [Matthew Piggott](http://www.imperial.ac.uk/people/m.d.piggott) at <mailto:m.d.piggott@imperial.ac.uk>.\n",
    "\n",
    "\n",
    "\n",
    "* If there are any issues during the assessment period **please document these**, e.g. via photos, and as soon as possible email <mailto:m.d.piggott@imperial.ac.uk> to report the problem.\n",
    "\n",
    "\n",
    "\n",
    "* If your email attachments together are larger than 10Mb please use <https://fileexchange.ic.ac.uk/>"
   ]
  },
  {
   "cell_type": "code",
   "execution_count": 1,
   "metadata": {},
   "outputs": [],
   "source": [
    "# you may import any libraries we used in lectures, e.g.\n",
    "\n",
    "%matplotlib inline\n",
    "import matplotlib.pyplot as plt\n",
    "\n",
    "import numpy as np\n",
    "# scipy's linear algebra libary\n",
    "import scipy.linalg as sl\n",
    "# scipy's optimization libary\n",
    "import scipy.optimize as sop"
   ]
  },
  {
   "cell_type": "markdown",
   "metadata": {},
   "source": [
    "### Question 1\n",
    "\n",
    "The text of the question\n",
    "\n",
    "\n",
    "1. If I use a multi-part questions\n",
    "\n",
    "\n",
    "2. Please split your answer to each part into different cells, e.g. use headers such as \"Answer 1.2\""
   ]
  },
  {
   "cell_type": "markdown",
   "metadata": {},
   "source": [
    "### Answer 1"
   ]
  },
  {
   "cell_type": "markdown",
   "metadata": {},
   "source": [
    "Perhaps an initial markdown cell with some text answering an initial part to the question, or introducing what you're going to do in the following code\n"
   ]
  },
  {
   "cell_type": "code",
   "execution_count": 3,
   "metadata": {},
   "outputs": [],
   "source": [
    "# Some code with comments!\n"
   ]
  },
  {
   "cell_type": "markdown",
   "metadata": {},
   "source": [
    "Some follow up text describing your results and addressing any final parts to the question ..."
   ]
  },
  {
   "cell_type": "markdown",
   "metadata": {},
   "source": [
    "### Question 2\n",
    "\n",
    "\n",
    "...\n"
   ]
  },
  {
   "cell_type": "markdown",
   "metadata": {},
   "source": [
    "### Answer 2\n",
    "\n",
    "...."
   ]
  },
  {
   "cell_type": "code",
   "execution_count": null,
   "metadata": {},
   "outputs": [],
   "source": []
  },
  {
   "cell_type": "markdown",
   "metadata": {},
   "source": []
  }
 ],
 "metadata": {
  "celltoolbar": "Slideshow",
  "kernelspec": {
   "display_name": "Python 3",
   "language": "python",
   "name": "python3"
  },
  "language_info": {
   "codemirror_mode": {
    "name": "ipython",
    "version": 3
   },
   "file_extension": ".py",
   "mimetype": "text/x-python",
   "name": "python",
   "nbconvert_exporter": "python",
   "pygments_lexer": "ipython3",
   "version": "3.7.3"
  },
  "toc": {
   "base_numbering": 1,
   "nav_menu": {},
   "number_sections": false,
   "sideBar": false,
   "skip_h1_title": false,
   "title_cell": "Table of Contents",
   "title_sidebar": "Contents",
   "toc_cell": false,
   "toc_position": {
    "height": "calc(100% - 180px)",
    "left": "10px",
    "top": "150px",
    "width": "258.313px"
   },
   "toc_section_display": false,
   "toc_window_display": false
  }
 },
 "nbformat": 4,
 "nbformat_minor": 1
}
