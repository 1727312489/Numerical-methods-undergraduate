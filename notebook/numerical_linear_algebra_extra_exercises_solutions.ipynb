{
 "cells": [
  {
   "cell_type": "markdown",
   "metadata": {},
   "source": [
    "# Numerical Methods 1\n",
    "### [Gerard Gorman](http://www.imperial.ac.uk/people/g.gorman), [Matthew Piggott](http://www.imperial.ac.uk/people/m.d.piggott), [Nicolas Barral](http://www.imperial.ac.uk/people/n.barral)"
   ]
  },
  {
   "cell_type": "markdown",
   "metadata": {},
   "source": [
    "#  Numerical Linear Algebra: Extra exercises"
   ]
  },
  {
   "cell_type": "markdown",
   "metadata": {},
   "source": [
    "### <span style=\"color:blue\">Exercise 1: diagonally dominant matrices ($*$)</span>\n",
    "\n",
    "A matrix $A$ is said to be diagonally dominant if for each row $i$ the absolute value of the diagonal element is larger than the sum of all the other terms of the row.\n",
    "\n",
    "- write this definition in a mathematical form.\n",
    "- write a code that checks if a matrix is diagonally dominant.\n",
    "- test it with well chosen 2x2 and 3x3 examples.\n"
   ]
  },
  {
   "cell_type": "code",
   "execution_count": null,
   "metadata": {
    "collapsed": true
   },
   "outputs": [],
   "source": []
  },
  {
   "cell_type": "markdown",
   "metadata": {},
   "source": [
    "### <span style=\"color:blue\">Exercise 2: singular matrices and ill-conditioning ($*$)</span>\n",
    "\n",
    "For the following matrixes, compute the determinant and the condition number, and classify them as singular, ill conditioned or well conditioned:\n",
    "$$ (i)\\quad A = \n",
    "  \\begin{pmatrix}\n",
    "    1 & 2 & 3 \\\\\n",
    "    2 & 3 & 4 \\\\\n",
    "    3 & 4 & 5 \\\\\n",
    "  \\end{pmatrix}\n",
    "\\quad\\quad\\quad\\quad\n",
    "(ii)\\quad A = \n",
    "  \\begin{pmatrix}\n",
    "    2.11 & -0.80 & 1.72 \\\\\n",
    "    -1.84 & 3.03 & 1.29 \\\\\n",
    "    -1.57 & 5.25 & 4.30 \\\\\n",
    "  \\end{pmatrix}\n",
    "$$\n",
    "$$ (iii)\\quad A = \n",
    "  \\begin{pmatrix}\n",
    "    2 & -1 & 0 \\\\\n",
    "    -1 & 2 & -1 \\\\\n",
    "    0 & -1 & 2 \\\\\n",
    "  \\end{pmatrix}\n",
    "\\quad\\quad\\quad\\quad\n",
    "(iv)\\quad A = \n",
    "  \\begin{pmatrix}\n",
    "    4 & 3 & -1 \\\\\n",
    "    7 & -2 & 3 \\\\\n",
    "    5 & -18 & 13 \\\\\n",
    "  \\end{pmatrix}\\,.\n",
    "$$\n"
   ]
  },
  {
   "cell_type": "code",
   "execution_count": null,
   "metadata": {
    "collapsed": true
   },
   "outputs": [],
   "source": []
  },
  {
   "cell_type": "markdown",
   "metadata": {},
   "source": [
    "### <span style=\"color:blue\">Exercise 3: Hilbert matrices ($**$)</span> \n",
    "\n",
    "The *Hilbert matrix* is a classic example of ill-conditioned matrix:\n",
    "\n",
    "$$\n",
    "A = \n",
    "  \\begin{pmatrix}\n",
    "    1      & 1/2    & 1/3    & \\cdots \\\\\n",
    "    1/2    & 1/3    & 1/4    & \\cdots \\\\\n",
    "    1/3    & 1/4    & 1/5    & \\cdots \\\\\n",
    "    \\vdots & \\vdots & \\vdots & \\ddots  \\\\\n",
    "\\end{pmatrix}\\,.\n",
    "$$\n",
    "\n",
    "Let's consider the linear system $A\\pmb{x}=\\pmb{b}$ where \n",
    "$$ b_i = \\sum_{j=1}^n A_{ij},\\quad \\textrm{for}\\quad i=1,2,\\ldots, n.$$\n",
    "\n",
    " - How can you write entry $A_{ij}$ for any $i$ and $j$ ?\n",
    " - Convince yourself by pen and paper that $ \\pmb{x} = \\left[ 1, 1, \\cdots 1\\right]^T$ is the solution of the system.\n",
    " - Write a function that returns $A$ and $b$ for a given $n$.\n",
    " - For a range of $n$, compute the condition number of $A$, solve the linear system and compute the error ($err = \\sum_{i=1}^n \\left|x_{computed, i}-x_{exact, i}\\right|$). What do you observe ?"
   ]
  },
  {
   "cell_type": "code",
   "execution_count": 14,
   "metadata": {
    "collapsed": false
   },
   "outputs": [
    {
     "name": "stdout",
     "output_type": "stream",
     "text": [
      "0.0\n",
      "1.11022302463e-15\n",
      "2.09832151654e-14\n",
      "1.28663746324e-12\n",
      "1.27620136681e-12\n",
      "1.41814304744e-09\n",
      "7.2493008596e-08\n",
      "1.25101561887e-06\n",
      "5.82810862214e-05\n",
      "0.00164224092235\n",
      "0.036790270394\n",
      "2.08494917362\n",
      "5.05261007799\n",
      "40.6386737885\n",
      "18.1341371871\n",
      "29.4436774692\n",
      "73.1931566747\n",
      "146.093897258\n",
      "128.263365838\n",
      "163.058235109\n",
      "213.499431266\n",
      "555.942378219\n",
      "369.043802771\n",
      "76.2632998396\n",
      "467.005764787\n",
      "144.387203311\n",
      "14371.7394554\n",
      "384.577499819\n",
      "233.472000001\n"
     ]
    }
   ],
   "source": [
    "import numpy as np\n",
    "\n",
    "def hilbert(n):\n",
    "    A = np.zeros((n,n))\n",
    "    b = np.zeros(n)\n",
    "    for i in range(n):\n",
    "        for j in range(n):\n",
    "            A[i,j] = 1./(i+j+1)\n",
    "        b[i] = np.sum(A[i,:])\n",
    "    return A,b\n",
    "\n",
    "for n in range(1,30):\n",
    "    A,b = hilbert(n)\n",
    "    x = np.linalg.solve(A,b)\n",
    "    x_exact = np.ones(n)\n",
    "    error = np.sum(abs(x-x_exact))\n",
    "    print error"
   ]
  },
  {
   "cell_type": "markdown",
   "metadata": {},
   "source": [
    "### <span style=\"color:blue\">Exercise 4: Vandermonde matrices ($**$) </span>\n",
    "\n",
    "A *Vandermonde matrix* is defined as follows, for any $\\alpha_1, \\dots, \\alpha_n$ real numbers:\n",
    "$$V=\\begin{pmatrix}\n",
    "1 & \\alpha_1 & {\\alpha_1}^2 & \\dots & {\\alpha_1}^{n-1}\\\\\n",
    "1 & \\alpha_2 & {\\alpha_2}^2 & \\dots & {\\alpha_2}^{n-1}\\\\\n",
    "1 & \\alpha_3 & {\\alpha_3}^2 & \\dots & {\\alpha_3}^{n-1}\\\\\n",
    "\\vdots & \\vdots & \\vdots & &\\vdots \\\\\n",
    "1 & \\alpha_n & {\\alpha_n}^2 & \\dots & {\\alpha_n}^{n-1}\\\\\n",
    "\\end{pmatrix}$$\n",
    "\n",
    " - Write a function that takes a real number $\\alpha$ and an integer $n$ as input, and returns a **vector** $v = \\left(1, \\alpha, \\alpha^2, \\dots, \\alpha^{n-1}\\right)$\n",
    " - Using this function, write a function that takes a vector $a = \\left(\\alpha_1, \\alpha_2, \\dots, \\alpha_n\\right)$ as input and returns the corresponding Vandermonde matrix.\n",
    " - For different sets of randomly chosen $(\\alpha_i)$, compute the determinant of the corresponding Vandermonde matrix. What does it tell us regarding the matrix conditioning ?\n"
   ]
  },
  {
   "cell_type": "code",
   "execution_count": 23,
   "metadata": {
    "collapsed": false
   },
   "outputs": [
    {
     "data": {
      "text/plain": [
       "287.99999999999676"
      ]
     },
     "execution_count": 23,
     "metadata": {},
     "output_type": "execute_result"
    }
   ],
   "source": [
    "import scipy.linalg as la\n",
    "from pprint import pprint\n",
    "\n",
    "def vdm_row(alpha,n):\n",
    "    row = np.zeros(n)\n",
    "    cur_alpha = 1\n",
    "    for i in range(n):\n",
    "        row[i] = cur_alpha\n",
    "        cur_alpha *= alpha\n",
    "    return row\n",
    "\n",
    "def vdm(alpha_vec):\n",
    "    n = alpha_vec.size\n",
    "    A = np.zeros((n,n))\n",
    "    for i in range(n):\n",
    "        A[i,:] = vdm_row(alpha_vec[i],n)\n",
    "    return A\n",
    "\n",
    "alphas = np.array([1,2,3, 4, 5])\n",
    "V = vdm(alphas)\n",
    "\n",
    "la.det(V)"
   ]
  },
  {
   "cell_type": "markdown",
   "metadata": {},
   "source": [
    "### <span style=\"color:blue\">Exercise 5: LU solve ($**$)</span> \n",
    "\n",
    "Write a function that solves a linear system $A\\pmb{x}=\\pmb{b}$ using the LU decomposition method.\n",
    "\n",
    "Hint: you can re-use the function you have written in lecture 6, or use the built-in function *linalg.lu* to compute the LU decomposition. Write code that performs the forward substitution and backward substitution. Comapare your result to  the one given by *linalg.solve*.\n"
   ]
  },
  {
   "cell_type": "markdown",
   "metadata": {},
   "source": [
    "### <span style=\"color:blue\">Exercise 6: Gauss-Seidel relaxation ($***$)</span>\n",
    "\n",
    "Convergence of the Gauss-Seidel method can be improved by a technique known\n",
    "as relaxation. The idea is to take the new value of x i as a weighted average of its previous value and the value predicted by the regular Gauss-Seidel iteration. \n",
    "\n",
    "The corresponding formula for the $k^{th}$ iteration of the algorithm and the $i^{th}$ row is:\n",
    "\n",
    "$$x_i^{(k)} = \\frac{\\omega}{A_{ii}}\\left(b_i- \\sum_{\\substack{j=1}}^{i-1} A_{ij}x_j^{(k)} - \\sum_{\\substack{j=i+1}}^n A_{ij}x_j^{(k-1)}\\right) + (1-\\omega)x_i^{(k-1)},\\quad  i=1,2,\\ldots, n.$$\n",
    "\n",
    "where the weight $\\omega$ is called the relaxation factor and is usually positive.\n",
    "\n",
    "- What does the algorithm give for $\\omega = 0$ ? for $\\omega = 1$ ? for $0 < \\omega < 1$ ? When $\\omega > 1$, the method is called \"over-relaxation\".\n",
    "- Write a function that solves a system with the relaxed Gauss-Seidel's algorithm, for a given $\\omega$.\n",
    "- Use this function to solve the system from Lecture 7,  for different values of $\\omega$. How many iterations are necessary to reach a tolerance of $10^{-6}$ for each value of $\\omega$ ?\n",
    "\n",
    "$\\omega$ cannot be determined beforehand for an arbitrary system, \n",
    "however, an estimate can be computed during run time. \n",
    "\n",
    "Let $\\Delta_x^{(k)} = | x^{(k)} - x^{(k-1)} |$ be the magnitude of the change in x during the $k^{th}$ iteration. \n",
    "If $k$ is sufficiently large (say $k \\geq 5$), it can be shown that an approximation of the optimal value of \\omega is:\n",
    "$$\n",
    "\\omega_{opt} \\approx \\frac{2}{1+\\sqrt{1-\\Delta x^{(k+1)} / \\Delta x^{(k)}}} \\,.\n",
    "$$\n",
    "\n",
    "The relaxed Gauss-Seidel algorithm can be summarised as follows:  \n",
    "Carry out $k$ iterations with $\\omega = 1$ (usually $k=10$ for big systems)  \n",
    "Record \t$\\Delta x^{(k)}$  \n",
    "Perform an additional iteration  \n",
    "Record \t$\\Delta x^{(k+1)}$  \n",
    "Compute $\\omega_{opt}$  \n",
    "Perform all subsequent iterations with $\\omega = \\omega_{opt}$\n",
    "\n",
    "\n",
    " - Modify previous function to compute automatically the relaxation parameter $\\omega$. Compute $\\omega_{opt}$ after $k=6$ iterations as the system is small.\n",
    " - Solve the previous system with this new function. What is the value of $\\omega$ ? How many iterations are necessary to reach a tolerance of $10^{-6}$ ?\n",
    " \n",
    " \n",
    "#### A bigger example\n",
    "\n",
    "Let's consider $A\\pmb{x}=\\pmb{b}$ where:\n",
    "\n",
    "$$\n",
    "A = \\begin{pmatrix}\n",
    "5 & -2 & 0 & 0 & \\cdots & 0 \\\\\n",
    "-2 & 5 & -2 & 0 & \\cdots & 0 \\\\\n",
    "0 & -2 & 5 & -2 & \\cdots & 0 \\\\\n",
    "\\vdots & & & \\ddots & & \\vdots \\\\ \n",
    " & & & & 5 & -2 \\\\\n",
    "0 & \\cdots & & & -2 & 5 \\\\ \n",
    "\\end{pmatrix}\n",
    "$$\n",
    "and\n",
    "$$\n",
    "b = \\left(0, 0, \\cdots 0, 1000  \\right)^T\n",
    "$$\n",
    "\n",
    " - Solve $A\\pmb{x}=\\pmb{b}$ using the relaxed Gauss-Seidel algorithm for $n=3000$. Compare the number of iterations with the algorithm without relaxation.\n"
   ]
  },
  {
   "cell_type": "code",
   "execution_count": 45,
   "metadata": {
    "collapsed": false
   },
   "outputs": [
    {
     "name": "stdout",
     "output_type": "stream",
     "text": [
      "iteration: 0    residual: 6.003332e+02\n",
      "iteration: 1    residual: 3.202659e+02\n",
      "iteration: 2    residual: 1.709957e+02\n",
      "iteration: 3    residual: 9.137503e+01\n",
      "iteration: 4    residual: 4.886453e+01\n",
      "iteration: 5    residual: 2.614779e+01\n",
      "iteration: 6    residual: 1.399940e+01\n",
      "iteration: 7    residual: 7.498646e+00\n",
      "iteration: 8    residual: 4.018161e+00\n",
      "iteration: 9    residual: 2.153874e+00\n",
      "iteration: 10    residual: 1.154897e+00\n",
      "iteration: 11    residual: 6.194133e-01\n",
      "1.3\n",
      "iteration: 12    residual: 3.322918e-01\n",
      "iteration: 13    residual: 1.782994e-01\n",
      "iteration: 14    residual: 9.568909e-02\n",
      "iteration: 15    residual: 5.136289e-02\n",
      "iteration: 16    residual: 2.757431e-02\n",
      "iteration: 17    residual: 1.480547e-02\n",
      "iteration: 18    residual: 7.950559e-03\n",
      "iteration: 19    residual: 4.269987e-03\n",
      "iteration: 20    residual: 2.293534e-03\n",
      "iteration: 21    residual: 1.232056e-03\n",
      "iteration: 22    residual: 6.619104e-04\n",
      "iteration: 23    residual: 3.556387e-04\n",
      "iteration: 24    residual: 1.910986e-04\n",
      "iteration: 25    residual: 1.026934e-04\n",
      "iteration: 26    residual: 5.519028e-05\n",
      "iteration: 27    residual: 2.966302e-05\n",
      "iteration: 28    residual: 1.594408e-05\n",
      "iteration: 29    residual: 8.570644e-06\n",
      "iteration: 30    residual: 4.607401e-06\n",
      "iteration: 31    residual: 2.476999e-06\n",
      "iteration: 32    residual: 1.331747e-06\n",
      "iteration: 33    residual: 7.160493e-07\n"
     ]
    }
   ],
   "source": [
    "import numpy as np\n",
    "import scipy.linalg as sl\n",
    "from math import sqrt\n",
    "from pprint import pprint\n",
    "\n",
    "\n",
    "def gauss_seidel(A, b, maxit=500, tol=1.e-6):\n",
    "    m, n = A.shape\n",
    "    x = np.zeros_like(b)\n",
    "    omega = 1.3\n",
    "    for k in range(maxit):\n",
    "        for i in range(m):\n",
    "            x[i] = omega/A[i,i] * (b[i] - np.dot(A[i,:i], x[:i]) - np.dot(A[i,i+1:], x[i+1:])) + (1-omega)*x[i]\n",
    "        residual = np.linalg.norm(np.dot(A, x) - b)\n",
    "        print(\"iteration: %d    residual: %e\" %(k,residual))\n",
    "        if (residual < tol): break\n",
    "        \n",
    "        if (k==10): res10 = residual\n",
    "        if (k==11): \n",
    "            res11 = residual\n",
    "#            omega = 2/(1+sqrt(1-res11/res10))\n",
    "            print omega\n",
    "    return x\n",
    "\n",
    "\n",
    "A = np.array([[4., -1., 0., 0.],\n",
    "             [-1., 4., -1., 0.],\n",
    "             [0., -1., 4., -1.],\n",
    "             [0. ,0. ,-1. ,4.]])\n",
    "b = np.array([0., 0., 0., 100.])\n",
    "\n",
    "\n",
    "A = np.array([[10., 2., 3., 5.],\n",
    "                 [1., 14., 6., 2.],\n",
    "                 [-1., 4., 16.,-4],\n",
    "                 [5. ,4. ,3. ,11.]])\n",
    "b = np.array([1., 2., 3., 4.])\n",
    "\n",
    "#gauss_seidel(A, b)\n",
    "\n",
    "n = 2000\n",
    "A = 5*np.eye(n)\n",
    "for i in range(n-1):\n",
    "    A[i,i+1] = -2.\n",
    "    A[i+1,i] = -2.\n",
    "b = np.zeros(n)\n",
    "b[n-1] = 1000.\n",
    "\n",
    "gauss_seidel(A, b);"
   ]
  },
  {
   "cell_type": "code",
   "execution_count": null,
   "metadata": {
    "collapsed": true
   },
   "outputs": [],
   "source": []
  }
 ],
 "metadata": {
  "kernelspec": {
   "display_name": "Python 2",
   "language": "python",
   "name": "python2"
  },
  "language_info": {
   "codemirror_mode": {
    "name": "ipython",
    "version": 2
   },
   "file_extension": ".py",
   "mimetype": "text/x-python",
   "name": "python",
   "nbconvert_exporter": "python",
   "pygments_lexer": "ipython2",
   "version": "2.7.13"
  }
 },
 "nbformat": 4,
 "nbformat_minor": 1
}
