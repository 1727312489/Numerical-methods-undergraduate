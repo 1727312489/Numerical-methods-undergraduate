{
 "cells": [
  {
   "cell_type": "markdown",
   "metadata": {},
   "source": [
    "# Numerical Methods\n",
    "\n",
    "## Lecture 7: Numerical Linear Algebra III\n",
    "\n",
    "### Exercise solutions"
   ]
  },
  {
   "cell_type": "code",
   "execution_count": 33,
   "metadata": {},
   "outputs": [],
   "source": [
    "%matplotlib inline\n",
    "import matplotlib.pyplot as plt\n",
    "\n",
    "import numpy as np\n",
    "import scipy.linalg as sl"
   ]
  },
  {
   "cell_type": "markdown",
   "metadata": {},
   "source": [
    "### <span style=\"color:blue\">Exercise 7.1: matrix norms</span>\n",
    "\n",
    "Write some code to explicitly compute the two matrix norms defined mathematically above and compare against the values found above using in-built scipy functions.\n",
    "\n",
    "Based on the above code and comments, what is the mathematical definition of the 1-norm and the 2-norm?\n"
   ]
  },
  {
   "cell_type": "code",
   "execution_count": 34,
   "metadata": {},
   "outputs": [
    {
     "name": "stdout",
     "output_type": "stream",
     "text": [
      "True\n",
      "True\n",
      "True\n"
     ]
    }
   ],
   "source": [
    "\n",
    "def frob(A):\n",
    "    m, n = A.shape\n",
    "    squsum = 0.\n",
    "    for i in range(m):\n",
    "        for j in range(n):\n",
    "            squsum += A[i,j]**2\n",
    "    return np.sqrt(squsum)\n",
    "\n",
    "\n",
    "def mars(A):\n",
    "    m, n = A.shape\n",
    "    maxarsum = 0.\n",
    "    for i in range(m):\n",
    "        arsum = np.sum(np.abs(A[i]))\n",
    "        maxarsum = arsum if arsum > maxarsum else maxarsum\n",
    "    return maxarsum\n",
    "\n",
    "\n",
    "A = np.array([[10., 2., 1.],\n",
    "                 [6., 5., 4.],\n",
    "                 [1., 4., 7.]])\n",
    "\n",
    "\n",
    "print(frob(A) == sl.norm(A,'fro') and mars(A) == sl.norm(A,np.inf))\n",
    "\n",
    "\n",
    "print(np.allclose(frob(A), sl.norm(A,'fro')))\n",
    "print(np.allclose(mars(A), sl.norm(A,np.inf)))"
   ]
  },
  {
   "cell_type": "markdown",
   "metadata": {},
   "source": [
    "### <span style=\"color:blue\">Exercise 7.2: Ill-conditioned matrix</span>\n",
    "\n",
    "Consider a range of small values for $\\epsilon$ and calculate the matrix determinant and condition number."
   ]
  },
  {
   "cell_type": "code",
   "execution_count": 35,
   "metadata": {},
   "outputs": [
    {
     "name": "stdout",
     "output_type": "stream",
     "text": [
      "0.0 singular\n",
      "0.0019999999999997797 [ 1501.5 -3000. ]\n",
      "0.0039999999999995595 [  751.5 -1500. ]\n",
      "0.005999999999999339 [  501.5 -1000. ]\n"
     ]
    }
   ],
   "source": [
    "A = np.array([[2.,1.],\n",
    "                 [2.,1.]])\n",
    "b = np.array([3.,0.])\n",
    "print(sl.det(A), 'singular')\n",
    "\n",
    "for i in range(3):\n",
    "    A[1,1] += 0.001\n",
    "    print(sl.det(A), sl.inv(A) @ b)"
   ]
  },
  {
   "cell_type": "markdown",
   "metadata": {},
   "source": [
    "### <span style=\"color:blue\">Exercise 7.3: Implement Gauss-Seidel's method.</span>\n",
    "\n",
    "Generalise the Jacobi code to solve the matrix problem using Gauss-Seidel's method."
   ]
  },
  {
   "cell_type": "code",
   "execution_count": 36,
   "metadata": {},
   "outputs": [
    {
     "data": {
      "image/png": "[encoded data removed]",
      "text/plain": [
       "<Figure size 432x288 with 1 Axes>"
      ]
     },
     "metadata": {
      "needs_background": "light"
     },
     "output_type": "display_data"
    },
    {
     "name": "stdout",
     "output_type": "stream",
     "text": [
      "Total number of iterations:  24\n",
      "[-0.16340811 -0.01532703  0.27335262  0.36893551]\n",
      "[-0.16340816 -0.01532706  0.27335264  0.36893555]\n"
     ]
    }
   ],
   "source": [
    "# this is the code/example from class\n",
    "A = np.array([[10., 2., 3., 5.],[1., 14., 6., 2.],[-1., 4., 16., -4],[5. ,4. ,3. ,11. ]])\n",
    "b = np.array([1., 2., 3., 4.])\n",
    "\n",
    "# an initial guess at the solution - here just a vector of zeros of length the number of rows in A\n",
    "x = np.zeros(A.shape[0]) \n",
    "\n",
    "# specify an iteration tolerance - our stopping criteria\n",
    "tol = 1.e-6 \n",
    "\n",
    "# specify an upper limit on the number of iterations - if we don't hit tolerance\n",
    "# then stop the algorithm, so that it doesn't go on for ever potentially\n",
    "it_max = 1000 \n",
    "\n",
    "# for later plotting let's start a list to store the residuals\n",
    "residuals=[] \n",
    "\n",
    "# now iterate\n",
    "for it in range(it_max):\n",
    "    x_new = np.zeros(A.shape[0])  # initialise the new solution vector\n",
    "    for i in range(A.shape[0]):\n",
    "        x_new[i] = (1./A[i, i]) * (b[i] \n",
    "                                   - np.dot(A[i, :i], x[:i]) \n",
    "                                   - np.dot(A[i, i + 1:], x[i + 1:]))\n",
    "\n",
    "    residual = sl.norm(A @ x - b)  # calculate the norm of the residual r=Ax-b for this latest guess\n",
    "    residuals.append(residual) # store it for later plotting\n",
    "    if (residual < tol): # if less than our required tolerance jump out of the iteration and end.\n",
    "        break\n",
    "\n",
    "    x = x_new # update old solution\n",
    "\n",
    "# plot the log of the residual against iteration number \n",
    "fig = plt.figure(figsize=(6, 4))\n",
    "ax1 = plt.subplot(111)\n",
    "ax1.semilogy(residuals, '.-') # plot the log of the residual against iteration number \n",
    "ax1.set_xlabel('Iteration')\n",
    "ax1.set_ylabel('Residual')\n",
    "ax1.set_title('Convergence plot')\n",
    "plt.show()\n",
    "\n",
    "# print out the number of iterations, \n",
    "# if this is it_max we know the algorithm didn't actually converge\n",
    "print('Total number of iterations: ', it)\n",
    "\n",
    "print(x_new) # our solution vector\n",
    "print(sl.inv(A) @ b)  # check against scipy"
   ]
  },
  {
   "cell_type": "code",
   "execution_count": 37,
   "metadata": {},
   "outputs": [],
   "source": [
    "# let's first turn Jacobi into a function\n",
    "\n",
    "def jacobi(A, b, maxit=500, tol=1.e-6):\n",
    "    m, n = A.shape\n",
    "    x = np.zeros(A.shape[0])\n",
    "    residuals = []\n",
    "    for k in range(maxit):\n",
    "        x_new = np.zeros(A.shape[0])\n",
    "        for i in range(m):\n",
    "            x_new[i] = (1./A[i, i]) * (b[i] \n",
    "                                       - np.dot(A[i, :i], x[:i]) \n",
    "                                       - np.dot(A[i, i + 1:], x[i + 1:]))\n",
    "        x = x_new # update old solution \n",
    "        residual = sl.norm(A@x - b)\n",
    "        residuals.append(residual)\n",
    "        if (residual < tol): break       \n",
    "    return x, residuals"
   ]
  },
  {
   "cell_type": "code",
   "execution_count": 38,
   "metadata": {},
   "outputs": [
    {
     "data": {
      "image/png": "[encoded data removed]",
      "text/plain": [
       "<Figure size 432x288 with 1 Axes>"
      ]
     },
     "metadata": {
      "needs_background": "light"
     },
     "output_type": "display_data"
    },
    {
     "name": "stdout",
     "output_type": "stream",
     "text": [
      "Total number of iterations:  24\n",
      "[-0.16340811 -0.01532703  0.27335262  0.36893551]\n",
      "[-0.16340816 -0.01532706  0.27335264  0.36893555]\n"
     ]
    }
   ],
   "source": [
    "# test it\n",
    "x, residuals = jacobi(A, b, maxit=500, tol=1.e-6)\n",
    "\n",
    "# plot the log of the residual against iteration number \n",
    "fig = plt.figure(figsize=(6, 4))\n",
    "ax1 = plt.subplot(111)\n",
    "ax1.semilogy(residuals, '.-') # plot the log of the residual against iteration number \n",
    "ax1.set_xlabel('Iteration')\n",
    "ax1.set_ylabel('Residual')\n",
    "ax1.set_title('Convergence plot')\n",
    "plt.show()\n",
    "\n",
    "# print out the number of iterations, \n",
    "# if this is it_max we know the algorithm didn't actually converge\n",
    "print('Total number of iterations: ', it)\n",
    "\n",
    "print(x_new) # our solution vector\n",
    "print(sl.inv(A) @ b)  # check against scipy"
   ]
  },
  {
   "cell_type": "code",
   "execution_count": 39,
   "metadata": {},
   "outputs": [],
   "source": [
    "# now a Gauss-Seidel function\n",
    "\n",
    "def gauss_seidel(A, b, maxit=500, tol=1.e-6):\n",
    "    m, n = A.shape\n",
    "    x = np.zeros(A.shape[0])\n",
    "    residuals = []\n",
    "    for k in range(maxit):\n",
    "        for i in range(m):\n",
    "            x[i] = (1./A[i, i]) * (b[i] \n",
    "                                   - np.dot(A[i,:i], x[:i]) \n",
    "                                   - np.dot(A[i,i+1:], x[i+1:])) \n",
    "        residual = sl.norm(A@x - b)\n",
    "        residuals.append(residual)\n",
    "        if (residual < tol): break\n",
    "        \n",
    "    return x, residuals"
   ]
  },
  {
   "cell_type": "code",
   "execution_count": 40,
   "metadata": {},
   "outputs": [
    {
     "name": "stdout",
     "output_type": "stream",
     "text": [
      "[-0.16340807 -0.01532701  0.27335259  0.36893548]\n",
      "[-0.16340812 -0.01532701  0.27335261  0.36893553]\n"
     ]
    },
    {
     "data": {
      "image/png": "[encoded data removed]",
      "text/plain": [
       "<Figure size 432x288 with 1 Axes>"
      ]
     },
     "metadata": {
      "needs_background": "light"
     },
     "output_type": "display_data"
    },
    {
     "name": "stdout",
     "output_type": "stream",
     "text": [
      "True\n",
      "True\n"
     ]
    }
   ],
   "source": [
    "A = np.array([[10., 2., 3., 5.],\n",
    "                 [1., 14., 6., 2.],\n",
    "                 [-1., 4., 16.,-4],\n",
    "                 [5. ,4. ,3. ,11.]])\n",
    "b = np.array([1., 2., 3., 4.])\n",
    "# an initial guess at the solution - here just a vector of zeros of length the number of rows in A\n",
    "x = np.zeros(A.shape[0]) \n",
    "\n",
    "tol = 1.e-6 # iteration tolerance\n",
    "it_max = 1000 # upper limit on iterations if we don't hit tolerance\n",
    "\n",
    "x_j, res_j = jacobi(A,b)\n",
    "x_gs, res_gs = gauss_seidel(A,b)\n",
    "print(x_j)\n",
    "print(x_gs)\n",
    "\n",
    "# plot the log of the residual against iteration number \n",
    "fig = plt.figure(figsize=(6, 4))\n",
    "ax1 = plt.subplot(111)\n",
    "ax1.semilogy(res_j,'k.-',label='Jacobi') # plot the log of the residual against iteration number \n",
    "ax1.semilogy(res_gs,'b.-',label='Gauss-Seidel')\n",
    "ax1.set_xlabel('Iteration')\n",
    "ax1.set_ylabel('Residual')\n",
    "ax1.set_title('Convergence plot')\n",
    "ax1.legend(loc='best')\n",
    "plt.show()\n",
    "\n",
    "# check our solutions agrees with multiplying through by the inverse matrix\n",
    "# [0] as our implemntations also return the residuals\n",
    "print(np.allclose(sl.inv(A)@b, jacobi(A, b)[0]))\n",
    "print(np.allclose(sl.inv(A)@b, gauss_seidel(A, b)[0]))\n"
   ]
  },
  {
   "cell_type": "code",
   "execution_count": null,
   "metadata": {},
   "outputs": [],
   "source": []
  }
 ],
 "metadata": {
  "celltoolbar": "Slideshow",
  "kernelspec": {
   "display_name": "Python 3",
   "language": "python",
   "name": "python3"
  },
  "language_info": {
   "codemirror_mode": {
    "name": "ipython",
    "version": 3
   },
   "file_extension": ".py",
   "mimetype": "text/x-python",
   "name": "python",
   "nbconvert_exporter": "python",
   "pygments_lexer": "ipython3",
   "version": "3.7.7"
  },
  "toc": {
   "base_numbering": 1,
   "nav_menu": {},
   "number_sections": false,
   "sideBar": false,
   "skip_h1_title": false,
   "title_cell": "Table of Contents",
   "title_sidebar": "Contents",
   "toc_cell": false,
   "toc_position": {
    "height": "calc(100% - 180px)",
    "left": "10px",
    "top": "150px",
    "width": "213.809px"
   },
   "toc_section_display": false,
   "toc_window_display": false
  }
 },
 "nbformat": 4,
 "nbformat_minor": 1
}
