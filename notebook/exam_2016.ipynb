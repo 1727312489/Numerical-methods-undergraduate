{
 "cells": [
  {
   "cell_type": "markdown",
   "metadata": {},
   "source": [
    "# 3.09 Numerical methods 1 exam - 14:00-16:00 26 April 2016"
   ]
  },
  {
   "cell_type": "markdown",
   "metadata": {},
   "source": [
    "# Test instructions\n",
    "\n",
    "* This test contains **5** questions each of which should be answered.\n",
    "* Write your program in a Python cell just under each question.\n",
    "* You can write an explanation of your solution as comments in your code.\n",
    "* In each case your solution program must fulfil all of the instructions. Please check the instructions carefully and double check that your program fulfils all of the given instructions.\n",
    "* Save your work regularly.\n",
    "* At the end of the test you should email your IPython notebook document (i.e. this document) to [Gerard Gorman](http://www.imperial.ac.uk/people/g.gorman) at <mailto:g.gorman@imperial.ac.uk> **and also** [Matthew Piggott](http://www.imperial.ac.uk/people/m.d.piggott) at\n",
    "<mailto:m.d.piggott@imperial.ac.uk>  "
   ]
  },
  {
   "cell_type": "markdown",
   "metadata": {},
   "source": [
    "## Question 1\n",
    "\n",
    "Given the data points\n",
    "\n",
    "|  x  |  y  |\n",
    "|-----|-----|\n",
    "| 0.1 | 0.3 |\n",
    "| 0.3 | 0.1 |\n",
    "| 1.0 | 0.2 |\n",
    "| 1.4 | 0.3 |\n",
    "| 2.8 | 0.7 |\n",
    "| 4.5 | 0.9 |\n",
    "\n",
    " 1. Calculate the Lagrange polynomial for these points. Plot both the Lagrange polynomial and the raw data points. <sub>[10 marks]</sub>\n",
    " 2. Fit a $3^{rd}$ order polynomial (cubic function) to fit a curve to the given data points. Plot the resulting polynomial function as well as the raw data points. <sub>[10 marks]</sub>"
   ]
  },
  {
   "cell_type": "markdown",
   "metadata": {},
   "source": [
    "## Question 2\n",
    "\n",
    "For this exercise, consider the system of linear equations\n",
    "\n",
    "\\begin{align*}\n",
    "  2x + -3y + 4z &= 5 \\\\\n",
    "  x -  y + 5z &= 0 \\\\\n",
    "  -x + 2y + 7z &= -2\n",
    "\\end{align*}\n",
    "\n",
    " 1. Rewriting the above equation in matrix form, $\\pmb{A} \\pmb{x} = \\pmb{b}$, show that $\\pmb{A}$ has an inverse and therefore the above system as a solution. <sub>[5 marks]</sub>\n",
    " 2. Write a function that takes a matrix $\\pmb{A}$ and a vector $\\pmb{b}$ and converts it into upper-triangular form. <sub>[5 marks]</sub>\n",
    " 3. Write a python function that solves for $\\pmb{x}$ given $\\pmb{A}$ and $\\pmb{b}$ as inputs. This python function should call the function you developed in the previous question, 2.2. <sub>[5 marks]</sub>\n",
    " 4. Use `numpy.dot(linalg.inv(A),b)` to verify your solution. <sub>[5 marks]</sub>"
   ]
  },
  {
   "cell_type": "markdown",
   "metadata": {},
   "source": [
    "## Question 3\n",
    "\n",
    "Consider the function $f(x) = \\cos(x)$.\n",
    " 1. Write a function that computes the derivative $df/dx$ using central differencing. The interface to your function should look like *central_diff(f, x, h)* where $f$ is the function to be differentiated, $x$ is the position at which the derivative should be estimated, and $h (= \\Delta x)$ is the step size. <sub>[10 marks]</sub>\n",
    " 2. Use this function to compute the derivative at $x = 2.5$ for decreasing values of $\\Delta x$. Start with $\\Delta x=1.2$ and keep halving until the relative difference between solutions falls below $1.0^{-6}$ Plot the convergence of the method, i.e. plot $\\Delta x$ against the absolute difference between the analytical value and the finite difference approximation. <sub>[10 marks]</sub>"
   ]
  },
  {
   "cell_type": "markdown",
   "metadata": {},
   "source": [
    "## Question 4\n",
    "\n",
    " 1. Write a Python function that integrates a given function using the trapezoidal rule. The function should look like *trapezoid_rule(start_point, end_point, f, atol=1.0e-6)* where *start_point* and *end_point* are the bound of the integral, *f* is the function to be integrated and *atol* is the target error in the integral (approximate the error as the absolute difference between successive estimates of the integral for increasing numbers of segments). <sup>[10 marks]</sup>\n",
    " 2. Use this function to evaluate the integral $\\int_0^\\pi \\sqrt{x}\\cos(x) dx$ to two decimal places only. How many subdivisions are needed to achieve this result? <sup>[10 marks]</sup>"
   ]
  },
  {
   "cell_type": "markdown",
   "metadata": {},
   "source": [
    "## Question 5\n",
    "\n",
    "Consider the function:\n",
    "$$f(x) = \\dfrac{1}{(x − 0.3)^2 + 0.01} - \\dfrac{1}{(x − 0.8)^2 + 0.04}$$.\n",
    "\n",
    " 1. Write a general Python function that computes the root of a function using the bisection method. The function interface should look like *bisection(f, lower_bound, upper_bound, atol=1.0E-4, max_iterations=100)* where *f* is the function to whose root is sought, *lower_bound* and the *upper_bound* are two values that bracket the root, *atol* is the target absolute error in the solution and *max_iterations* is the maximum number of iterations to be executed. The function should return as a tuple the root and number of iterations required to achieve the specified tolerance. <sub>[5 marks]</sub>\n",
    " 2. Write a general Python function that computes the root of a function using the Newton-Raphson method. The function interface should look like *newton(fxn, x0, atol=1.0E-4, max_iterations=100)* and return as a tuple the root and number of iterations required to achieve the specified tolerance. For this you should evaluate numerically the first derivative of $f(x)$ using finite differencing. <sub>[5 marks]</sub>\n",
    " 3. Using both approaches, calculate the root of $f(x)$ and the number of iterations required in both cases. <sub>[5 marks]</sub>\n",
    " 4. Give an example where the Newton-Raphson method will fail in this case and explain why. <sub>[5 marks]</sub>"
   ]
  }
 ],
 "metadata": {
  "kernelspec": {
   "display_name": "Python 2",
   "language": "python",
   "name": "python2"
  },
  "language_info": {
   "codemirror_mode": {
    "name": "ipython",
    "version": 2
   },
   "file_extension": ".py",
   "mimetype": "text/x-python",
   "name": "python",
   "nbconvert_exporter": "python",
   "pygments_lexer": "ipython2",
   "version": "2.7.13"
  }
 },
 "nbformat": 4,
 "nbformat_minor": 0
}
