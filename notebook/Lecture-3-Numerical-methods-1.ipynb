{
 "cells": [
  {
   "cell_type": "markdown",
   "metadata": {},
   "source": [
    "# Numerical Methods 1\n",
    "### [Gerard Gorman](http://www.imperial.ac.uk/people/g.gorman), [Matthew Piggott](http://www.imperial.ac.uk/people/m.d.piggott), [Nicolas Barral](http://www.imperial.ac.uk/people/n.barral)"
   ]
  },
  {
   "cell_type": "markdown",
   "metadata": {},
   "source": [
    "# Lecture 3: Numerical integration\n",
    "\n",
    "## Learning objectives:\n",
    "\n",
    "* Be able to compute the integral of a function numerically in 1D\n",
    "* Implement several simple algorithms\n",
    "* Understand the concept of order of algorithm and how to improve accuracy\n"
   ]
  },
  {
   "cell_type": "markdown",
   "metadata": {},
   "source": [
    "## Performing numerical integration"
   ]
  },
  {
   "cell_type": "markdown",
   "metadata": {},
   "source": [
    "*Quadrature* is the term used for numerical evaluation of a definite integral, or put more simply, finding the area under a curve. \n",
    "\n",
    "If we have a function $f(x)$ defined between $a$ and $b$, the\n",
    "[integral](http://en.wikipedia.org/wiki/Integral) is defined as \n",
    "\n",
    "\\begin{equation}\n",
    "F\\left ( x \\right ) = \\int_{a}^{b} f\\left ( x \\right )dx\n",
    "\\end{equation}\n",
    "\n",
    "and its result is the area under the curve. This operation is an essential part of calculus, being the inverse of differentiation. \n",
    "\n",
    "Knowing the value of the area under a curve is important to all kinds of applications. However, many expressions are difficult to integrate analytically, or the function which governs their shape is unknown, and we only have data. Therefore, no course on numerical methods is complete without discussing the different methods of numerical integration. \n",
    "\n",
    "A fundamental property of a definite integral is that\n",
    "\n",
    "\\begin{equation}\n",
    "\\int_{a}^{b} f\\left ( x \\right )dx = \\int_{a}^{c} f\\left ( x \\right )dx + \\int_{c}^{b} f\\left ( x \\right )dx\n",
    "\\end{equation}\n",
    "\n",
    "where $c$ is a point between $a$ and $b$. \n",
    "\n",
    "Therefore, we can equally well perform our integration by splitting the function up into a number of smaller intervals and summing the result of each individual integration over the interval.\n",
    "\n",
    "If the function is complicated or unknown, we can approximate its value within each of these intervals -- we have now performed a numerical *discretisation* of the function and in this case our associated numerical method to compute the integral is terms a *quadrature* or *numerical integration* method.\n",
    "\n",
    "As with previous lectures, the choice of approximation method, as well as the size of the intervals, will control the error.  Better methods as well as smaller (i.e. more to cover our total interval of interest: $[a,b]$) sub-intervals will lead to lower errors, but will cost more.\n",
    "\n",
    "Here the following quadrature methods will be covered in the context of a simple function:\n",
    "\n",
    "* Midpoint rule\n",
    "* Trapezoid rule\n",
    "* Simpson's rule\n",
    "* Composite Simpson's rule\n",
    "* Weddle's rule."
   ]
  },
  {
   "cell_type": "markdown",
   "metadata": {},
   "source": [
    "## Integration example\n",
    "Let's begin with a simple function to demonstrate the different methods of numerical integration:\n",
    "\n",
    "\\begin{equation}\n",
    "f\\left ( x \\right ) = \\sin \\left ( x \\right ),\n",
    "\\end{equation}\n",
    "\n",
    "and assume that we want to know what the area under the sin function between 0 and $\\pi$. \n",
    "\n",
    "The integral of $\\sin \\left ( x \\right )$ is $-\\cos \\left ( x \\right )$ (plus a constant which drops out as soon as we perform a *definite* integral), so we can integrate it ourselves by hand to find the true area under the curve:\n",
    "\n",
    "\\begin{equation}\n",
    "F\\left ( x \\right ) =  \\int_{0}^{\\pi} \\sin \\left ( x \\right ) = \\left [ -\\cos\\left ( x \\right )+ C \\right ]_{0}^{\\pi} =-\\cos\\left ( \\pi \\right ) + \\cos\\left ( 0 \\right ) = 2.\n",
    "\\end{equation}\n",
    "\n",
    "Let's start by plotting the function between these points."
   ]
  },
  {
   "cell_type": "code",
   "execution_count": 1,
   "metadata": {},
   "outputs": [
    {
     "name": "stdout",
     "output_type": "stream",
     "text": [
      "Populating the interactive namespace from numpy and matplotlib\n"
     ]
    },
    {
     "data": {
      "image/png": "[encoded data removed]",
      "text/plain": [
       "<matplotlib.figure.Figure at 0x10dc70a20>"
      ]
     },
     "metadata": {},
     "output_type": "display_data"
    }
   ],
   "source": [
    "%pylab inline\n",
    "\n",
    "# Get the value of pi from numpy and generate equally spaced values from 0 to pi.\n",
    "x = linspace(0,np.pi,100) \n",
    "\n",
    "# Calculate sin at these points.\n",
    "y = sin(x) \n",
    "\n",
    "# Set x axis limits between 0 and pi.\n",
    "xlim([0,np.pi]) \n",
    "\n",
    "# Label axis.\n",
    "xlabel('x')\n",
    "ylabel('sin(x)')\n",
    "\n",
    "# Overlay a grid.\n",
    "grid(True)\n",
    "\n",
    "plot(x, y)\n",
    "show()"
   ]
  },
  {
   "cell_type": "markdown",
   "metadata": {},
   "source": [
    "Now let's investigate the different quadrature rules, finding the area under the curve and seeing how it differs from the true area which we know is 2."
   ]
  },
  {
   "cell_type": "markdown",
   "metadata": {},
   "source": [
    "## Rule 1: Midpoint rule\n",
    "\n",
    "The *midpoint rule* is the simplest quadrature rule. For reasons you will see below it is sometimes also called the *rectangle method*.\n",
    "\n",
    "Let $h = b - a$ be the length of *one smaller sub-interval* within the larger interval we want to compute the total integral over. \n",
    "\n",
    "The midpoint rule, $M$, approximates the integral over this sub-interval by the area of a rectangle, with base of length $h$ and  height of the value of $f(x)$ at the midpoint of that interval (i.e. at $x=(a+b)/2$):\n",
    "\n",
    "\\begin{equation}\n",
    "M = hf \\left ( \\frac {a+b} {2} \\right )\n",
    "\\end{equation}\n",
    "\n",
    "Note that in what follows we assume that we have been given the function $f(\\cdot)$ such that we can evaluate it anywhere. However, this comes at a cost and so in our quadrature methods we want good accuracy without excessive numbers of function evaluations.\n",
    "\n",
    "The result of the integration over the entire interval of interest, is then just the sum of the integrals over all the sub-intervals, i.e. the sum of the areas of all the small rectanges. \n",
    "\n",
    "A complex example looks like this, where the red line shows the original function we wish to compute the integral of, and the blue rectangles *approximate* the area under that function for a number of sub-intervals:\n",
    "\n",
    "<img src=\"http://upload.wikimedia.org/wikipedia/commons/thumb/2/26/Integration_rectangle.svg/340px-Integration_rectangle.svg.png\" width=\"600\">\n",
    "\n",
    "Clearly the sum of the areas of all the rectanges provides an estimate of the true integral.\n",
    "\n",
    "[Note that the SciPy module features many different integration functions, and you can find thorough documentation for these functions (including methods not covered in this course) [here](http://docs.scipy.org/doc/scipy/reference/integrate.html). This library does not contain a function for the midpoint rule but it is trivial to create our own.]"
   ]
  },
  {
   "cell_type": "code",
   "execution_count": 2,
   "metadata": {},
   "outputs": [],
   "source": [
    "def midpoint_rule(start_point, end_point, function, number_of_bins=10):\n",
    "    # First, check how big each bin needs to be. Bin is just another word for rectangle.\n",
    "    bin_size = float(end_point - start_point)/number_of_bins\n",
    "    \n",
    "    # To make sure our midpoint rule function works as expected and doesn't output garbage accidentally,\n",
    "    # let's assert that there are more than 0 bins, and that the number of bins is a whole number\n",
    "    assert bin_size > 0\n",
    "    assert type(number_of_bins) == int\n",
    "    # By doing this, the function will give an error if either of these are not true,\n",
    "    # avoiding problems later. This is a neat alternative to a try-except loop.\n",
    "    # In programming it is always good to know more than one way of doing things!\n",
    "    \n",
    "    # Create the variable to contain the sum of all the areas\n",
    "    running_total = 0.0\n",
    "    # Find the first midpoint - the centre point of the base of the rectangle\n",
    "    mid = start_point + (bin_size/2.0)\n",
    "    \n",
    "    # Loop to create each rectangle \n",
    "    while (mid < end_point):\n",
    "        # Find the area of the current rectangle and add it to the running total\n",
    "        running_total += bin_size * function(mid)  # this involves an evaluation of the function at the sub-interval midpoint\n",
    "        # Move the midpoint up to the next centre of the bin\n",
    "        mid += bin_size\n",
    "    \n",
    "    # Return our running total result\n",
    "    return running_total"
   ]
  },
  {
   "cell_type": "markdown",
   "metadata": {},
   "source": [
    "Now let's test the midpoint function. "
   ]
  },
  {
   "cell_type": "code",
   "execution_count": 3,
   "metadata": {},
   "outputs": [
    {
     "name": "stdout",
     "output_type": "stream",
     "text": [
      "The exact area found by direct integration = 2\n",
      "Area 1 rectangle(s) = 3.14159 (error=1.14159)\n",
      "Area 2 rectangle(s) = 2.22144 (error=0.221441)\n",
      "Area 10 rectangle(s) = 2.00825 (error=0.00824841)\n",
      "Area 100 rectangle(s) = 2.00008 (error=8.22491e-05)\n",
      "Area 1000 rectangle(s) = 2 (error=8.22467e-07)\n"
     ]
    }
   ],
   "source": [
    "print(\"The exact area found by direct integration = 2\")\n",
    "for i in (1, 2, 10, 100, 1000):\n",
    "    area = midpoint_rule(0, np.pi, sin, i)\n",
    "    print(\"Area %d rectangle(s) = %g (error=%g)\"%(i, area, abs(area-2)))"
   ]
  },
  {
   "cell_type": "markdown",
   "metadata": {},
   "source": [
    "With one rectangle, we are simply finding the area of a box of shape $\\pi \\times$ 1 ($\\pi$ is the width of the rectangle and $1$ is the value of the function evaluated at the midpoint $\\pi/2$), so of course the result is $\\pi$. \n",
    "\n",
    "As we increase the number of sub-intervals, or rectangles, we split the function up by, we increase the accuracy of our area.\n",
    "\n",
    "<span style=\"color:blue\">Exercise:  Based on how the error decreases as we increase the number of rectangles (from 10 to 100 to 1000), what can you estimate as the order of accuracy of this method?</span>\n",
    "\n",
    "The simplicity of this method is its weakness, as rectangles are rarely a good approximation for the shape of a smooth function. \n",
    "\n",
    "We want to use as few shapes as possible to approximate our function, because each additional rectangle is one extra time round the loop, which includes its own operations in addition to additional evaluations of the function, hence increases the overall processing time. \n",
    "\n",
    "Instead, let's try another shape that follows the profile a little better ..."
   ]
  },
  {
   "cell_type": "markdown",
   "metadata": {},
   "source": [
    "## Rule 2: Trapezoid rule\n",
    "\n",
    "If we change the shape of the rectangle for a trapezoid (the top of the shape is now a linear line approximating the shape of the function, rather than the constant used in the midpoint rule), we arrive at the trapezoid, or trapezoidal, rule. \n",
    "\n",
    "The trapezoid rule approximates the integral by the area of a trapezoid with base $h$ and the left- and right-hand-sides equal to the vaules of the function at the two end points.  In this case the area of the shape, $T$, approximating the integral over one sub-interval, is given by\n",
    "\n",
    "\\begin{equation}\n",
    "T = h \\left( \\frac {f\\left ( a\\right ) + f \\left (b \\right )} {2} \\right).\n",
    "\\end{equation}\n",
    "\n",
    "For our pictorial example used above the approximation looks like it should be more accurate than the midpoint rule:\n",
    "\n",
    "<img src=\"http://upload.wikimedia.org/wikipedia/commons/thumb/0/03/Integration_trapezoid.svg/340px-Integration_trapezoid.svg.png\" width=\"600\">\n",
    "\n",
    "the tops of the shapes (now trapezoids) are approximating the variation of the function with a linear function, rather than a flat (constant) function.  This looks like it should give more accurate results, but see below.\n",
    "\n",
    "[Note that numpy has a function for the trapezoid rule, <a href=\"http://docs.scipy.org/doc/numpy/reference/generated/numpy.trapz.html\">numpy.trapz</a>, but we'll make our own that works in a similar way to our midpoint rule function.]"
   ]
  },
  {
   "cell_type": "markdown",
   "metadata": {},
   "source": [
    "## <span style=\"color:blue\">Exercise 3.1: Complete the implementation of the trapezoid rule below</span>"
   ]
  },
  {
   "cell_type": "code",
   "execution_count": null,
   "metadata": {},
   "outputs": [],
   "source": [
    "def trapezoid_rule(start_point, end_point, function, number_of_bins=10):\n",
    "    \n",
    "    bin_size = float(end_point - start_point)/number_of_bins\n",
    "    \n",
    "    assert bin_size > 0\n",
    "    assert type(number_of_bins) == int\n",
    "    \n",
    "    running_total = 0.0\n",
    "    \n",
    "    # Loop to create each trapezoid \n",
    "    for i in range(number_of_bins): # note this function takes a slightly different approach to achieve the same thing as above\n",
    "    \n",
    "    \n",
    "    \n",
    "    \n",
    "    # Add your code here\n",
    "    \n",
    "    \n",
    "    \n",
    "    \n",
    "        \n",
    "    #Return our running total result\n",
    "    return running_total"
   ]
  },
  {
   "cell_type": "markdown",
   "metadata": {},
   "source": [
    "and test the function in a similar way:"
   ]
  },
  {
   "cell_type": "code",
   "execution_count": null,
   "metadata": {
    "collapsed": true
   },
   "outputs": [],
   "source": [
    "print(\"The exact area found by direct integration = 2\")\n",
    "for i in (1, 2, 10, 100, 1000):\n",
    "    area = trapezoid_rule(0, np.pi, sin, i)\n",
    "    print(\"Area %d rectangle(s) = %g (error=%g)\"%(i, area, abs(area-2)))"
   ]
  },
  {
   "cell_type": "markdown",
   "metadata": {},
   "source": [
    "You should have found the following errors:\n",
    "\n",
    "`The area found by direct integration = 2`\n",
    "\n",
    "`Area 1 rectangle(s) = 1.92367e-16 (error=2)`\n",
    "\n",
    "`Area 2 rectangle(s) = 1.5708 (error=0.429204)`\n",
    "\n",
    "`Area 10 rectangle(s) = 1.98352 (error=0.0164765)`\n",
    "\n",
    "`Area 100 rectangle(s) = 1.99984 (error=0.000164496)`\n",
    "\n",
    "`Area 1000 rectangle(s) = 2 (error=1.64493e-06)`"
   ]
  },
  {
   "cell_type": "markdown",
   "metadata": {},
   "source": [
    "## Error analysis\n",
    "\n",
    "We can see a few differences compared to the midpoint rule. \n",
    "\n",
    "In this particular case of half a sine wave, the trapezoid rule always *under-estimates* the area, whereas the midpoint rule *over-estimates*. The result for finding the integral of $\\sin$ with only one triangle is very small, because that trapezoid has almost no height. \n",
    "\n",
    "Perhaps most surprisingly, the midpoint rule is more accurate than the trapezoid rule - this is not obvious from the discussions and the images above.\n",
    "\n",
    "The accuracy of a quadrature rule is predicted by examining its behaviour in practice with *polynomials*. **The order of a rule is the degree of the lowest degree polynomial that the rule does not integrate exactly.** \n",
    "\n",
    "If a quadrature rule of order $p$ is used to integrate a smooth function over an interval of size $h$, then Taylor series analysis shows the error is proportional to $h^p$. \n",
    "\n",
    "Both the midpoint and trapezoid rules are exact for constant and linear functions, but are not exact for quadratics. Therefore, they have order two (as we saw above in terms of how their errors reduced with smaller $h$). \n",
    "\n",
    "<span style=\"color:blue\">Exercise:  It's obvious why this is the case for the trapezoid rule, but why is it the case for the simpler midpoint rule?</span>\n",
    "\n",
    "For the \"concave-down\" (half of a sine wave) function we chose above, notice that the trapezoidal rule will consistently underestimate the area under the curve. While the mid-point rule will have parts of each rectangle above and below the curve, hence to a certain extent the errors will cancel each other out. This is why for this example the errors in the mid-point rule turn out to be approximately half those in the trapezoidal rule.  While this turns out to be *generally* true for smooth functions, we can always come up with (counter) examples where the trapezoid rule will win (can you think of an example?).\n",
    "\n",
    "Taylor series analysis can be used (like last week for derivative approximation) to formally construct upper bounds on the quadrature error for both methods, but for us it will be sufficient to just consider an example.  We know analytically that\n",
    "\n",
    "\\begin{equation}\n",
    "\\int_{0}^{1} x^{2}dx = \\left.\\frac{1}{3}x^3\\right|_0^1=\\frac {1}{3}\n",
    "\\end{equation}\n",
    "\n",
    "Numerically, the midpoint rule gives\n",
    "\n",
    "\\begin{equation}\n",
    "M = 1 \\left(\\frac {1}{2}\\right)^{2} = \\frac {1}{4}\n",
    "\\end{equation}\n",
    "\n",
    "while the trapezoid rule gives\n",
    "\n",
    "\\begin{equation}\n",
    "T = 1 \\frac {0+1^{2}}{2} = \\frac {1}{2}\n",
    "\\end{equation}\n",
    "\n",
    "The error for $M$ is 1/12, while the error for $T$ is -1/6. Therefore, the midpoint rule is twice as accurate as the trapezoid rule.  This is the case for this simple example, and we see from the error numbers printed above that it is approximately true also for the sine case.\n"
   ]
  },
  {
   "cell_type": "markdown",
   "metadata": {},
   "source": [
    "### Rule 3: Simpson's rule\n",
    "\n",
    "Knowing the error estimates from the two rules explored so far allows us to combine them to create a new quadrature rule, more accurate than either one separately. \n",
    "\n",
    "Suppose $S$ indicates an unknown, but more accurate, estimate of the integral over an interval.  Then from above as $T$ has an error  approximately -2 times the error in $M$, the following relation must hold approximately:\n",
    "\n",
    "\\begin{equation}\n",
    "S-T \\approx -2 \\left ( S-M\\right )\n",
    "\\end{equation}\n",
    "\n",
    "We can solve this for $S$ in order to provide a more accurate estimate of the integral:\n",
    "\n",
    "\\begin{equation}\n",
    "S = \\frac{2}{3}M + \\frac{1}{3}T\n",
    "\\end{equation}\n",
    "\n",
    "This estimate is usually more accurate than either $M$ or $T$ alone. \n",
    "\n",
    "The resulting quadrature method is known as [Simpson's rule](http://en.wikipedia.org/wiki/Simpson%27s_rule). \n",
    "\n",
    "An alternate derivation of the same rule involves fitting a *quadratic function* (rather than the constant and linear already considered) that interpolates the integral at the two end points of the interval, $a$ and $b$, as well as at the midpoint, $c = \\left ( a+b\\right )/2$, and calculating the integral under that polynomial approximation.\n",
    "\n",
    "In both cases you arrive at the rule:\n",
    "\n",
    "\\begin{equation}\n",
    "S = \\frac{h}{6}\\left ( f \\left ( a\\right ) + 4f \\left ( c\\right ) + f\\left ( b\\right )\\right )\n",
    "\\end{equation}\n",
    "\n",
    "This expression now integrates up to cubics exactly, so it is of order 4. \n",
    "\n",
    "It looks like a much closer fit to the function:\n",
    "\n",
    "<img src=\"http://upload.wikimedia.org/wikipedia/commons/5/50/Integration_simpson.png\" width=\"600\">\n",
    "\n",
    "Let's make a function to test it out..."
   ]
  },
  {
   "cell_type": "markdown",
   "metadata": {},
   "source": [
    "## <span style=\"color:blue\">Exercise 3.2: Implementing Simpson's rule</span>\n",
    "\n",
    "Complete an implementation of Simpson's rule and test it on our sine function."
   ]
  },
  {
   "cell_type": "code",
   "execution_count": null,
   "metadata": {},
   "outputs": [],
   "source": [
    "def simpsons_rule(start_point, end_point, function, number_of_bins=10):\n",
    "\n",
    "    \n",
    "    # Add your code here!\n",
    "    \n",
    "    "
   ]
  },
  {
   "cell_type": "code",
   "execution_count": null,
   "metadata": {
    "collapsed": true
   },
   "outputs": [],
   "source": [
    "print(\"The area found by direct integration = 2\")\n",
    "for i in (1, 2, 10, 100, 1000):\n",
    "    area = simpsons_rule(0, np.pi, sin, i)\n",
    "    print(\"Area %d rectangle(s) = %g (error=%g)\"%(i, area, abs(area-2)))"
   ]
  },
  {
   "cell_type": "markdown",
   "metadata": {},
   "source": [
    "You should find:\n",
    "\n",
    "`The area found by direct integration = 2`\n",
    "\n",
    "`Area 1 rectangle(s) = 2.0944 (error=0.0943951)`\n",
    "\n",
    "`Area 2 rectangle(s) = 2.00456 (error=0.00455975)`\n",
    "\n",
    "`Area 20 rectangle(s) = 2 (error=4.23093e-07)`\n",
    "\n",
    "`Area 200 rectangle(s) = 2 (error=4.228e-11)`\n",
    "\n",
    "`Area 2000 rectangle(s) = 2 (error=2.22045e-15)`"
   ]
  },
  {
   "cell_type": "markdown",
   "metadata": {},
   "source": [
    "For this simple function you should find far smaller errors, and which drop much more rapidly with smaller $h$ (or more sub-intervals).\n"
   ]
  },
  {
   "cell_type": "markdown",
   "metadata": {},
   "source": [
    "## Rule 4: Composite Simpson's Rule\n",
    "\n",
    "Let's take our calculations another step further. \n",
    "\n",
    "Previously, we have considered $a$ at the start of the interval, and $b$ at the end, with $c$ at the mid point. \n",
    "\n",
    "Instead, let's consider [a,c] and [c,b] as two intervals and split them up into even smaller subintervals, by making $d$ and $e$ the midpoints of these subintervals, where clearly $d = \\left ( a+c\\right )/2$, and $e = \\left( c+b\\right )/2$. \n",
    "\n",
    "If we apply Simpson's rule to each of the smaller subintervals, we obtain a rule over the larger $\\left[a,b\\right]$ that now takes the form:\n",
    " \n",
    "\\begin{equation}\n",
    "S_2 = \\frac{h}{12}\\left ( f \\left ( a\\right ) + 4f \\left ( d\\right ) + 2f\\left ( c\\right ) + 4f \\left ( e\\right ) + f \\left ( b\\right )\\right )\n",
    "\\end{equation}\n",
    "\n",
    "This provides the same result as applying the standard Simpson's rule over the two intervals and summing, but notice that we have saved an evaluation of $f(c)$.\n",
    "\n",
    "This is known as the [Composite Simpson's rule](http://en.wikipedia.org/wiki/Simpson%27s_rule#Composite_Simpson.27s_rule), an example of a *composite* quadrature rule as it is a method that subdivides each interval. \n",
    "\n",
    "We finally don't need to write our own function, as scipy includes a function for the Composite Simpson's rule, [simps](http://docs.scipy.org/doc/scipy/reference/generated/scipy.integrate.simps.html). Since we have written functions above, let's make another one so we know it works in the same way as the others, so we can be sure our results are comparable."
   ]
  },
  {
   "cell_type": "code",
   "execution_count": null,
   "metadata": {},
   "outputs": [],
   "source": [
    "def simpsons_composite_rule(start_point, end_point, function, number_of_bins=10):\n",
    "    \n",
    "    bin_size = float(end_point - start_point)/number_of_bins\n",
    "    \n",
    "    assert bin_size > 0\n",
    "    assert type(number_of_bins) == int\n",
    "    \n",
    "    running_total = 0.0\n",
    "    \n",
    "    #Loop to create each shape \n",
    "    for i in range(number_of_bins):\n",
    "        #Find a, d, c, e, and b\n",
    "        this_bin_start = start_point + bin_size * (i)\n",
    "        this_bin_quarter = this_bin_start + bin_size*1./4\n",
    "        this_bin_mid = this_bin_start + bin_size*2./4\n",
    "        this_bin_three_quarter = this_bin_start + bin_size*3./4\n",
    "        this_bin_end = this_bin_start + bin_size\n",
    "        #Calculate the rule and add to running total. \n",
    "        running_total += (bin_size/12)*float(function(this_bin_start)+4*function(this_bin_quarter)\n",
    "                                             +2*function(this_bin_mid)+4*function(this_bin_three_quarter)\n",
    "                                             +function(this_bin_end))\n",
    "        \n",
    "    #Return our running total result\n",
    "    return running_total"
   ]
  },
  {
   "cell_type": "code",
   "execution_count": null,
   "metadata": {},
   "outputs": [],
   "source": [
    "print(\"The area found by direct integration = 2\")\n",
    "for i in (1, 2, 10, 100, 1000):\n",
    "    area = simpsons_composite_rule(0, np.pi, sin, i)\n",
    "    print(\"Area %d rectangle(s) = %g (error=%g)\"%(i, area, abs(area-2)))"
   ]
  },
  {
   "cell_type": "markdown",
   "metadata": {},
   "source": [
    "This is a slight improvement for a simple function like $\\sin$, but will be much more of an improvement for functions which oscillate more, in a relative sense comapred to the size of our bins. "
   ]
  },
  {
   "cell_type": "markdown",
   "metadata": {},
   "source": [
    "## Rule 5: Weddle's rule\n",
    "\n",
    "Now we are on our final rule... \n",
    "\n",
    "Given that $S$ and $S_2$ approximate the same integral, their difference can be used to estimate the error:\n",
    "\n",
    "\\begin{equation}\n",
    "E = \\left ( S_2 - S \\right)\n",
    "\\end{equation}\n",
    "\n",
    "Therefore, we can combine these rules to make an *even more* accurate approximation. \n",
    "\n",
    "Both of the rules are of *order four*, but the $S_2$ interval size is effectively half the $S$ step size, so we would expect $S_2$ to be roughly $2^4=16$ times as accurate. Let's call this super accurate rule $Q$, and we can find it by solving:\n",
    "\n",
    "\\begin{equation}\n",
    "Q - S = 16 \\left ( Q - S_2 \\right )\n",
    "\\end{equation}\n",
    "\n",
    "resulting in:\n",
    "\n",
    "\\begin{equation}\n",
    "Q = S_2 + \\frac {\\left (S_2 - S \\right )}{15} \n",
    "\\end{equation}\n",
    "\n",
    "This is known as Weddle's rule or the extrapolated Simpson's rule, because it uses two different values of $h$ and *extrapolates* towards $h = 0$. \n",
    "\n",
    "Making a function of this is easy as we just call our other two Simpson functions."
   ]
  },
  {
   "cell_type": "markdown",
   "metadata": {},
   "source": [
    "## <span style=\"color:blue\">Exercise 3.3: Implementing Weddle's rule</span>\n",
    "\n",
    "Write a function which implements Weddle's rule by the appropriate calls to the simpsons and simpsons_composite functions written above."
   ]
  },
  {
   "cell_type": "code",
   "execution_count": null,
   "metadata": {},
   "outputs": [],
   "source": [
    "def weddles_rule(  .....\n",
    "                 \n",
    "                 \n",
    "                 \n",
    "                 \n",
    "                 "
   ]
  },
  {
   "cell_type": "code",
   "execution_count": null,
   "metadata": {
    "collapsed": true
   },
   "outputs": [],
   "source": [
    "print(\"The area found by direct integration = 2\")\n",
    "for i in (1, 2, 10, 100, 1000):\n",
    "    area = weddles_rule(0, np.pi, sin, i)\n",
    "    print(\"Area with %d rectangle(s) = %g (error=%g)\"%(i, area, abs(area-2)))"
   ]
  },
  {
   "cell_type": "markdown",
   "metadata": {},
   "source": [
    "You should find:\n",
    "\n",
    "`The area found by direct integration = 2`\n",
    "\n",
    "`Area with 1 rectangle(s) = 1.99857 (error=0.00142927)`\n",
    "\n",
    "`Area with 2 rectangle(s) = 1.99998 (error=1.68691e-05)`\n",
    "\n",
    "`Area with 10 rectangle(s) = 2 (error=9.96725e-10)`\n",
    "\n",
    "`Area with 100 rectangle(s) = 2 (error=4.44089e-16)`\n",
    "\n",
    "`Area with 1000 rectangle(s) = 2 (error=2.22045e-15)`"
   ]
  },
  {
   "cell_type": "markdown",
   "metadata": {},
   "source": [
    "You can see our final rule is much more accurate for fewer required bins. Indeed we are down at the limits where round-off errors are affecting our results."
   ]
  },
  {
   "cell_type": "markdown",
   "metadata": {},
   "source": [
    "## Aside: (Richardson) extrapolation, Romberg integration and Newton-Cotes formulae\n",
    "\n",
    "Note that the above technique of using the same rule, but with different values for $h$, to derive a more accurate estimate of the integral is an example of what is more generally called *Richardson extrapolation*.  \n",
    "\n",
    "Performing this approach using the trapezoid rule as the starting point leads to what is termed *Romberg integration*.\n",
    "\n",
    "Taking the idea behind Simpson's rule which fit a quadratic Lagrange interpolating polynomial to *equally spaced* points in the interval, end extending to any order Lagrange polynomial leads to the *Newton-Cotes* family of quadrature rules.\n",
    "\n",
    "Note finally, that even wider families exist where the function being integrated is evaluated at non-equally-spaced points.\n",
    "\n",
    "And of course for practical application these ideas need to be extended to more than one dimension."
   ]
  }
 ],
 "metadata": {
  "kernelspec": {
   "display_name": "Python 3",
   "language": "python",
   "name": "python3"
  },
  "language_info": {
   "codemirror_mode": {
    "name": "ipython",
    "version": 3
   },
   "file_extension": ".py",
   "mimetype": "text/x-python",
   "name": "python",
   "nbconvert_exporter": "python",
   "pygments_lexer": "ipython3",
   "version": "3.6.2"
  }
 },
 "nbformat": 4,
 "nbformat_minor": 1
}
