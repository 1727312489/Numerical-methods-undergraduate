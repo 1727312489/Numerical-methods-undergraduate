{
 "cells": [
  {
   "cell_type": "markdown",
   "metadata": {
    "slideshow": {
     "slide_type": "slide"
    }
   },
   "source": [
    "# Numerical Methods 1\n",
    "### [Gerard Gorman](http://www.imperial.ac.uk/people/g.gorman), [Matthew Piggott](http://www.imperial.ac.uk/people/m.d.piggott), [Nicolas Barral](http://www.imperial.ac.uk/people/n.barral)\n",
    "\n",
    "# Lecture 3: Numerical integration"
   ]
  },
  {
   "cell_type": "markdown",
   "metadata": {
    "slideshow": {
     "slide_type": "slide"
    }
   },
   "source": [
    "## Learning objectives:\n",
    "\n",
    "* Be able to compute the integral of a function numerically in 1D\n",
    "* Implement several simple algorithms\n",
    "* Understand the concept of order of algorithm and how to improve accuracy"
   ]
  },
  {
   "cell_type": "markdown",
   "metadata": {
    "slideshow": {
     "slide_type": "slide"
    }
   },
   "source": [
    "## Performing numerical integration\n",
    "\n",
    "*Quadrature* is the term used for numerical evaluation of a definite integral, or put more simply, finding the area under a curve. \n",
    "\n",
    "If we have a function $f(x)$ defined between $a$ and $b$, the\n",
    "[integral](http://en.wikipedia.org/wiki/Integral) is defined as \n",
    "\n",
    "\\begin{equation}\n",
    "F\\left ( x \\right ) = \\int_{a}^{b} f\\left ( x \\right )dx\n",
    "\\end{equation}\n",
    "\n",
    "and its result is the area under the curve. This operation is an essential part of calculus, being the inverse of differentiation. "
   ]
  },
  {
   "cell_type": "markdown",
   "metadata": {
    "slideshow": {
     "slide_type": "subslide"
    }
   },
   "source": [
    "Knowing the value of the area under a curve is important to all kinds of applications. However, many expressions are difficult to integrate analytically, or the function which governs their shape is unknown, and we only have data. Therefore, no course on numerical methods is complete without discussing the different methods of numerical integration. \n",
    "\n",
    "A fundamental property of a definite integral is that\n",
    "\n",
    "\\begin{equation}\n",
    "\\int_{a}^{b} f\\left ( x \\right )dx = \\int_{a}^{c} f\\left ( x \\right )dx + \\int_{c}^{b} f\\left ( x \\right )dx\n",
    "\\end{equation}\n",
    "\n",
    "where $c$ is a point between $a$ and $b$. "
   ]
  },
  {
   "cell_type": "markdown",
   "metadata": {
    "slideshow": {
     "slide_type": "subslide"
    }
   },
   "source": [
    "Therefore, we can equally well perform our integration by splitting the function up into a number of smaller intervals and summing the result of each individual integration over the interval.\n",
    "\n",
    "If the function is complicated or unknown, we can approximate its value within each of these intervals -- we have now performed a numerical *discretisation* of the function and in this case our associated numerical method to compute the integral is terms a *quadrature* or *numerical integration* method."
   ]
  },
  {
   "cell_type": "markdown",
   "metadata": {
    "slideshow": {
     "slide_type": "subslide"
    }
   },
   "source": [
    "As with previous lectures, the choice of approximation method, as well as the size of the intervals, will control the error.  Better methods as well as smaller (i.e. more to cover our total interval of interest: $[a,b]$) sub-intervals will lead to lower errors, but will cost more.\n",
    "\n",
    "Here the following quadrature methods will be covered in the context of a simple function:\n",
    "\n",
    "* Midpoint rule\n",
    "* Trapezoid rule\n",
    "* Simpson's rule\n",
    "* Composite Simpson's rule\n",
    "* Weddle's rule."
   ]
  },
  {
   "cell_type": "markdown",
   "metadata": {
    "slideshow": {
     "slide_type": "slide"
    }
   },
   "source": [
    "## Integration example\n",
    "Let's begin with a simple function to demonstrate the different methods of numerical integration:\n",
    "\n",
    "\\begin{equation}\n",
    "f\\left ( x \\right ) = \\sin \\left ( x \\right ),\n",
    "\\end{equation}\n",
    "\n",
    "and assume that we want to know what the area under the sin function between 0 and $\\pi$. \n",
    "\n",
    "The integral of $\\sin \\left ( x \\right )$ is $-\\cos \\left ( x \\right )$ (plus a constant which drops out as soon as we perform a *definite* integral), so we can integrate it ourselves by hand to find the true area under the curve:\n",
    "\n",
    "\\begin{equation}\n",
    "F\\left ( x \\right ) =  \\int_{0}^{\\pi} \\sin \\left ( x \\right ) = \\left [ -\\cos\\left ( x \\right )+ C \\right ]_{0}^{\\pi} =-\\cos\\left ( \\pi \\right ) + \\cos\\left ( 0 \\right ) = 2.\n",
    "\\end{equation}\n",
    "\n",
    "Let's start by plotting the function between these points."
   ]
  },
  {
   "cell_type": "code",
   "execution_count": 1,
   "metadata": {
    "slideshow": {
     "slide_type": "slide"
    }
   },
   "outputs": [
    {
     "name": "stdout",
     "output_type": "stream",
     "text": [
      "Populating the interactive namespace from numpy and matplotlib\n"
     ]
    },
    {
     "data": {
      "application/javascript": [
       "/* Put everything inside the global mpl namespace */\n",
       "window.mpl = {};\n",
       "\n",
       "\n",
       "mpl.get_websocket_type = function() {\n",
       "    if (typeof(WebSocket) !== 'undefined') {\n",
       "        return WebSocket;\n",
       "    } else if (typeof(MozWebSocket) !== 'undefined') {\n",
       "        return MozWebSocket;\n",
       "    } else {\n",
       "        alert('Your browser does not have WebSocket support.' +\n",
       "              'Please try Chrome, Safari or Firefox ≥ 6. ' +\n",
       "              'Firefox 4 and 5 are also supported but you ' +\n",
       "              'have to enable WebSockets in about:config.');\n",
       "    };\n",
       "}\n",
       "\n",
       "mpl.figure = function(figure_id, websocket, ondownload, parent_element) {\n",
       "    this.id = figure_id;\n",
       "\n",
       "    this.ws = websocket;\n",
       "\n",
       "    this.supports_binary = (this.ws.binaryType != undefined);\n",
       "\n",
       "    if (!this.supports_binary) {\n",
       "        var warnings = document.getElementById(\"mpl-warnings\");\n",
       "        if (warnings) {\n",
       "            warnings.style.display = 'block';\n",
       "            warnings.textContent = (\n",
       "                \"This browser does not support binary websocket messages. \" +\n",
       "                    \"Performance may be slow.\");\n",
       "        }\n",
       "    }\n",
       "\n",
       "    this.imageObj = new Image();\n",
       "\n",
       "    this.context = undefined;\n",
       "    this.message = undefined;\n",
       "    this.canvas = undefined;\n",
       "    this.rubberband_canvas = undefined;\n",
       "    this.rubberband_context = undefined;\n",
       "    this.format_dropdown = undefined;\n",
       "\n",
       "    this.image_mode = 'full';\n",
       "\n",
       "    this.root = $('<div/>');\n",
       "    this._root_extra_style(this.root)\n",
       "    this.root.attr('style', 'display: inline-block');\n",
       "\n",
       "    $(parent_element).append(this.root);\n",
       "\n",
       "    this._init_header(this);\n",
       "    this._init_canvas(this);\n",
       "    this._init_toolbar(this);\n",
       "\n",
       "    var fig = this;\n",
       "\n",
       "    this.waiting = false;\n",
       "\n",
       "    this.ws.onopen =  function () {\n",
       "            fig.send_message(\"supports_binary\", {value: fig.supports_binary});\n",
       "            fig.send_message(\"send_image_mode\", {});\n",
       "            if (mpl.ratio != 1) {\n",
       "                fig.send_message(\"set_dpi_ratio\", {'dpi_ratio': mpl.ratio});\n",
       "            }\n",
       "            fig.send_message(\"refresh\", {});\n",
       "        }\n",
       "\n",
       "    this.imageObj.onload = function() {\n",
       "            if (fig.image_mode == 'full') {\n",
       "                // Full images could contain transparency (where diff images\n",
       "                // almost always do), so we need to clear the canvas so that\n",
       "                // there is no ghosting.\n",
       "                fig.context.clearRect(0, 0, fig.canvas.width, fig.canvas.height);\n",
       "            }\n",
       "            fig.context.drawImage(fig.imageObj, 0, 0);\n",
       "        };\n",
       "\n",
       "    this.imageObj.onunload = function() {\n",
       "        fig.ws.close();\n",
       "    }\n",
       "\n",
       "    this.ws.onmessage = this._make_on_message_function(this);\n",
       "\n",
       "    this.ondownload = ondownload;\n",
       "}\n",
       "\n",
       "mpl.figure.prototype._init_header = function() {\n",
       "    var titlebar = $(\n",
       "        '<div class=\"ui-dialog-titlebar ui-widget-header ui-corner-all ' +\n",
       "        'ui-helper-clearfix\"/>');\n",
       "    var titletext = $(\n",
       "        '<div class=\"ui-dialog-title\" style=\"width: 100%; ' +\n",
       "        'text-align: center; padding: 3px;\"/>');\n",
       "    titlebar.append(titletext)\n",
       "    this.root.append(titlebar);\n",
       "    this.header = titletext[0];\n",
       "}\n",
       "\n",
       "\n",
       "\n",
       "mpl.figure.prototype._canvas_extra_style = function(canvas_div) {\n",
       "\n",
       "}\n",
       "\n",
       "\n",
       "mpl.figure.prototype._root_extra_style = function(canvas_div) {\n",
       "\n",
       "}\n",
       "\n",
       "mpl.figure.prototype._init_canvas = function() {\n",
       "    var fig = this;\n",
       "\n",
       "    var canvas_div = $('<div/>');\n",
       "\n",
       "    canvas_div.attr('style', 'position: relative; clear: both; outline: 0');\n",
       "\n",
       "    function canvas_keyboard_event(event) {\n",
       "        return fig.key_event(event, event['data']);\n",
       "    }\n",
       "\n",
       "    canvas_div.keydown('key_press', canvas_keyboard_event);\n",
       "    canvas_div.keyup('key_release', canvas_keyboard_event);\n",
       "    this.canvas_div = canvas_div\n",
       "    this._canvas_extra_style(canvas_div)\n",
       "    this.root.append(canvas_div);\n",
       "\n",
       "    var canvas = $('<canvas/>');\n",
       "    canvas.addClass('mpl-canvas');\n",
       "    canvas.attr('style', \"left: 0; top: 0; z-index: 0; outline: 0\")\n",
       "\n",
       "    this.canvas = canvas[0];\n",
       "    this.context = canvas[0].getContext(\"2d\");\n",
       "\n",
       "    var backingStore = this.context.backingStorePixelRatio ||\n",
       "\tthis.context.webkitBackingStorePixelRatio ||\n",
       "\tthis.context.mozBackingStorePixelRatio ||\n",
       "\tthis.context.msBackingStorePixelRatio ||\n",
       "\tthis.context.oBackingStorePixelRatio ||\n",
       "\tthis.context.backingStorePixelRatio || 1;\n",
       "\n",
       "    mpl.ratio = (window.devicePixelRatio || 1) / backingStore;\n",
       "\n",
       "    var rubberband = $('<canvas/>');\n",
       "    rubberband.attr('style', \"position: absolute; left: 0; top: 0; z-index: 1;\")\n",
       "\n",
       "    var pass_mouse_events = true;\n",
       "\n",
       "    canvas_div.resizable({\n",
       "        start: function(event, ui) {\n",
       "            pass_mouse_events = false;\n",
       "        },\n",
       "        resize: function(event, ui) {\n",
       "            fig.request_resize(ui.size.width, ui.size.height);\n",
       "        },\n",
       "        stop: function(event, ui) {\n",
       "            pass_mouse_events = true;\n",
       "            fig.request_resize(ui.size.width, ui.size.height);\n",
       "        },\n",
       "    });\n",
       "\n",
       "    function mouse_event_fn(event) {\n",
       "        if (pass_mouse_events)\n",
       "            return fig.mouse_event(event, event['data']);\n",
       "    }\n",
       "\n",
       "    rubberband.mousedown('button_press', mouse_event_fn);\n",
       "    rubberband.mouseup('button_release', mouse_event_fn);\n",
       "    // Throttle sequential mouse events to 1 every 20ms.\n",
       "    rubberband.mousemove('motion_notify', mouse_event_fn);\n",
       "\n",
       "    rubberband.mouseenter('figure_enter', mouse_event_fn);\n",
       "    rubberband.mouseleave('figure_leave', mouse_event_fn);\n",
       "\n",
       "    canvas_div.on(\"wheel\", function (event) {\n",
       "        event = event.originalEvent;\n",
       "        event['data'] = 'scroll'\n",
       "        if (event.deltaY < 0) {\n",
       "            event.step = 1;\n",
       "        } else {\n",
       "            event.step = -1;\n",
       "        }\n",
       "        mouse_event_fn(event);\n",
       "    });\n",
       "\n",
       "    canvas_div.append(canvas);\n",
       "    canvas_div.append(rubberband);\n",
       "\n",
       "    this.rubberband = rubberband;\n",
       "    this.rubberband_canvas = rubberband[0];\n",
       "    this.rubberband_context = rubberband[0].getContext(\"2d\");\n",
       "    this.rubberband_context.strokeStyle = \"#000000\";\n",
       "\n",
       "    this._resize_canvas = function(width, height) {\n",
       "        // Keep the size of the canvas, canvas container, and rubber band\n",
       "        // canvas in synch.\n",
       "        canvas_div.css('width', width)\n",
       "        canvas_div.css('height', height)\n",
       "\n",
       "        canvas.attr('width', width * mpl.ratio);\n",
       "        canvas.attr('height', height * mpl.ratio);\n",
       "        canvas.attr('style', 'width: ' + width + 'px; height: ' + height + 'px;');\n",
       "\n",
       "        rubberband.attr('width', width);\n",
       "        rubberband.attr('height', height);\n",
       "    }\n",
       "\n",
       "    // Set the figure to an initial 600x600px, this will subsequently be updated\n",
       "    // upon first draw.\n",
       "    this._resize_canvas(600, 600);\n",
       "\n",
       "    // Disable right mouse context menu.\n",
       "    $(this.rubberband_canvas).bind(\"contextmenu\",function(e){\n",
       "        return false;\n",
       "    });\n",
       "\n",
       "    function set_focus () {\n",
       "        canvas.focus();\n",
       "        canvas_div.focus();\n",
       "    }\n",
       "\n",
       "    window.setTimeout(set_focus, 100);\n",
       "}\n",
       "\n",
       "mpl.figure.prototype._init_toolbar = function() {\n",
       "    var fig = this;\n",
       "\n",
       "    var nav_element = $('<div/>')\n",
       "    nav_element.attr('style', 'width: 100%');\n",
       "    this.root.append(nav_element);\n",
       "\n",
       "    // Define a callback function for later on.\n",
       "    function toolbar_event(event) {\n",
       "        return fig.toolbar_button_onclick(event['data']);\n",
       "    }\n",
       "    function toolbar_mouse_event(event) {\n",
       "        return fig.toolbar_button_onmouseover(event['data']);\n",
       "    }\n",
       "\n",
       "    for(var toolbar_ind in mpl.toolbar_items) {\n",
       "        var name = mpl.toolbar_items[toolbar_ind][0];\n",
       "        var tooltip = mpl.toolbar_items[toolbar_ind][1];\n",
       "        var image = mpl.toolbar_items[toolbar_ind][2];\n",
       "        var method_name = mpl.toolbar_items[toolbar_ind][3];\n",
       "\n",
       "        if (!name) {\n",
       "            // put a spacer in here.\n",
       "            continue;\n",
       "        }\n",
       "        var button = $('<button/>');\n",
       "        button.addClass('ui-button ui-widget ui-state-default ui-corner-all ' +\n",
       "                        'ui-button-icon-only');\n",
       "        button.attr('role', 'button');\n",
       "        button.attr('aria-disabled', 'false');\n",
       "        button.click(method_name, toolbar_event);\n",
       "        button.mouseover(tooltip, toolbar_mouse_event);\n",
       "\n",
       "        var icon_img = $('<span/>');\n",
       "        icon_img.addClass('ui-button-icon-primary ui-icon');\n",
       "        icon_img.addClass(image);\n",
       "        icon_img.addClass('ui-corner-all');\n",
       "\n",
       "        var tooltip_span = $('<span/>');\n",
       "        tooltip_span.addClass('ui-button-text');\n",
       "        tooltip_span.html(tooltip);\n",
       "\n",
       "        button.append(icon_img);\n",
       "        button.append(tooltip_span);\n",
       "\n",
       "        nav_element.append(button);\n",
       "    }\n",
       "\n",
       "    var fmt_picker_span = $('<span/>');\n",
       "\n",
       "    var fmt_picker = $('<select/>');\n",
       "    fmt_picker.addClass('mpl-toolbar-option ui-widget ui-widget-content');\n",
       "    fmt_picker_span.append(fmt_picker);\n",
       "    nav_element.append(fmt_picker_span);\n",
       "    this.format_dropdown = fmt_picker[0];\n",
       "\n",
       "    for (var ind in mpl.extensions) {\n",
       "        var fmt = mpl.extensions[ind];\n",
       "        var option = $(\n",
       "            '<option/>', {selected: fmt === mpl.default_extension}).html(fmt);\n",
       "        fmt_picker.append(option)\n",
       "    }\n",
       "\n",
       "    // Add hover states to the ui-buttons\n",
       "    $( \".ui-button\" ).hover(\n",
       "        function() { $(this).addClass(\"ui-state-hover\");},\n",
       "        function() { $(this).removeClass(\"ui-state-hover\");}\n",
       "    );\n",
       "\n",
       "    var status_bar = $('<span class=\"mpl-message\"/>');\n",
       "    nav_element.append(status_bar);\n",
       "    this.message = status_bar[0];\n",
       "}\n",
       "\n",
       "mpl.figure.prototype.request_resize = function(x_pixels, y_pixels) {\n",
       "    // Request matplotlib to resize the figure. Matplotlib will then trigger a resize in the client,\n",
       "    // which will in turn request a refresh of the image.\n",
       "    this.send_message('resize', {'width': x_pixels, 'height': y_pixels});\n",
       "}\n",
       "\n",
       "mpl.figure.prototype.send_message = function(type, properties) {\n",
       "    properties['type'] = type;\n",
       "    properties['figure_id'] = this.id;\n",
       "    this.ws.send(JSON.stringify(properties));\n",
       "}\n",
       "\n",
       "mpl.figure.prototype.send_draw_message = function() {\n",
       "    if (!this.waiting) {\n",
       "        this.waiting = true;\n",
       "        this.ws.send(JSON.stringify({type: \"draw\", figure_id: this.id}));\n",
       "    }\n",
       "}\n",
       "\n",
       "\n",
       "mpl.figure.prototype.handle_save = function(fig, msg) {\n",
       "    var format_dropdown = fig.format_dropdown;\n",
       "    var format = format_dropdown.options[format_dropdown.selectedIndex].value;\n",
       "    fig.ondownload(fig, format);\n",
       "}\n",
       "\n",
       "\n",
       "mpl.figure.prototype.handle_resize = function(fig, msg) {\n",
       "    var size = msg['size'];\n",
       "    if (size[0] != fig.canvas.width || size[1] != fig.canvas.height) {\n",
       "        fig._resize_canvas(size[0], size[1]);\n",
       "        fig.send_message(\"refresh\", {});\n",
       "    };\n",
       "}\n",
       "\n",
       "mpl.figure.prototype.handle_rubberband = function(fig, msg) {\n",
       "    var x0 = msg['x0'] / mpl.ratio;\n",
       "    var y0 = (fig.canvas.height - msg['y0']) / mpl.ratio;\n",
       "    var x1 = msg['x1'] / mpl.ratio;\n",
       "    var y1 = (fig.canvas.height - msg['y1']) / mpl.ratio;\n",
       "    x0 = Math.floor(x0) + 0.5;\n",
       "    y0 = Math.floor(y0) + 0.5;\n",
       "    x1 = Math.floor(x1) + 0.5;\n",
       "    y1 = Math.floor(y1) + 0.5;\n",
       "    var min_x = Math.min(x0, x1);\n",
       "    var min_y = Math.min(y0, y1);\n",
       "    var width = Math.abs(x1 - x0);\n",
       "    var height = Math.abs(y1 - y0);\n",
       "\n",
       "    fig.rubberband_context.clearRect(\n",
       "        0, 0, fig.canvas.width, fig.canvas.height);\n",
       "\n",
       "    fig.rubberband_context.strokeRect(min_x, min_y, width, height);\n",
       "}\n",
       "\n",
       "mpl.figure.prototype.handle_figure_label = function(fig, msg) {\n",
       "    // Updates the figure title.\n",
       "    fig.header.textContent = msg['label'];\n",
       "}\n",
       "\n",
       "mpl.figure.prototype.handle_cursor = function(fig, msg) {\n",
       "    var cursor = msg['cursor'];\n",
       "    switch(cursor)\n",
       "    {\n",
       "    case 0:\n",
       "        cursor = 'pointer';\n",
       "        break;\n",
       "    case 1:\n",
       "        cursor = 'default';\n",
       "        break;\n",
       "    case 2:\n",
       "        cursor = 'crosshair';\n",
       "        break;\n",
       "    case 3:\n",
       "        cursor = 'move';\n",
       "        break;\n",
       "    }\n",
       "    fig.rubberband_canvas.style.cursor = cursor;\n",
       "}\n",
       "\n",
       "mpl.figure.prototype.handle_message = function(fig, msg) {\n",
       "    fig.message.textContent = msg['message'];\n",
       "}\n",
       "\n",
       "mpl.figure.prototype.handle_draw = function(fig, msg) {\n",
       "    // Request the server to send over a new figure.\n",
       "    fig.send_draw_message();\n",
       "}\n",
       "\n",
       "mpl.figure.prototype.handle_image_mode = function(fig, msg) {\n",
       "    fig.image_mode = msg['mode'];\n",
       "}\n",
       "\n",
       "mpl.figure.prototype.updated_canvas_event = function() {\n",
       "    // Called whenever the canvas gets updated.\n",
       "    this.send_message(\"ack\", {});\n",
       "}\n",
       "\n",
       "// A function to construct a web socket function for onmessage handling.\n",
       "// Called in the figure constructor.\n",
       "mpl.figure.prototype._make_on_message_function = function(fig) {\n",
       "    return function socket_on_message(evt) {\n",
       "        if (evt.data instanceof Blob) {\n",
       "            /* FIXME: We get \"Resource interpreted as Image but\n",
       "             * transferred with MIME type text/plain:\" errors on\n",
       "             * Chrome.  But how to set the MIME type?  It doesn't seem\n",
       "             * to be part of the websocket stream */\n",
       "            evt.data.type = \"image/png\";\n",
       "\n",
       "            /* Free the memory for the previous frames */\n",
       "            if (fig.imageObj.src) {\n",
       "                (window.URL || window.webkitURL).revokeObjectURL(\n",
       "                    fig.imageObj.src);\n",
       "            }\n",
       "\n",
       "            fig.imageObj.src = (window.URL || window.webkitURL).createObjectURL(\n",
       "                evt.data);\n",
       "            fig.updated_canvas_event();\n",
       "            fig.waiting = false;\n",
       "            return;\n",
       "        }\n",
       "        else if (typeof evt.data === 'string' && evt.data.slice(0, 21) == \"data:image/png;base64\") {\n",
       "            fig.imageObj.src = evt.data;\n",
       "            fig.updated_canvas_event();\n",
       "            fig.waiting = false;\n",
       "            return;\n",
       "        }\n",
       "\n",
       "        var msg = JSON.parse(evt.data);\n",
       "        var msg_type = msg['type'];\n",
       "\n",
       "        // Call the  \"handle_{type}\" callback, which takes\n",
       "        // the figure and JSON message as its only arguments.\n",
       "        try {\n",
       "            var callback = fig[\"handle_\" + msg_type];\n",
       "        } catch (e) {\n",
       "            console.log(\"No handler for the '\" + msg_type + \"' message type: \", msg);\n",
       "            return;\n",
       "        }\n",
       "\n",
       "        if (callback) {\n",
       "            try {\n",
       "                // console.log(\"Handling '\" + msg_type + \"' message: \", msg);\n",
       "                callback(fig, msg);\n",
       "            } catch (e) {\n",
       "                console.log(\"Exception inside the 'handler_\" + msg_type + \"' callback:\", e, e.stack, msg);\n",
       "            }\n",
       "        }\n",
       "    };\n",
       "}\n",
       "\n",
       "// from http://stackoverflow.com/questions/1114465/getting-mouse-location-in-canvas\n",
       "mpl.findpos = function(e) {\n",
       "    //this section is from http://www.quirksmode.org/js/events_properties.html\n",
       "    var targ;\n",
       "    if (!e)\n",
       "        e = window.event;\n",
       "    if (e.target)\n",
       "        targ = e.target;\n",
       "    else if (e.srcElement)\n",
       "        targ = e.srcElement;\n",
       "    if (targ.nodeType == 3) // defeat Safari bug\n",
       "        targ = targ.parentNode;\n",
       "\n",
       "    // jQuery normalizes the pageX and pageY\n",
       "    // pageX,Y are the mouse positions relative to the document\n",
       "    // offset() returns the position of the element relative to the document\n",
       "    var x = e.pageX - $(targ).offset().left;\n",
       "    var y = e.pageY - $(targ).offset().top;\n",
       "\n",
       "    return {\"x\": x, \"y\": y};\n",
       "};\n",
       "\n",
       "/*\n",
       " * return a copy of an object with only non-object keys\n",
       " * we need this to avoid circular references\n",
       " * http://stackoverflow.com/a/24161582/3208463\n",
       " */\n",
       "function simpleKeys (original) {\n",
       "  return Object.keys(original).reduce(function (obj, key) {\n",
       "    if (typeof original[key] !== 'object')\n",
       "        obj[key] = original[key]\n",
       "    return obj;\n",
       "  }, {});\n",
       "}\n",
       "\n",
       "mpl.figure.prototype.mouse_event = function(event, name) {\n",
       "    var canvas_pos = mpl.findpos(event)\n",
       "\n",
       "    if (name === 'button_press')\n",
       "    {\n",
       "        this.canvas.focus();\n",
       "        this.canvas_div.focus();\n",
       "    }\n",
       "\n",
       "    var x = canvas_pos.x * mpl.ratio;\n",
       "    var y = canvas_pos.y * mpl.ratio;\n",
       "\n",
       "    this.send_message(name, {x: x, y: y, button: event.button,\n",
       "                             step: event.step,\n",
       "                             guiEvent: simpleKeys(event)});\n",
       "\n",
       "    /* This prevents the web browser from automatically changing to\n",
       "     * the text insertion cursor when the button is pressed.  We want\n",
       "     * to control all of the cursor setting manually through the\n",
       "     * 'cursor' event from matplotlib */\n",
       "    event.preventDefault();\n",
       "    return false;\n",
       "}\n",
       "\n",
       "mpl.figure.prototype._key_event_extra = function(event, name) {\n",
       "    // Handle any extra behaviour associated with a key event\n",
       "}\n",
       "\n",
       "mpl.figure.prototype.key_event = function(event, name) {\n",
       "\n",
       "    // Prevent repeat events\n",
       "    if (name == 'key_press')\n",
       "    {\n",
       "        if (event.which === this._key)\n",
       "            return;\n",
       "        else\n",
       "            this._key = event.which;\n",
       "    }\n",
       "    if (name == 'key_release')\n",
       "        this._key = null;\n",
       "\n",
       "    var value = '';\n",
       "    if (event.ctrlKey && event.which != 17)\n",
       "        value += \"ctrl+\";\n",
       "    if (event.altKey && event.which != 18)\n",
       "        value += \"alt+\";\n",
       "    if (event.shiftKey && event.which != 16)\n",
       "        value += \"shift+\";\n",
       "\n",
       "    value += 'k';\n",
       "    value += event.which.toString();\n",
       "\n",
       "    this._key_event_extra(event, name);\n",
       "\n",
       "    this.send_message(name, {key: value,\n",
       "                             guiEvent: simpleKeys(event)});\n",
       "    return false;\n",
       "}\n",
       "\n",
       "mpl.figure.prototype.toolbar_button_onclick = function(name) {\n",
       "    if (name == 'download') {\n",
       "        this.handle_save(this, null);\n",
       "    } else {\n",
       "        this.send_message(\"toolbar_button\", {name: name});\n",
       "    }\n",
       "};\n",
       "\n",
       "mpl.figure.prototype.toolbar_button_onmouseover = function(tooltip) {\n",
       "    this.message.textContent = tooltip;\n",
       "};\n",
       "mpl.toolbar_items = [[\"Home\", \"Reset original view\", \"fa fa-home icon-home\", \"home\"], [\"Back\", \"Back to  previous view\", \"fa fa-arrow-left icon-arrow-left\", \"back\"], [\"Forward\", \"Forward to next view\", \"fa fa-arrow-right icon-arrow-right\", \"forward\"], [\"\", \"\", \"\", \"\"], [\"Pan\", \"Pan axes with left mouse, zoom with right\", \"fa fa-arrows icon-move\", \"pan\"], [\"Zoom\", \"Zoom to rectangle\", \"fa fa-square-o icon-check-empty\", \"zoom\"], [\"\", \"\", \"\", \"\"], [\"Download\", \"Download plot\", \"fa fa-floppy-o icon-save\", \"download\"]];\n",
       "\n",
       "mpl.extensions = [\"eps\", \"jpeg\", \"pdf\", \"png\", \"ps\", \"raw\", \"svg\", \"tif\"];\n",
       "\n",
       "mpl.default_extension = \"png\";var comm_websocket_adapter = function(comm) {\n",
       "    // Create a \"websocket\"-like object which calls the given IPython comm\n",
       "    // object with the appropriate methods. Currently this is a non binary\n",
       "    // socket, so there is still some room for performance tuning.\n",
       "    var ws = {};\n",
       "\n",
       "    ws.close = function() {\n",
       "        comm.close()\n",
       "    };\n",
       "    ws.send = function(m) {\n",
       "        //console.log('sending', m);\n",
       "        comm.send(m);\n",
       "    };\n",
       "    // Register the callback with on_msg.\n",
       "    comm.on_msg(function(msg) {\n",
       "        //console.log('receiving', msg['content']['data'], msg);\n",
       "        // Pass the mpl event to the overriden (by mpl) onmessage function.\n",
       "        ws.onmessage(msg['content']['data'])\n",
       "    });\n",
       "    return ws;\n",
       "}\n",
       "\n",
       "mpl.mpl_figure_comm = function(comm, msg) {\n",
       "    // This is the function which gets called when the mpl process\n",
       "    // starts-up an IPython Comm through the \"matplotlib\" channel.\n",
       "\n",
       "    var id = msg.content.data.id;\n",
       "    // Get hold of the div created by the display call when the Comm\n",
       "    // socket was opened in Python.\n",
       "    var element = $(\"#\" + id);\n",
       "    var ws_proxy = comm_websocket_adapter(comm)\n",
       "\n",
       "    function ondownload(figure, format) {\n",
       "        window.open(figure.imageObj.src);\n",
       "    }\n",
       "\n",
       "    var fig = new mpl.figure(id, ws_proxy,\n",
       "                           ondownload,\n",
       "                           element.get(0));\n",
       "\n",
       "    // Call onopen now - mpl needs it, as it is assuming we've passed it a real\n",
       "    // web socket which is closed, not our websocket->open comm proxy.\n",
       "    ws_proxy.onopen();\n",
       "\n",
       "    fig.parent_element = element.get(0);\n",
       "    fig.cell_info = mpl.find_output_cell(\"<div id='\" + id + \"'></div>\");\n",
       "    if (!fig.cell_info) {\n",
       "        console.error(\"Failed to find cell for figure\", id, fig);\n",
       "        return;\n",
       "    }\n",
       "\n",
       "    var output_index = fig.cell_info[2]\n",
       "    var cell = fig.cell_info[0];\n",
       "\n",
       "};\n",
       "\n",
       "mpl.figure.prototype.handle_close = function(fig, msg) {\n",
       "    var width = fig.canvas.width/mpl.ratio\n",
       "    fig.root.unbind('remove')\n",
       "\n",
       "    // Update the output cell to use the data from the current canvas.\n",
       "    fig.push_to_output();\n",
       "    var dataURL = fig.canvas.toDataURL();\n",
       "    // Re-enable the keyboard manager in IPython - without this line, in FF,\n",
       "    // the notebook keyboard shortcuts fail.\n",
       "    IPython.keyboard_manager.enable()\n",
       "    $(fig.parent_element).html('<img src=\"' + dataURL + '\" width=\"' + width + '\">');\n",
       "    fig.close_ws(fig, msg);\n",
       "}\n",
       "\n",
       "mpl.figure.prototype.close_ws = function(fig, msg){\n",
       "    fig.send_message('closing', msg);\n",
       "    // fig.ws.close()\n",
       "}\n",
       "\n",
       "mpl.figure.prototype.push_to_output = function(remove_interactive) {\n",
       "    // Turn the data on the canvas into data in the output cell.\n",
       "    var width = this.canvas.width/mpl.ratio\n",
       "    var dataURL = this.canvas.toDataURL();\n",
       "    this.cell_info[1]['text/html'] = '<img src=\"' + dataURL + '\" width=\"' + width + '\">';\n",
       "}\n",
       "\n",
       "mpl.figure.prototype.updated_canvas_event = function() {\n",
       "    // Tell IPython that the notebook contents must change.\n",
       "    IPython.notebook.set_dirty(true);\n",
       "    this.send_message(\"ack\", {});\n",
       "    var fig = this;\n",
       "    // Wait a second, then push the new image to the DOM so\n",
       "    // that it is saved nicely (might be nice to debounce this).\n",
       "    setTimeout(function () { fig.push_to_output() }, 1000);\n",
       "}\n",
       "\n",
       "mpl.figure.prototype._init_toolbar = function() {\n",
       "    var fig = this;\n",
       "\n",
       "    var nav_element = $('<div/>')\n",
       "    nav_element.attr('style', 'width: 100%');\n",
       "    this.root.append(nav_element);\n",
       "\n",
       "    // Define a callback function for later on.\n",
       "    function toolbar_event(event) {\n",
       "        return fig.toolbar_button_onclick(event['data']);\n",
       "    }\n",
       "    function toolbar_mouse_event(event) {\n",
       "        return fig.toolbar_button_onmouseover(event['data']);\n",
       "    }\n",
       "\n",
       "    for(var toolbar_ind in mpl.toolbar_items){\n",
       "        var name = mpl.toolbar_items[toolbar_ind][0];\n",
       "        var tooltip = mpl.toolbar_items[toolbar_ind][1];\n",
       "        var image = mpl.toolbar_items[toolbar_ind][2];\n",
       "        var method_name = mpl.toolbar_items[toolbar_ind][3];\n",
       "\n",
       "        if (!name) { continue; };\n",
       "\n",
       "        var button = $('<button class=\"btn btn-default\" href=\"#\" title=\"' + name + '\"><i class=\"fa ' + image + ' fa-lg\"></i></button>');\n",
       "        button.click(method_name, toolbar_event);\n",
       "        button.mouseover(tooltip, toolbar_mouse_event);\n",
       "        nav_element.append(button);\n",
       "    }\n",
       "\n",
       "    // Add the status bar.\n",
       "    var status_bar = $('<span class=\"mpl-message\" style=\"text-align:right; float: right;\"/>');\n",
       "    nav_element.append(status_bar);\n",
       "    this.message = status_bar[0];\n",
       "\n",
       "    // Add the close button to the window.\n",
       "    var buttongrp = $('<div class=\"btn-group inline pull-right\"></div>');\n",
       "    var button = $('<button class=\"btn btn-mini btn-primary\" href=\"#\" title=\"Stop Interaction\"><i class=\"fa fa-power-off icon-remove icon-large\"></i></button>');\n",
       "    button.click(function (evt) { fig.handle_close(fig, {}); } );\n",
       "    button.mouseover('Stop Interaction', toolbar_mouse_event);\n",
       "    buttongrp.append(button);\n",
       "    var titlebar = this.root.find($('.ui-dialog-titlebar'));\n",
       "    titlebar.prepend(buttongrp);\n",
       "}\n",
       "\n",
       "mpl.figure.prototype._root_extra_style = function(el){\n",
       "    var fig = this\n",
       "    el.on(\"remove\", function(){\n",
       "\tfig.close_ws(fig, {});\n",
       "    });\n",
       "}\n",
       "\n",
       "mpl.figure.prototype._canvas_extra_style = function(el){\n",
       "    // this is important to make the div 'focusable\n",
       "    el.attr('tabindex', 0)\n",
       "    // reach out to IPython and tell the keyboard manager to turn it's self\n",
       "    // off when our div gets focus\n",
       "\n",
       "    // location in version 3\n",
       "    if (IPython.notebook.keyboard_manager) {\n",
       "        IPython.notebook.keyboard_manager.register_events(el);\n",
       "    }\n",
       "    else {\n",
       "        // location in version 2\n",
       "        IPython.keyboard_manager.register_events(el);\n",
       "    }\n",
       "\n",
       "}\n",
       "\n",
       "mpl.figure.prototype._key_event_extra = function(event, name) {\n",
       "    var manager = IPython.notebook.keyboard_manager;\n",
       "    if (!manager)\n",
       "        manager = IPython.keyboard_manager;\n",
       "\n",
       "    // Check for shift+enter\n",
       "    if (event.shiftKey && event.which == 13) {\n",
       "        this.canvas_div.blur();\n",
       "        event.shiftKey = false;\n",
       "        // Send a \"J\" for go to next cell\n",
       "        event.which = 74;\n",
       "        event.keyCode = 74;\n",
       "        manager.command_mode();\n",
       "        manager.handle_keydown(event);\n",
       "    }\n",
       "}\n",
       "\n",
       "mpl.figure.prototype.handle_save = function(fig, msg) {\n",
       "    fig.ondownload(fig, null);\n",
       "}\n",
       "\n",
       "\n",
       "mpl.find_output_cell = function(html_output) {\n",
       "    // Return the cell and output element which can be found *uniquely* in the notebook.\n",
       "    // Note - this is a bit hacky, but it is done because the \"notebook_saving.Notebook\"\n",
       "    // IPython event is triggered only after the cells have been serialised, which for\n",
       "    // our purposes (turning an active figure into a static one), is too late.\n",
       "    var cells = IPython.notebook.get_cells();\n",
       "    var ncells = cells.length;\n",
       "    for (var i=0; i<ncells; i++) {\n",
       "        var cell = cells[i];\n",
       "        if (cell.cell_type === 'code'){\n",
       "            for (var j=0; j<cell.output_area.outputs.length; j++) {\n",
       "                var data = cell.output_area.outputs[j];\n",
       "                if (data.data) {\n",
       "                    // IPython >= 3 moved mimebundle to data attribute of output\n",
       "                    data = data.data;\n",
       "                }\n",
       "                if (data['text/html'] == html_output) {\n",
       "                    return [cell, data, j];\n",
       "                }\n",
       "            }\n",
       "        }\n",
       "    }\n",
       "}\n",
       "\n",
       "// Register the function which deals with the matplotlib target/channel.\n",
       "// The kernel may be null if the page has been refreshed.\n",
       "if (IPython.notebook.kernel != null) {\n",
       "    IPython.notebook.kernel.comm_manager.register_target('matplotlib', mpl.mpl_figure_comm);\n",
       "}\n"
      ],
      "text/plain": [
       "<IPython.core.display.Javascript object>"
      ]
     },
     "metadata": {},
     "output_type": "display_data"
    },
    {
     "data": {
      "text/html": [
       "<img src=\"data:image/png;base64,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\" width=\"640\">"
      ],
      "text/plain": [
       "<IPython.core.display.HTML object>"
      ]
     },
     "metadata": {},
     "output_type": "display_data"
    }
   ],
   "source": [
    "%pylab notebook\n",
    "\n",
    "# Get the value of pi from numpy and generate equally spaced values from 0 to pi.\n",
    "x = linspace(0,np.pi,100) \n",
    "\n",
    "# Calculate sin at these points.\n",
    "y = sin(x) \n",
    "\n",
    "# Set x axis limits between 0 and pi.\n",
    "xlim([0,np.pi]) \n",
    "\n",
    "# Label axis.\n",
    "xlabel('x')\n",
    "ylabel('sin(x)')\n",
    "\n",
    "# Overlay a grid.\n",
    "grid(True)\n",
    "\n",
    "plot(x, y)\n",
    "show()"
   ]
  },
  {
   "cell_type": "markdown",
   "metadata": {
    "slideshow": {
     "slide_type": "subslide"
    }
   },
   "source": [
    "Now let's investigate the different quadrature rules, finding the area under the curve and seeing how it differs from the true area which we know is 2."
   ]
  },
  {
   "cell_type": "markdown",
   "metadata": {
    "slideshow": {
     "slide_type": "slide"
    }
   },
   "source": [
    "## Rule 1: Midpoint rule\n",
    "\n",
    "The *midpoint rule* is the simplest quadrature rule. For reasons you will see below it is sometimes also called the *rectangle method*.\n",
    "\n",
    "Let $h = b - a$ be the length of *one smaller sub-interval* within the larger interval we want to compute the total integral over. \n",
    "\n",
    "The midpoint rule, $M$, approximates the integral over this sub-interval by the area of a rectangle, with base of length $h$ and  height of the value of $f(x)$ at the midpoint of that interval (i.e. at $x=(a+b)/2$):\n",
    "\n",
    "\\begin{equation}\n",
    "M = hf \\left ( \\frac {a+b} {2} \\right ).\n",
    "\\end{equation}"
   ]
  },
  {
   "cell_type": "markdown",
   "metadata": {
    "slideshow": {
     "slide_type": "subslide"
    }
   },
   "source": [
    "Note that in what follows we assume that we have been given the function $f(\\cdot)$ such that we can evaluate it anywhere. However, this comes at a cost and so in our quadrature methods we want good accuracy without excessive numbers of function evaluations.\n",
    "\n",
    "The result of the integration over the entire interval of interest, is then just the sum of the integrals over all the sub-intervals, i.e. the sum of the areas of all the small rectanges. "
   ]
  },
  {
   "cell_type": "markdown",
   "metadata": {
    "slideshow": {
     "slide_type": "subslide"
    }
   },
   "source": [
    "A complex example looks like this, where the red line shows the original function we wish to compute the integral of, and the blue rectangles *approximate* the area under that function for a number of sub-intervals:\n",
    "\n",
    "<img src=\"http://upload.wikimedia.org/wikipedia/commons/thumb/2/26/Integration_rectangle.svg/340px-Integration_rectangle.svg.png\" width=\"600\">"
   ]
  },
  {
   "cell_type": "markdown",
   "metadata": {
    "slideshow": {
     "slide_type": "subslide"
    }
   },
   "source": [
    "Clearly the sum of the areas of all the rectanges provides an estimate of the true integral.\n",
    "\n",
    "[Note that the SciPy module features many different integration functions, and you can find thorough documentation for these functions (including methods not covered in this course) [here](http://docs.scipy.org/doc/scipy/reference/integrate.html). This library does not contain a function for the midpoint rule but it is trivial to create our own.]"
   ]
  },
  {
   "cell_type": "code",
   "execution_count": 2,
   "metadata": {
    "collapsed": true,
    "slideshow": {
     "slide_type": "subslide"
    }
   },
   "outputs": [],
   "source": [
    "def midpoint_rule(start_point, end_point, function, number_of_bins=10):\n",
    "    # First, check how big each bin needs to be. Bin is just another word for rectangle.\n",
    "    bin_size = float(end_point - start_point)/number_of_bins\n",
    "    \n",
    "    # To make sure our midpoint rule function works as expected and doesn't output garbage accidentally,\n",
    "    # let's assert that there are more than 0 bins, and that the number of bins is a whole number\n",
    "    assert bin_size > 0\n",
    "    assert type(number_of_bins) == int\n",
    "    # By doing this, the function will give an error if either of these are not true,\n",
    "    # avoiding problems later. This is a neat alternative to a try-except loop.\n",
    "    # In programming it is always good to know more than one way of doing things!\n",
    "    \n",
    "    # Create the variable to contain the sum of all the areas\n",
    "    running_total = 0.0\n",
    "    # Find the first midpoint - the centre point of the base of the rectangle\n",
    "    mid = start_point + (bin_size/2.0)\n",
    "    \n",
    "    # Loop to create each rectangle \n",
    "    while (mid < end_point):\n",
    "        # Find the area of the current rectangle and add it to the running total\n",
    "        running_total += bin_size * function(mid)  # this involves an evaluation of the function at the sub-interval midpoint\n",
    "        # Move the midpoint up to the next centre of the bin\n",
    "        mid += bin_size\n",
    "    \n",
    "    # Return our running total result\n",
    "    return running_total"
   ]
  },
  {
   "cell_type": "code",
   "execution_count": 3,
   "metadata": {
    "slideshow": {
     "slide_type": "subslide"
    }
   },
   "outputs": [
    {
     "name": "stdout",
     "output_type": "stream",
     "text": [
      "The exact area found by direct integration = 2\n",
      "Area 1 rectangle(s) = 3.14159 (error=1.14159)\n",
      "Area 2 rectangle(s) = 2.22144 (error=0.221441)\n",
      "Area 10 rectangle(s) = 2.00825 (error=0.00824841)\n",
      "Area 100 rectangle(s) = 2.00008 (error=8.22491e-05)\n",
      "Area 1000 rectangle(s) = 2 (error=8.22467e-07)\n"
     ]
    }
   ],
   "source": [
    "# Now let's test the midpoint function. \n",
    "print(\"The exact area found by direct integration = 2\")\n",
    "for i in (1, 2, 10, 100, 1000):\n",
    "    area = midpoint_rule(0, np.pi, sin, i)\n",
    "    print(\"Area %d rectangle(s) = %g (error=%g)\"%(i, area, abs(area-2)))"
   ]
  },
  {
   "cell_type": "markdown",
   "metadata": {
    "slideshow": {
     "slide_type": "subslide"
    }
   },
   "source": [
    "With one rectangle, we are simply finding the area of a box of shape $\\pi \\times$ 1 ($\\pi$ is the width of the rectangle and $1$ is the value of the function evaluated at the midpoint $\\pi/2$), so of course the result is $\\pi$. \n",
    "\n",
    "As we increase the number of sub-intervals, or rectangles, we split the function up by, we increase the accuracy of our area.\n",
    "\n",
    "<span style=\"color:blue\">Exercise:  Based on how the error decreases as we increase the number of rectangles (from 10 to 100 to 1000), what can you estimate as the order of accuracy of this method?</span>\n",
    "\n",
    "The simplicity of this method is its weakness, as rectangles are rarely a good approximation for the shape of a smooth function. \n",
    "\n",
    "We want to use as few shapes as possible to approximate our function, because each additional rectangle is one extra time round the loop, which includes its own operations in addition to additional evaluations of the function, hence increases the overall processing time. \n",
    "\n",
    "Instead, let's try another shape that follows the profile a little better ..."
   ]
  },
  {
   "cell_type": "markdown",
   "metadata": {
    "slideshow": {
     "slide_type": "slide"
    }
   },
   "source": [
    "## Rule 2: Trapezoid rule\n",
    "\n",
    "If we change the shape of the rectangle for a trapezoid (the top of the shape is now a linear line approximating the shape of the function, rather than the constant used in the midpoint rule), we arrive at the trapezoid, or trapezoidal, rule. \n",
    "\n",
    "The trapezoid rule approximates the integral by the area of a trapezoid with base $h$ and the left- and right-hand-sides equal to the vaules of the function at the two end points.  In this case the area of the shape, $T$, approximating the integral over one sub-interval, is given by\n",
    "\n",
    "\\begin{equation}\n",
    "T = h \\left( \\frac {f\\left ( a\\right ) + f \\left (b \\right )} {2} \\right).\n",
    "\\end{equation}"
   ]
  },
  {
   "cell_type": "markdown",
   "metadata": {
    "slideshow": {
     "slide_type": "subslide"
    }
   },
   "source": [
    "For our pictorial example used above the approximation looks like it should be more accurate than the midpoint rule:\n",
    "\n",
    "<img src=\"http://upload.wikimedia.org/wikipedia/commons/thumb/0/03/Integration_trapezoid.svg/340px-Integration_trapezoid.svg.png\" width=\"600\">\n",
    "\n",
    "the tops of the shapes (now trapezoids) are approximating the variation of the function with a linear function, rather than a flat (constant) function.  This looks like it should give more accurate results, but see below.\n",
    "\n",
    "Note that numpy has a function for the trapezoid rule, <a href=\"http://docs.scipy.org/doc/numpy/reference/generated/numpy.trapz.html\">numpy.trapz</a>, but we'll make our own that works in a similar way to our midpoint rule function."
   ]
  },
  {
   "cell_type": "markdown",
   "metadata": {
    "slideshow": {
     "slide_type": "slide"
    }
   },
   "source": [
    "## <span style=\"color:blue\">Exercise 3.1: Complete the implementation of the trapezoid rule below</span>"
   ]
  },
  {
   "cell_type": "code",
   "execution_count": null,
   "metadata": {
    "collapsed": true,
    "slideshow": {
     "slide_type": "fragment"
    }
   },
   "outputs": [],
   "source": [
    "def trapezoid_rule(start_point, end_point, function, number_of_bins=10):\n",
    "    \n",
    "    bin_size = float(end_point - start_point)/number_of_bins\n",
    "    \n",
    "    assert bin_size > 0\n",
    "    assert type(number_of_bins) == int\n",
    "    \n",
    "    running_total = 0.0\n",
    "    \n",
    "    # Loop to create each trapezoid \n",
    "    for i in range(number_of_bins): # note this function takes a slightly different approach to achieve the same thing as above\n",
    "    \n",
    "    \n",
    "    # Add your code here\n",
    "    \n",
    "        \n",
    "    #Return our running total result\n",
    "    return running_total"
   ]
  },
  {
   "cell_type": "markdown",
   "metadata": {
    "slideshow": {
     "slide_type": "subslide"
    }
   },
   "source": [
    "and test the function in a similar way:"
   ]
  },
  {
   "cell_type": "code",
   "execution_count": null,
   "metadata": {
    "collapsed": true,
    "slideshow": {
     "slide_type": "fragment"
    }
   },
   "outputs": [],
   "source": [
    "print(\"The exact area found by direct integration = 2\")\n",
    "for i in (1, 2, 10, 100, 1000):\n",
    "    area = trapezoid_rule(0, np.pi, sin, i)\n",
    "    print(\"Area %d rectangle(s) = %g (error=%g)\"%(i, area, abs(area-2)))"
   ]
  },
  {
   "cell_type": "markdown",
   "metadata": {
    "slideshow": {
     "slide_type": "subslide"
    }
   },
   "source": [
    "You should have found the following errors:\n",
    "\n",
    "`The area found by direct integration = 2`\n",
    "\n",
    "`Area 1 rectangle(s) = 1.92367e-16 (error=2)`\n",
    "\n",
    "`Area 2 rectangle(s) = 1.5708 (error=0.429204)`\n",
    "\n",
    "`Area 10 rectangle(s) = 1.98352 (error=0.0164765)`\n",
    "\n",
    "`Area 100 rectangle(s) = 1.99984 (error=0.000164496)`\n",
    "\n",
    "`Area 1000 rectangle(s) = 2 (error=1.64493e-06)`"
   ]
  },
  {
   "cell_type": "markdown",
   "metadata": {
    "slideshow": {
     "slide_type": "slide"
    }
   },
   "source": [
    "## Error analysis\n",
    "\n",
    "We can see a few differences compared to the midpoint rule. \n",
    "\n",
    "In this particular case of half a sine wave, the trapezoid rule always *under-estimates* the area, whereas the midpoint rule *over-estimates*. The result for finding the integral of $\\sin$ with only one triangle is very small, because that trapezoid has almost no height. \n",
    "\n",
    "Perhaps most surprisingly, the midpoint rule is more accurate than the trapezoid rule - this is not obvious from the discussions and the images above.\n",
    "\n",
    "The accuracy of a quadrature rule is predicted by examining its behaviour in practice with *polynomials*. **The order of a rule is the degree of the lowest degree polynomial that the rule does not integrate exactly.** "
   ]
  },
  {
   "cell_type": "markdown",
   "metadata": {
    "slideshow": {
     "slide_type": "subslide"
    }
   },
   "source": [
    "If a quadrature rule of order $p$ is used to integrate a smooth function over an interval of size $h$, then Taylor series analysis shows the error is proportional to $h^p$. \n",
    "\n",
    "Both the midpoint and trapezoid rules are exact for constant and linear functions, but are not exact for quadratics. Therefore, they have order two (as we saw above in terms of how their errors reduced with smaller $h$). \n",
    "\n",
    "<span style=\"color:blue\">Exercise:  It's obvious why this is the case for the trapezoid rule, but why is it the case for the simpler midpoint rule?</span>"
   ]
  },
  {
   "cell_type": "markdown",
   "metadata": {
    "slideshow": {
     "slide_type": "subslide"
    }
   },
   "source": [
    "For the \"concave-down\" (half of a sine wave) function we chose above, notice that the trapezoidal rule will consistently underestimate the area under the curve. While the mid-point rule will have parts of each rectangle above and below the curve, hence to a certain extent the errors will cancel each other out. This is why for this example the errors in the mid-point rule turn out to be approximately half those in the trapezoidal rule.  While this turns out to be *generally* true for smooth functions, we can always come up with (counter) examples where the trapezoid rule will win (can you think of an example?).\n",
    "\n",
    "Taylor series analysis can be used (like last week for derivative approximation) to formally construct upper bounds on the quadrature error for both methods, but for us it will be sufficient to just consider an example. We know analytically that\n",
    "\n",
    "\\begin{equation}\n",
    "\\int_{0}^{1} x^{2}dx = \\left.\\frac{1}{3}x^3\\right|_0^1=\\frac {1}{3}.\n",
    "\\end{equation}"
   ]
  },
  {
   "cell_type": "markdown",
   "metadata": {
    "slideshow": {
     "slide_type": "subslide"
    }
   },
   "source": [
    "Numerically, the midpoint rule gives\n",
    "\n",
    "\\begin{equation}\n",
    "M = 1 \\left(\\frac {1}{2}\\right)^{2} = \\frac {1}{4},\n",
    "\\end{equation}\n",
    "\n",
    "while the trapezoid rule gives\n",
    "\n",
    "\\begin{equation}\n",
    "T = 1 \\frac {0+1^{2}}{2} = \\frac {1}{2}.\n",
    "\\end{equation}\n",
    "\n",
    "The error for $M$ is 1/12, while the error for $T$ is -1/6. Therefore, the midpoint rule is twice as accurate as the trapezoid rule.  This is the case for this simple example, and we see from the error numbers printed above that it is approximately true also for the sine case."
   ]
  },
  {
   "cell_type": "markdown",
   "metadata": {
    "slideshow": {
     "slide_type": "slide"
    }
   },
   "source": [
    "### Rule 3: Simpson's rule\n",
    "\n",
    "Knowing the error estimates from the two rules explored so far allows us to combine them to create a new quadrature rule, more accurate than either one separately. \n",
    "\n",
    "Suppose $S$ indicates an unknown, but more accurate, estimate of the integral over an interval.  Then from above as $T$ has an error  approximately -2 times the error in $M$, the following relation must hold approximately:\n",
    "\n",
    "\\begin{equation}\n",
    "S-T \\approx -2 \\left ( S-M\\right ).\n",
    "\\end{equation}"
   ]
  },
  {
   "cell_type": "markdown",
   "metadata": {
    "slideshow": {
     "slide_type": "subslide"
    }
   },
   "source": [
    "We can solve this for $S$ in order to provide a more accurate estimate of the integral:\n",
    "\n",
    "\\begin{equation}\n",
    "S = \\frac{2}{3}M + \\frac{1}{3}T\n",
    "\\end{equation}\n",
    "\n",
    "This estimate is usually more accurate than either $M$ or $T$ alone. \n",
    "\n",
    "The resulting quadrature method is known as [Simpson's rule](http://en.wikipedia.org/wiki/Simpson%27s_rule). \n",
    "\n",
    "An alternate derivation of the same rule involves fitting a *quadratic function* (rather than the constant and linear already considered) that interpolates the integral at the two end points of the interval, $a$ and $b$, as well as at the midpoint, $c = \\left ( a+b\\right )/2$, and calculating the integral under that polynomial approximation."
   ]
  },
  {
   "cell_type": "markdown",
   "metadata": {
    "slideshow": {
     "slide_type": "subslide"
    }
   },
   "source": [
    "In both cases you arrive at the rule:\n",
    "\n",
    "\\begin{equation}\n",
    "S = \\frac{h}{6}\\left ( f \\left ( a\\right ) + 4f \\left ( c\\right ) + f\\left ( b\\right )\\right )\n",
    "\\end{equation}\n",
    "\n",
    "This expression now integrates up to cubics exactly, so it is of order 4. \n",
    "\n",
    "It looks like a much closer fit to the function:\n",
    "\n",
    "<img src=\"http://upload.wikimedia.org/wikipedia/commons/5/50/Integration_simpson.png\" width=\"600\">\n",
    "\n",
    "Let's make a function to test it out..."
   ]
  },
  {
   "cell_type": "markdown",
   "metadata": {
    "slideshow": {
     "slide_type": "slide"
    }
   },
   "source": [
    "## <span style=\"color:blue\">Exercise 3.2: Implementing Simpson's rule</span>\n",
    "\n",
    "Complete an implementation of Simpson's rule and test it on our sine function."
   ]
  },
  {
   "cell_type": "code",
   "execution_count": null,
   "metadata": {
    "collapsed": true,
    "slideshow": {
     "slide_type": "fragment"
    }
   },
   "outputs": [],
   "source": [
    "def simpsons_rule(start_point, end_point, function, number_of_bins=10):\n",
    "\n",
    "    # Add your code here!\n",
    "        "
   ]
  },
  {
   "cell_type": "code",
   "execution_count": null,
   "metadata": {
    "collapsed": true,
    "slideshow": {
     "slide_type": "fragment"
    }
   },
   "outputs": [],
   "source": [
    "print(\"The area found by direct integration = 2\")\n",
    "for i in (1, 2, 10, 100, 1000):\n",
    "    area = simpsons_rule(0, np.pi, sin, i)\n",
    "    print(\"Area %d rectangle(s) = %g (error=%g)\"%(i, area, abs(area-2)))"
   ]
  },
  {
   "cell_type": "markdown",
   "metadata": {
    "slideshow": {
     "slide_type": "subslide"
    }
   },
   "source": [
    "You should find:\n",
    "\n",
    "`The area found by direct integration = 2`\n",
    "\n",
    "`Area 1 rectangle(s) = 2.0944 (error=0.0943951)`\n",
    "\n",
    "`Area 2 rectangle(s) = 2.00456 (error=0.00455975)`\n",
    "\n",
    "`Area 20 rectangle(s) = 2 (error=4.23093e-07)`\n",
    "\n",
    "`Area 200 rectangle(s) = 2 (error=4.228e-11)`\n",
    "\n",
    "`Area 2000 rectangle(s) = 2 (error=2.22045e-15)`"
   ]
  },
  {
   "cell_type": "markdown",
   "metadata": {
    "slideshow": {
     "slide_type": "fragment"
    }
   },
   "source": [
    "For this simple function you should find far smaller errors, and which drop much more rapidly with smaller $h$ (or more sub-intervals).\n"
   ]
  },
  {
   "cell_type": "markdown",
   "metadata": {
    "slideshow": {
     "slide_type": "slide"
    }
   },
   "source": [
    "## Rule 4: Composite Simpson's Rule\n",
    "\n",
    "Let's take our calculations another step further. \n",
    "\n",
    "Previously, we have considered $a$ at the start of the interval, and $b$ at the end, with $c$ at the mid point. \n",
    "\n",
    "Instead, let's consider [a,c] and [c,b] as two intervals and split them up into even smaller subintervals, by making $d$ and $e$ the midpoints of these subintervals, where clearly $d = \\left ( a+c\\right )/2$, and $e = \\left( c+b\\right )/2$. \n",
    "\n",
    "If we apply Simpson's rule to each of the smaller subintervals, we obtain a rule over the larger $\\left[a,b\\right]$ that now takes the form:\n",
    " \n",
    "\\begin{equation}\n",
    "S_2 = \\frac{h}{12}\\left ( f \\left ( a\\right ) + 4f \\left ( d\\right ) + 2f\\left ( c\\right ) + 4f \\left ( e\\right ) + f \\left ( b\\right )\\right )\n",
    "\\end{equation}"
   ]
  },
  {
   "cell_type": "markdown",
   "metadata": {
    "slideshow": {
     "slide_type": "subslide"
    }
   },
   "source": [
    "This provides the same result as applying the standard Simpson's rule over the two intervals and summing, but notice that we have saved an evaluation of $f(c)$.\n",
    "\n",
    "This is known as the [Composite Simpson's rule](http://en.wikipedia.org/wiki/Simpson%27s_rule#Composite_Simpson.27s_rule), an example of a *composite* quadrature rule as it is a method that subdivides each interval. \n",
    "\n",
    "We finally don't need to write our own function, as scipy includes a function for the Composite Simpson's rule, [simps](http://docs.scipy.org/doc/scipy/reference/generated/scipy.integrate.simps.html). Since we have written functions above, let's make another one so we know it works in the same way as the others, so we can be sure our results are comparable."
   ]
  },
  {
   "cell_type": "code",
   "execution_count": null,
   "metadata": {
    "collapsed": true,
    "slideshow": {
     "slide_type": "subslide"
    }
   },
   "outputs": [],
   "source": [
    "def simpsons_composite_rule(start_point, end_point, function, number_of_bins=10):\n",
    "    \n",
    "    bin_size = float(end_point - start_point)/number_of_bins\n",
    "    \n",
    "    assert bin_size > 0\n",
    "    assert type(number_of_bins) == int\n",
    "    \n",
    "    running_total = 0.0\n",
    "    \n",
    "    #Loop to create each shape \n",
    "    for i in range(number_of_bins):\n",
    "        #Find a, d, c, e, and b\n",
    "        this_bin_start = start_point + bin_size * (i)\n",
    "        this_bin_quarter = this_bin_start + bin_size*1./4\n",
    "        this_bin_mid = this_bin_start + bin_size*2./4\n",
    "        this_bin_three_quarter = this_bin_start + bin_size*3./4\n",
    "        this_bin_end = this_bin_start + bin_size\n",
    "        #Calculate the rule and add to running total. \n",
    "        running_total += (bin_size/12)*float(function(this_bin_start)+4*function(this_bin_quarter)\n",
    "                                             +2*function(this_bin_mid)+4*function(this_bin_three_quarter)\n",
    "                                             +function(this_bin_end))\n",
    "        \n",
    "    #Return our running total result\n",
    "    return running_total"
   ]
  },
  {
   "cell_type": "code",
   "execution_count": null,
   "metadata": {
    "collapsed": true,
    "slideshow": {
     "slide_type": "subslide"
    }
   },
   "outputs": [],
   "source": [
    "print(\"The area found by direct integration = 2\")\n",
    "for i in (1, 2, 10, 100, 1000):\n",
    "    area = simpsons_composite_rule(0, np.pi, sin, i)\n",
    "    print(\"Area %d rectangle(s) = %g (error=%g)\"%(i, area, abs(area-2)))"
   ]
  },
  {
   "cell_type": "markdown",
   "metadata": {
    "slideshow": {
     "slide_type": "subslide"
    }
   },
   "source": [
    "This is a slight improvement for a simple function like $\\sin$, but will be much more of an improvement for functions which oscillate more, in a relative sense compared to the size of our bins. "
   ]
  },
  {
   "cell_type": "markdown",
   "metadata": {
    "slideshow": {
     "slide_type": "slide"
    }
   },
   "source": [
    "## Rule 5: Weddle's rule\n",
    "\n",
    "Given that $S$ and $S_2$ approximate the same integral, their difference can be used to estimate the error:\n",
    "\n",
    "\\begin{equation}\n",
    "E = \\left ( S_2 - S \\right)\n",
    "\\end{equation}\n",
    "\n",
    "Therefore, we can combine these rules to make an *even more* accurate approximation. \n",
    "\n",
    "Both of the rules are of *order four*, but the $S_2$ interval size is effectively half the $S$ step size, so we would expect $S_2$ to be roughly $2^4=16$ times as accurate."
   ]
  },
  {
   "cell_type": "markdown",
   "metadata": {
    "slideshow": {
     "slide_type": "subslide"
    }
   },
   "source": [
    "Let's call this super accurate rule $Q$, and we can find it by solving:\n",
    "\n",
    "\\begin{equation}\n",
    "Q - S = 16 \\left ( Q - S_2 \\right )\n",
    "\\end{equation}\n",
    "\n",
    "resulting in:\n",
    "\n",
    "\\begin{equation}\n",
    "Q = S_2 + \\frac {\\left (S_2 - S \\right )}{15} \n",
    "\\end{equation}\n",
    "\n",
    "This is known as Weddle's rule or the extrapolated Simpson's rule, because it uses two different values of $h$ and *extrapolates* towards $h = 0$. \n",
    "\n",
    "Making a function of this is easy as we just call our other two Simpson functions."
   ]
  },
  {
   "cell_type": "markdown",
   "metadata": {
    "slideshow": {
     "slide_type": "slide"
    }
   },
   "source": [
    "## <span style=\"color:blue\">Exercise 3.3: Implementing Weddle's rule</span>\n",
    "\n",
    "Write a function which implements Weddle's rule by the appropriate calls to the simpsons and simpsons_composite functions written above."
   ]
  },
  {
   "cell_type": "code",
   "execution_count": null,
   "metadata": {
    "collapsed": true,
    "slideshow": {
     "slide_type": "subslide"
    }
   },
   "outputs": [],
   "source": [
    "def weddles_rule(  .....\n",
    "                 \n",
    "                 "
   ]
  },
  {
   "cell_type": "code",
   "execution_count": null,
   "metadata": {
    "collapsed": true,
    "slideshow": {
     "slide_type": "subslide"
    }
   },
   "outputs": [],
   "source": [
    "print(\"The area found by direct integration = 2\")\n",
    "for i in (1, 2, 10, 100, 1000):\n",
    "    area = weddles_rule(0, np.pi, sin, i)\n",
    "    print(\"Area with %d rectangle(s) = %g (error=%g)\"%(i, area, abs(area-2)))"
   ]
  },
  {
   "cell_type": "markdown",
   "metadata": {
    "slideshow": {
     "slide_type": "subslide"
    }
   },
   "source": [
    "You should find:\n",
    "\n",
    "`The area found by direct integration = 2`\n",
    "\n",
    "`Area with 1 rectangle(s) = 1.99857 (error=0.00142927)`\n",
    "\n",
    "`Area with 2 rectangle(s) = 1.99998 (error=1.68691e-05)`\n",
    "\n",
    "`Area with 10 rectangle(s) = 2 (error=9.96725e-10)`\n",
    "\n",
    "`Area with 100 rectangle(s) = 2 (error=4.44089e-16)`\n",
    "\n",
    "`Area with 1000 rectangle(s) = 2 (error=2.22045e-15)`"
   ]
  },
  {
   "cell_type": "markdown",
   "metadata": {
    "slideshow": {
     "slide_type": "subslide"
    }
   },
   "source": [
    "You can see our final rule is much more accurate for fewer required bins. Indeed we are down at the limits where round-off errors are affecting our results."
   ]
  },
  {
   "cell_type": "markdown",
   "metadata": {
    "slideshow": {
     "slide_type": "slide"
    }
   },
   "source": [
    "## Aside: (Richardson) extrapolation, Romberg integration and Newton-Cotes formula\n",
    "\n",
    "Note that the above technique of using the same rule, but with different values for $h$, to derive a more accurate estimate of the integral is an example of what is more generally called *Richardson extrapolation*.  \n",
    "\n",
    "Performing this approach using the trapezoid rule as the starting point leads to what is termed *Romberg integration*.\n",
    "\n",
    "Taking the idea behind Simpson's rule which fit a quadratic Lagrange interpolating polynomial to *equally spaced* points in the interval, end extending to any order Lagrange polynomial leads to the *Newton-Cotes* family of quadrature rules.\n",
    "\n",
    "Note finally, that even wider families exist where the function being integrated is evaluated at non-equally-spaced points.\n",
    "\n",
    "And of course for practical application these ideas need to be extended to more than one dimension."
   ]
  }
 ],
 "metadata": {
  "celltoolbar": "Slideshow",
  "kernelspec": {
   "display_name": "Python 3",
   "language": "python",
   "name": "python3"
  },
  "language_info": {
   "codemirror_mode": {
    "name": "ipython",
    "version": 3
   },
   "file_extension": ".py",
   "mimetype": "text/x-python",
   "name": "python",
   "nbconvert_exporter": "python",
   "pygments_lexer": "ipython3",
   "version": "3.6.3"
  }
 },
 "nbformat": 4,
 "nbformat_minor": 1
}
