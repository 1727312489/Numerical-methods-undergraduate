{
 "cells": [
  {
   "cell_type": "markdown",
   "metadata": {},
   "source": [
    "# 3.09 Numerical methods 1 exam - 14:00-16:00 4 May 2018"
   ]
  },
  {
   "cell_type": "markdown",
   "metadata": {},
   "source": [
    "# Test instructions\n",
    "\n",
    "* This test contains **2** questions with multiple parts each of which should be answered.\n",
    "* Write your program in a Python cell just under each question.\n",
    "* You should provide an explanation of your solution as comments in your code.\n",
    "* In each case your solution program must fulfil all of the instructions. Please check the instructions carefully and double check that your program fulfils all of the given instructions.\n",
    "* Save your work regularly.\n",
    "* At the end of the test you should email your IPython notebook document (i.e. this document) to [Gerard Gorman](http://www.imperial.ac.uk/people/g.gorman) at <mailto:g.gorman@imperial.ac.uk>."
   ]
  },
  {
   "cell_type": "markdown",
   "metadata": {},
   "source": [
    "## Question 1\n",
    "\n",
    "Consider the list of x, y values:\n",
    "```python\n",
    "data = [[-0.9337935465228038, -0.07232476432206313], [-0.8579378359997711, -0.13887855006418778], [-0.9335374315243639, -0.06891805360643874], [-0.7687972106343928, 0.47854185044762787], [-0.7306837856905433, -0.47459494645121353], [-0.6828439321703356, -0.41364008798454377], [-1.0453664566329348, 0.19076506315493422], [-0.7456706490538763, -0.16083773809180218], [-0.7901894271258242, -0.35580360448848314], [-0.8928261346578745, -0.11441585592065782], [-0.841112498251017, 0.11011089888857295], [-0.7623488411754865, 0.18998754343916874], [-0.6925391941737394, -0.13413672359866718], [-0.6902708987539867, 0.03828838507783988], [-0.6687088543845848, -0.19894131765469594], [-0.6665302769372866, -0.1029760373482482], [-0.6420064312909557, -0.6554448913215021], [-0.5758230731110595, -0.5507175277632846], [-0.5756193577065919, -0.34173252704827584], [-0.4792448826592391, -0.7787912310124582], [-0.6408469813365063, -0.12147511680925833], [-0.5280178683517309, -0.5925774412972209], [-0.40380128700592666, 0.20900480487662598], [-0.4984729502442131, -0.7298392143009301], [-0.5446041323420464, -0.1640781007153601], [-0.48747960814661245, -0.261758542806879], [-0.5799087987763005, 0.01804472171650212], [-0.6001204968913751, -0.5173128958933764], [-0.5408366062285066, 0.2537613288571337], [-0.38110795902977784, -0.07330724873760994], [-0.5422499914727943, 0.021055251264383623], [-0.3588024164475623, -0.755308535619374], [-0.33248783543679084, -0.008535064734786574], [-0.5582457235994508, -0.4842740932690006], [-0.3221863564430907, 0.1525219788206888], [-0.3376212171114362, -0.15341217619428396], [-0.39166347962454356, -0.6316948130034112], [-0.23787007932215568, -0.626007030754575], [-0.12822641744709634, -0.49711343442847833], [-0.28780735187386897, -0.37401187442144845], [-0.2256289613091519, 0.42738543296089865], [-0.20967109085646085, -0.619832692105101], [0.049888337755669365, 0.07915019745819946], [-0.29567608376539767, -0.31023915589187206], [-0.026948425628742695, 0.25493770689048956], [-0.12691953366494887, -0.000909766036063589], [0.0644530895546884, -0.205614968739875], [-0.05421300377705436, 0.211270578336775], [-0.06773437907785596, -0.09404837529816071], [-0.08781953252002822, 0.4950172941365908], [0.1699783081462978, 0.04161833622202843], [-0.015524186031637438, 0.22888636161025255], [0.008431200904915698, -0.02428090691926993], [-0.012386785181722981, 0.09795380692075228], [0.1277714124907157, -0.1874700571343013], [0.05054549789429795, 0.01592527917293688], [0.22749579269721798, 0.36379096097487046], [0.13743820699257583, -0.13891144826473859], [0.011471149555491, 0.1596722795790772], [0.05940794372674682, -0.32432081194482404], [0.13757854768355646, 0.3445671139522366], [0.1647342343696234, -0.48672945291370273], [0.3901805474982435, 0.6740568752219067], [0.33397353376989003, 0.12542170513026485], [0.27723736088095224, -0.03880151513955743], [0.38027666377788694, 0.7188557769489713], [0.3039163622444417, 0.07299778741917612], [0.6206624890731296, 0.9760489756301297], [0.5179747935391051, 0.3641031631630265], [0.4923430557432943, 0.9238785497199989], [0.46780794329346204, 0.6315111432675516], [0.4349339208558625, 0.3845871247746798], [0.45053806993654766, 0.6847996631379732], [0.21407435217987014, 0.3125141886595262], [0.5936872371231747, 0.7140765515168056], [0.6143326130353116, 1.1045884421566523], [0.45210706477963847, 0.727440701294205], [0.48206791039922003, 0.0717294265808559], [0.6436467903498477, 0.747405161550199], [0.6217065866496854, 0.39358816921264717], [0.5077833980215545, 0.674852145544422], [0.5745755859495608, 1.217034240831342], [0.7945208778948454, 0.9388653585165085], [0.6874241835639029, 1.069054319183201], [0.7488172156422873, 1.3002883281857642], [0.7607457564824649, 1.1948244526119254], [0.7462485211152293, 1.2638984837102047], [0.8087906167850747, 1.6545261032878231], [0.9132613752044277, 1.51614396744652], [0.8457699554666472, 1.4824871685995005], [0.5402299927752592, 0.6045922483701612], [0.7770802222320328, 1.312219056607684], [0.5727071199546903, 0.9936874484935464], [0.8076276071584211, 1.9310943625200159], [0.9755851889094171, 2.330122777836598], [0.7543547773142139, 1.5118303380132634], [1.060512671008649, 2.1901761853146957], [1.0912226101509486, 2.0810305800930875], [0.9349382603088677, 2.356766292026297], [0.9474314681471394, 2.0685863572622636]]\n",
    "```\n",
    "1.  Fit polynomials of orders 0, 1, 2 and 3 to the data. Plot the raw point data and each of the polynomials.  <sub>[20 marks]</sub>\n",
    "* Print out the error of each polynomil fit, where the error is defined as the sum of the squares of the differences between the data provided and the polynomial,$$E = \\sum_{i=0}^{N} (p(x_i) - y_i)^2,$$ where $p(x_i)$ is the value of the polynomial function that has been fit to the data evaluated at point $x_i$, and $y_i$ is the $i^{th}$ data value.  <sub>[15 marks]</sub>\n",
    "* Fit a 10th order polynomial to the data. Plot the polynomial from x=-1.2 to x=1.2 and print out the error. Is this a better representation of the data; justify your answer. <sub>[15 marks]</sub>"
   ]
  },
  {
   "cell_type": "markdown",
   "metadata": {},
   "source": [
    "## Question 2\n",
    "\n",
    "Consider the usual linear system $A\\pmb{x} = \\pmb{b}$, of dimension $n$, where $\\pmb{x}$ is the unknown vector, $A$ is a given square matrix and $\\pmb{b}$ is a given vector.\n",
    "\n",
    "The weighted Jacobi method is a variant of Jacobi's method to solve a linear system of equations. The idea of the modified algorithm is to take the new value of $\\pmb{x}$ as a weighted average of its previous value and the value predicted by the regular Jacobi iteration. In other words the $k^{th}$ iteration of the algorithm is changed into:\n",
    "$$x_i^{(k)} = \\frac{\\omega}{A_{ii}}\\left(b_i- \\sum_{\\substack{j=1\\\\ j\\ne i}}^nA_{ij}x_j^{(k-1)}\\right) + (1-\\omega)x_i^{(k-1)},\\quad  i=1,2,\\ldots, n.$$\n",
    "\n",
    "\n",
    "\n",
    "1. Explain what the algorithm does for $\\omega = 0$ and for $\\omega = 1$. <sub>[10 marks]</sub>\n",
    "\n",
    "2. Write a function that solves a system with the weighted Jacobi's algorithm, for given $A$, $\\pmb{b}$ and $\\omega$. <sub>[10 marks]</sub>\n",
    "\n",
    "3. Consider the following linear system:\n",
    "$$  \n",
    "\\left\\{\n",
    "\\begin{array}{lcl}\n",
    "  10 x_1 - x_2 + 2 x_3  &=& 6 \\\\ \n",
    "  - x_1 +  11 x_2 - x_3 + 3 x_4 &=& 25 \\\\ \n",
    "  2 x_1  - x_2 + 10 x_3 - x_4 &=& -11 \\\\\n",
    "           3 x_2 - x_3 + 8 x_4 &=& 15 \n",
    "  \\end{array}\n",
    "\\right.\n",
    "$$\n",
    "Write this system in matrix form. Verify that there is one and only one solution. <sub>[10 marks]</sub>\n",
    "\n",
    "4. Solve the previous problem using your weighted Jacobi function for $\\omega = 0.5$ to a tolerance of $10^{-4}$, and check your answer. <sub>[10 marks]</sub>\n",
    "\n",
    "5. Solve the previous problem with the weighted Jacobi method, for $\\omega = 0.3, 0.5, 0.7, 0.8, 0.9, 0.95$ and $1$. Perform 10 iterations of the weighted Jacobi algorithm. On the same plot, plot the residual as a function of the jacobi iteration number for each $\\omega$. Deduce the best value for $\\omega$ among the proposed values. <sub>[10 marks]</sub>\n",
    "\n"
   ]
  },
  {
   "cell_type": "code",
   "execution_count": null,
   "metadata": {
    "collapsed": true
   },
   "outputs": [],
   "source": []
  }
 ],
 "metadata": {
  "kernelspec": {
   "display_name": "Python 3",
   "language": "python",
   "name": "python3"
  },
  "language_info": {
   "codemirror_mode": {
    "name": "ipython",
    "version": 3
   },
   "file_extension": ".py",
   "mimetype": "text/x-python",
   "name": "python",
   "nbconvert_exporter": "python",
   "pygments_lexer": "ipython3",
   "version": "3.6.2"
  }
 },
 "nbformat": 4,
 "nbformat_minor": 1
}
