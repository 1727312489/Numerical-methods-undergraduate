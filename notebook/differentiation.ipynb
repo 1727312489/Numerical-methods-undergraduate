{
 "metadata": {
  "name": ""
 },
 "nbformat": 3,
 "nbformat_minor": 0,
 "worksheets": [
  {
   "cells": [
    {
     "cell_type": "markdown",
     "metadata": {},
     "source": [
      "# Numerical Methods 1\n",
      "### [Gerard Gorman](http://www.imperial.ac.uk/people/g.gorman), [Matthew Piggott](http://www.imperial.ac.uk/people/m.d.piggott), [Christian Jacobs](http://www.christianjacobs.uk)"
     ]
    },
    {
     "cell_type": "markdown",
     "metadata": {},
     "source": [
      "# Lecture 3: Numerical Differentiation\n",
      "\n",
      "## Learning objectives:\n",
      "\n",
      "* Learn about finite difference approximations to derivatives.\n",
      "* Be able to implement forward and central difference methods.\n",
      "* Calculate higher-order derivatives."
     ]
    },
    {
     "cell_type": "markdown",
     "metadata": {},
     "source": [
      "## Forward differencing\n",
      "\n",
      "Approximations to the derivatives of a function can be computed by using weighted sums of function evaluations at a number of points. The elementary definition of the derivative of a function $f$ at a point $x_0$ is given by:\n",
      "\n",
      " $$ f'(x_0)=\\lim_{h\\rightarrow 0} \\frac{f(x+h)-f(x)}{h} $$\n",
      "\n",
      "We can turn this into an approximation rule for $f'(x)$ by replacing the limit as $h$ approaches $0$ with a small but finite $h$:\n",
      "\n",
      " $$ f'(x_0)\\approx \\frac{f(x_0+h)-f(x)}{h},\\qquad h>0 $$\n",
      "\n",
      "The figure below illustrates this approximation. Because the approximate gradient is calculated using values of $x$ greater than $x_0$, this algorithm is known as the **forward difference method**.\n",
      "\n",
      "![\"Forward difference method for approximating $f'(x_0)$. The derivative is approximated by the slope of the red line, while the true derivative is the slope of the blue line.\"](https://raw.githubusercontent.com/ggorman/Numerical-methods-1/master/notebook/images/forward_diff.png)\n",
      "#####*Forward difference method for approximating $f'(x_0)$. The derivative is approximated by the slope of the red line, while the true derivative is the slope of the blue line.*\n",
      "\n",
      "So how accurate is this method? For this we can use a Taylor series expansion. We can write:\n",
      "\n",
      " $$ f(x_0+h)=f(x_0)+hf'(x_0)+O(h^2) $$\n",
      " \n",
      "where $O(h^2)$ represents the collection of terms that are second-order in $h$ or higher.\n",
      "\n",
      "If we rearrange this expression to isolate the gradient term $f'(x_0)$ on the left hand side, we find:\n",
      "\n",
      " $$ hf'(x_0)=f(x_0+h)-f(x_0) +O(h^2) $$\n",
      " \n",
      "and therefore, by dividing through by $h$,\n",
      " \n",
      " $$ f'(x_0)=\\frac{f(x_0+h)-f(x_0)}{h}+O(h) $$\n",
      "\n",
      "So the forward difference method is first order. \n"
     ]
    },
    {
     "cell_type": "markdown",
     "metadata": {},
     "source": [
      "## <span style=\"color:blue\">Exercise: Convert from meters to British length units</span>\n",
      "Make a program where you set a length given in meters and then compute and write out the corresponding length measured in inches, in feet, in yards, and in miles. Use the fact that one inch is 2.54 cm, one foot is 12 inches, one yard is 3 feet, and one British mile is 1760 yards. As a verification, a length of 640 meters corresponds to 25196.85 inches, 2099.74 feet, 699.91 yards, or 0.3977 miles."
     ]
    },
    {
     "cell_type": "code",
     "collapsed": false,
     "input": [],
     "language": "python",
     "metadata": {},
     "outputs": []
    },
    {
     "cell_type": "markdown",
     "metadata": {},
     "source": [
      "## Central differencing\n",
      "\n",
      "A first order method is not very impressive in terms of accuracy. In an attempt to derive a more accurate method, we'll try using two Taylor series expansions; one in the positive $x$ direction from $x_0$, and one in the negative direction. Because we hope to achieve better than first order, we include an extra term in the series:\n",
      "\n",
      "$$ f(x_0+h)=f(x_0)+hf'(x_0)+\\frac{h^2}{2}f''(x_0) + O(h^3) $$\n",
      "\n",
      "$$ f(x_0-h)=f(x_0)-hf'(x_0)+\\frac{(-h)^2}{2}f''(x_0) + O((-h)^3) $$\n",
      "\n",
      "Using the fact that $(-h)^2=h^2$ and the absolute value signs from the definition of $O$, this is equivalent to:\n",
      "\n",
      "$$ f(x_0+h)=f(x_0)+hf'(x_0)+\\frac{h^2}{2}f''(x_0) + O(h^3) $$\n",
      "  \n",
      "$$ f(x_0-h)=f(x_0)-hf'(x_0)+\\frac{h^2}{2}f''(x_0) + O(h^3) $$\n",
      "  \n",
      "Remember that we are looking for an expression for $f'(x_0)$. Noticing the sign change between the derivative terms in the two equations, we subtract the bottom equation from the top equation to give:\n",
      "\n",
      "$$ f(x_0+h)-f(x_0-h)=2hf'(x_0) + O(h^3) $$\n",
      "\n",
      "Rearranging a little, we have:\n",
      "\n",
      "$$ f'(x_0)=\\frac{f(x_0+h)-f(x_0-h)}{2h} + O(h^2) $$\n",
      "\n",
      "This indicates that we have been successful: by taking an interval symmetric about $x_0$, we have created a second order approximation for the derivative of $f$. This symmetry gives the scheme its name: the central difference method. The figure below illustrates this scheme.\n",
      "\n",
      "![\"Central difference method for approximating $f'(x_0)$. The derivative is approximated by the slope of the red line, while the true derivative is the slope of the blue line.\"](https://raw.githubusercontent.com/ggorman/Numerical-methods-1/master/notebook/images/central_diff.png)\n",
      "#####*Central difference method for approximating $f'(x_0)$. The derivative is approximated by the slope of the red line, while the true derivative is the slope of the blue line.*"
     ]
    }
   ],
   "metadata": {}
  }
 ]
}