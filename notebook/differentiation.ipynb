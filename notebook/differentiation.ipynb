{
 "metadata": {
  "name": ""
 },
 "nbformat": 3,
 "nbformat_minor": 0,
 "worksheets": [
  {
   "cells": [
    {
     "cell_type": "markdown",
     "metadata": {},
     "source": [
      "#Numerical Methods 1\n",
      "###[Gerard Gorman](http://www.imperial.ac.uk/people/g.gorman), [Matthew Piggott](http://www.imperial.ac.uk/people/m.d.piggott), [Christian Jacobs](http://www.christianjacobs.uk)"
     ]
    },
    {
     "cell_type": "markdown",
     "metadata": {},
     "source": [
      "#Lecture 3: Numerical Differentiation\n",
      "\n",
      "##Learning objectives:\n",
      "\n",
      "* Learn about finite difference approximations to derivatives.\n",
      "* Be able to implement forward and central difference methods.\n",
      "* Calculate higher-order derivatives."
     ]
    },
    {
     "cell_type": "markdown",
     "metadata": {},
     "source": [
      "## Forward differencing\n",
      "\n",
      "Just as numerical quadrature enables us to integrate functions by simply\n",
      "evaluating the function at a number of points, we can also calculate\n",
      "approximations to the derivatives of a function using weighted sums of\n",
      "function evaluations.\n",
      "\n",
      "Remember the elementary definition of the derivative of a function $f$ at a\n",
      "point $x_0$:\n",
      " $$ f'(x_0)=\\lim_{h\\rightarrow 0} \\frac{f(x+h)-f(x)}{h} $$\n",
      "\n",
      "We can turn this into an approximation rule for $f'(x)$ by replacing the\n",
      "limit as $h$ approaches $0$ with a small but finite $h$:\n",
      " $$ f'(x_0)\\approx \\frac{f(x_0+h)-f(x)}{h},\\qquad h>0 $$\n",
      "\n",
      "The figure below illustrates this approximation. Because the\n",
      "approximate gradient is calculated using values of $x$ greater than $x_0$,\n",
      "this algorithm is known as the **forward difference method**.\n",
      "\n",
      "![\"Forward difference method for approximating $f'(x_0)$. The derivative is approximated by the slope of the red line, while the true derivative is the slope of the blue line.\"](https://raw.githubusercontent.com/ggorman/Numerical-methods-1/master/notebook/images/forward_diff.png)\n",
      "\n"
     ]
    },
    {
     "cell_type": "code",
     "collapsed": false,
     "input": [
      "print 5*0.6 - 0.5*9.81*0.6**2"
     ],
     "language": "python",
     "metadata": {},
     "outputs": [
      {
       "output_type": "stream",
       "stream": "stdout",
       "text": [
        "1.2342\n"
       ]
      }
     ],
     "prompt_number": 1
    },
    {
     "cell_type": "markdown",
     "metadata": {},
     "source": [
      "## <span style=\"color:blue\">Exercise: Convert from meters to British length units</span>\n",
      "Make a program where you set a length given in meters and then compute and write out the corresponding length measured in inches, in feet, in yards, and in miles. Use the fact that one inch is 2.54 cm, one foot is 12 inches, one yard is 3 feet, and one British mile is 1760 yards. As a verification, a length of 640 meters corresponds to 25196.85 inches, 2099.74 feet, 699.91 yards, or 0.3977 miles."
     ]
    },
    {
     "cell_type": "code",
     "collapsed": false,
     "input": [],
     "language": "python",
     "metadata": {},
     "outputs": []
    }
   ],
   "metadata": {}
  }
 ]
}