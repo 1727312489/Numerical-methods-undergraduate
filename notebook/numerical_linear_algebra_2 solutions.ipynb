import numpy as np
import pprint
from scipy import linalg

def gauss_elim(A,b):										# Ex. 3.1 Gaussian elimination algorithm from previous lecture 
	C = np.column_stack((A,b))								# Combine A and b into one array
	for k in range(np.size(b)-1):
		for j in range(k+1,np.size(b)):
			C[j,:] -= C[k,:]*C[j,k]/C[k,k]					# Now that they are all one array, the rows can be operated on
	
	U = C[:,:-1]											# Slice array back into A,b  form
	c = C[:,-1]
	return U, c

def LU_dec(A): 												# Ex. 3.2 A function to perform LU decomposition
	N = np.size(A[0,:])										# Find the size of one axis of the array. numpy.shape would also work well
	L = np.identity(N)										# Start with the Lower Matrix as the identity. All the diagonal elements are necessarily 1.
	for k in range(N):										# Cycle through each row in the Matrix. Use the index 'k'.
		for j in range(k+1,N):								# From the next row down cycle through each subsequent row. Use the index 'j', j>k.
			L[j,k]  = A[j,k]/A[k,k]							# The Lower matrix value at position [j,k] (NB: jth row, kth column) = the coefficient in the gaussian elim
			A[j,:] -= A[k,:]*L[j,k]							# subtract the pivot row (times the coefficient) from the current row
	U = A													# This step is not needed but explicitly shows A is the Upper Matrix
	return L, U

def swap_rows(A,j,k):										# Part of Ex. 3.3. This function is not necessary but makes the LU_dec_pp function less cluttered
	B = np.copy(A[j,:])										# Making general operations into functions is good way of improving readability and reducing your workload later!
	C = np.copy(A[k,:])										# NB. You MUST copy an array (like so) explicitly, if you wish to make a copy. otherwise you are just giving it a
															# second label, BUT NOT CREATING A 2ND ARRAY. Try it for yourself if you want.
	A[k,:] = B												# Now we can exchange the rows
	A[j,:] = C
	return A

def LU_dec_pp(A):											# Ex. 3.3 A function to perform LU decomposition with partial pivoting
	N  = np.size(A[0,:])									# See comments on LU_dec for info about the LU decomposition part
	P_ = np.identity(N)										# This is our permutation matrix. Essentially it comes from the equation: P_.A = L.U
	L  = np.identity(N)										# Start it off as the identity
	for k in range(N):
		j = np.argmax(abs(A[k:,k]))							# start with the [k,k] value and examine all elements DIRECTLY below it, i.e. [k:,k]. 
															# Find the index of the largest ABSOLUTE value. np.argmax will return the index of the largest element in an array
		j+= k												# Because we do not pass the whole of A to argmax, it only considers what we send. So we must correct j, as it is
															# k indices out. e.g. if A[:,2] = [0,1,2,3] and A[2:,2] = [2,3]. np.argmax(A[2:,2]) = 1, but A[1,2] = 1! BUT 
															# A[1+2,2] = A[3,2] = 3!
		A  = swap_rows(A,j,k)
		P_ = swap_rows(P_,j,k)								# Now ALSO swap the rows of P, to keep a record of how the swap occurred
		for j in range(k+1,N):								# And perform the Gaussian elimination as before
			L[j,k]  = A[j,k]/A[k,k]
			A[j,k:] -= A[k,k:]*A[j,k]/A[k,k]				
	U = A	
	return P_.transpose(), L, U								# Return the matrices. However, remember from before: P_.A = L.U, but we want to output a P such that P.(L.U) = A
															# Hence, P = P_^-1! P is the inverse of our array P_ ! But P_ is a rearranged identity matrix, so it will have
															# a determinant of 1 which means we just need to transpose it to get the inverse! You can try P.P_ yourself






np.set_printoptions(precision=4)							# This is a cool numpy feature which allows you to set the precision of print statements to as many dp as you like
A=np.array([[25., 91. ,55., 67.],[ 5., 7.,   5.,  9.],[20., 77., 41., 48.],[ 5., 14.,  7., 10.]])
B=np.array([[ 5., 7.,   5.,  9.],[ 5., 14.,  7., 10.],[20., 77., 41., 48.],[25., 91. ,55., 67.]])

b = np.zeros((4))                                           # We don't need b for this exercise, butthe function requires it so simply use an array of the correct shape with
															# zeros.
C = np.copy(A)
L1,U1 = LU_dec(C)

C = np.copy(B)
P,L,U = LU_dec_pp(C)

C = np.copy(B)
U2,b = gauss_elim(C,b)


print ' ### EXERCISE 3.1 ### \n \n'

L0 = np.array([[1,0,0,0],[-1,1,0,0],[-4,0,1,0],[-5,0,0,1]])
L1 = np.array([[1,0,0,0],[0,1,0,0],[0,-7,1,0],[0,-8,0,1]])
L2 = np.array([[1,0,0,0],[0,1,0,0],[0,0,1,0],[0,0,-2,1]])
L0_ = linalg.inv(L0)
L1_ = linalg.inv(L1)
L2_ = linalg.inv(L2)
print 'L0:'
print L0
print 'L1:'
print L1
print 'L2:'
print L2
print '\n'
print '(L0_.(L1_.(L2_.U))) = '
print np.dot(L0_,np.dot(L1_,np.dot(L2_,U2)))
print '\n'
print 'L0_.L1_.L2_ = L:'
print np.dot(L0_,np.dot(L1_,L2_))
print '\n'

print ' ### EXERCISE 3.2 ### \n \n'
print 'A:'
print A
print 'L:'
print L1
print 'U:'
print U1
print '\n'													# '\n' means new line in print statements

print ' ### EXERCISE 3.3 ### \n \n'
print 'B:'
print B
print 'L:' 
print L
print 'U:'
print U
print 'P:'
print P




