{
 "cells": [
  {
   "cell_type": "markdown",
   "metadata": {},
   "source": [
    "# Numerical Methods 1\n",
    "### [Gerard Gorman](http://www.imperial.ac.uk/people/g.gorman), [Matthew Piggott](http://www.imperial.ac.uk/people/m.d.piggott), [Nicolas Barral](http://www.imperial.ac.uk/people/n.barral)"
   ]
  },
  {
   "cell_type": "markdown",
   "metadata": {},
   "source": [
    "# Lecture 2: Numerical Differentiation. Extra exercises\n",
    "\n",
    "## Learning objectives:\n",
    "\n",
    "* Learn about finite difference approximations to derivatives.\n",
    "* Be able to implement forward and central difference methods.\n",
    "* Calculate higher-order derivatives.\n",
    "* Solve simple ODEs using the finite difference method."
   ]
  },
  {
   "cell_type": "markdown",
   "metadata": {},
   "source": [
    "## <span style=\"color:blue\">Exercise: Write Taylor expansions</span>\n",
    "\n",
    "Write the Taylor series expansion of the following functions to the order 5:\n",
    " - $f(x) = e^x$ in $x_0 = 0$\n",
    " - $f(x) = \\frac{1}{1-x}$ in $x_0 = 0$\n",
    " - $f(x) = sin(x)$ in $x_0 = \\pi$"
   ]
  },
  {
   "cell_type": "markdown",
   "metadata": {},
   "source": [
    "## <span style=\"color:blue\">Exercise: Write a finite difference scheme of $f'''$</span>\n",
    "\n",
    "The third derivative of function f is noted $f'''(x) = f^{(3)}(x) = \\frac{\\mathrm{d}^3 f}{\\mathrm{d}x^3}$.\n",
    "Notice that $f'''(x) = g'(x)$ where $g(x)=f''(x)$. Use this remark to write a finite difference approximation of $f'''$ in $x_0$. Use central differencing for both first and second derivative approximations."
   ]
  },
  {
   "cell_type": "markdown",
   "metadata": {},
   "source": [
    "## <span style=\"color:blue\">Exercise: Accuracy of forward Euler and Heun's methods</span>\n",
    "\n",
    "Consider equation \n",
    "$$u'(t)=u(t),\\quad u(0)=1\\,.$$\n",
    "\n",
    "Use the functions from Exercises 2.5 and 2.6 to plot the forward Euler and Heun's approximate solutions of this equation for different values of $h$.\n",
    "Determine visually when both methods start to produce similar result.\n",
    "\n",
    "Write a function *approx_error(f, u0, t0, t, h)* that returns the approximation error at a given time $t$ for both methods.\n",
    "\n",
    "Using a while loop, compute the error at $t=3$ for $h$ from $1$ to $10^{-6}$, and plot it against h in logarithmic scale.\n",
    "\n",
    "When does the difference between both approximate solutions at time $t=3$ start to be smaller than $10^{-3}$."
   ]
  },
  {
   "cell_type": "markdown",
   "metadata": {},
   "source": [
    "## <span style=\"color:blue\">Exercise: Study a function and its derivative [Langtangen B.3]</span>\n",
    "\n",
    "Consider the function:\n",
    "$$ u(x) = \\sin\\left(\\frac{1}{x+\\epsilon}\\right)$$ \n",
    "for x ranging from 0 to 1, and the derivative\n",
    "$$u'(x) = \\frac{-\\cos({\\frac{1}{x+\\epsilon}})}{(x+\\epsilon)^2} $$\n",
    "Here, $\\epsilon$ is a given input parameter.\n",
    "\n",
    "\n",
    "Make sure you can find the expression of $u'(x)$ by pen and paper.\n",
    "\n",
    "Let us subdivide interval $[0,1]$ into n points $x_0=0, ..., x_{n-1}=1$.\n",
    "\n",
    "Write a function *compute_discrete_u(epsilon, n)* that returns two numpy arrays:\n",
    "  - *x_array* contains the coordinates of the $n$ points\n",
    "  - *u_array* contains the discrete values of $u$ at these points.\n",
    "\n",
    "Write a function *compute_derivatives(x_array, u_array)* that returns two numpy arrays:\n",
    "  - *derivative_exact_array* contains the exact derivative given by $u' = u'(x)$  above\n",
    "  - *derivative_fd_array* contains an approximate derivative obtained with a finite difference method. Use a central differencing method for inner points, and a forward (resp. backward) differencing for the first (resp. last) points.\n",
    "\n",
    "Test the function using $n = 10$ and $\\epsilon= 1/5$ and plot the two derivatives against x.\n",
    "\n",
    "How large do you have to choose $n$ in order for the relative difference between\n",
    "these two functions to be less than 0.1?  \n",
    "For the difference, you can use the formula:\n",
    "$$ D = \\max_{i=0...n} \\left|\\frac{u'_{exact}(x_i)-u'_{approx}(x_i)}{u'_{exact}(x_i)}\\right|$$\n",
    "\n",
    "Let $\\epsilon = 1/10$ and $1/20$, and repeat previous question.\n",
    "\n",
    "Try to determine experimentally how large $n$ needs to be for a given\n",
    "value of $\\epsilon$ such that increasing n further does not change the plot\n",
    "so much that you can view it on the screen. Note, that there\n",
    "is no exact solution to this problem."
   ]
  },
  {
   "cell_type": "markdown",
   "metadata": {},
   "source": [
    "## <span style=\"color:blue\">Exercise: Experimental data [Kiusalaas A.15]</span>\n",
    "\n",
    "The relationship between the stress $\\sigma$ and the strain $\\epsilon$ of some biological materials in uniaxial tension is\n",
    "\n",
    "$$\n",
    "\\frac{\\mathrm{d}\\sigma}{\\mathrm{d}\\epsilon} = a + b\\sigma\n",
    "$$\n",
    "\n",
    "where a and b are constants. \n",
    "\n",
    "The following table gives experimental data for the stress and strain of such a material:  \n",
    "<table>\n",
    "<tr><td>Strain $\\epsilon$  </td><td> Stress $\\sigma$ (MPa) </td></tr> \n",
    "<tr><td>0      </td><td>    0      </td></tr>\n",
    "<tr><td>0.05   </td><td>    0.252  </td></tr>\n",
    "<tr><td>0.10   </td><td>    0.531  </td></tr>\n",
    "<tr><td>0.15   </td><td>    0.840  </td></tr>\n",
    "<tr><td>0.20   </td><td>    1.184  </td></tr>\n",
    "<tr><td>0.25   </td><td>    1.558  </td></tr>\n",
    "<tr><td>0.30   </td><td>    1.975  </td></tr>\n",
    "<tr><td>0.35   </td><td>    2.444  </td></tr>\n",
    "<tr><td>0.40   </td><td>    2.943  </td></tr>\n",
    "<tr><td>0.45   </td><td>    3.500  </td></tr>\n",
    "<tr><td>0.50   </td><td>    4.115  </td></tr>\n",
    "</table>\n",
    "\n",
    "Write a program that computes and plots the tangent modulus $\\mathrm{d}\\sigma/\\mathrm{d}\\epsilon$ versus $\\sigma$.\n",
    "\n",
    "Using [Lecture 1](http://nbviewer.jupyter.org/github/ggorman/Numerical-methods-1/blob/master/notebook/interpolation.ipynb) compute the parameters $a$ and $b$ by linear regression (*i.e.* fit a straight line, (a polynomial of degree ...) to the data).\n"
   ]
  }
 ],
 "metadata": {
  "kernelspec": {
   "display_name": "Python 2",
   "language": "python",
   "name": "python2"
  },
  "language_info": {
   "codemirror_mode": {
    "name": "ipython",
    "version": 2
   },
   "file_extension": ".py",
   "mimetype": "text/x-python",
   "name": "python",
   "nbconvert_exporter": "python",
   "pygments_lexer": "ipython2",
   "version": "2.7.13"
  }
 },
 "nbformat": 4,
 "nbformat_minor": 1
}
