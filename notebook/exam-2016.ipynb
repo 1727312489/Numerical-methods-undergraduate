{
 "cells": [
  {
   "cell_type": "markdown",
   "metadata": {},
   "source": [
    "# 3.09 Numerical methods 1 exam - 14:00-16:00 26 April 2016"
   ]
  },
  {
   "cell_type": "markdown",
   "metadata": {},
   "source": [
    "# Test instructions\n",
    "\n",
    "* This test contains **5** questions each of which should be answered.\n",
    "* Write your program in a Python cell just under each question.\n",
    "* You can write an explanation of your solution as comments in your code.\n",
    "* In each case your solution program must fulfil all of the instructions. Please check the instructions carefully and double check that your program fulfils all of the given instructions.\n",
    "* Save your work regularly.\n",
    "* At the end of the test you should email your IPython notebook document (i.e. this document) to [Gerard Gorman](http://www.imperial.ac.uk/people/g.gorman) at <mailto:g.gorman@imperial.ac.uk> **and also** [Matthew Piggott](http://www.imperial.ac.uk/people/m.d.piggott) at\n",
    "<mailto:m.d.piggott@imperial.ac.uk>  "
   ]
  },
  {
   "cell_type": "markdown",
   "metadata": {},
   "source": [
    "## Question 1\n",
    "\n",
    "Given the data points\n",
    "\n",
    "|  x  |  y  |\n",
    "|-----|-----|\n",
    "| 0.1 | 0.3 |\n",
    "| 0.3 | 0.1 |\n",
    "| 1.0 | 0.2 |\n",
    "| 1.4 | 0.3 |\n",
    "| 2.8 | 0.7 |\n",
    "| 4.5 | 0.9 |\n",
    "\n",
    " 1. Calculate the Lagrange polynomial for these points. Plot both the Lagrange polynomial and the raw data points. <sub>[10 marks]</sub>\n",
    " 2. Fit a $3^{rd}$ order polynomial (cubic function) to fit a curve to the given data points. Plot the resulting polynomial function as well as the raw data points. <sub>[10 marks]</sub>"
   ]
  },
  {
   "cell_type": "code",
   "execution_count": 4,
   "metadata": {
    "collapsed": false
   },
   "outputs": [
    {
     "name": "stdout",
     "output_type": "stream",
     "text": [
      "Populating the interactive namespace from numpy and matplotlib\n"
     ]
    },
    {
     "name": "stderr",
     "output_type": "stream",
     "text": [
      "WARNING: pylab import has clobbered these variables: ['cos', 'pi', 'sqrt', 'f']\n",
      "`%matplotlib` prevents importing * from pylab and numpy\n"
     ]
    },
    {
     "data": {
      "image/png": "[encoded data removed]",
      "text/plain": [
       "<matplotlib.figure.Figure at 0x103ed4c90>"
      ]
     },
     "metadata": {},
     "output_type": "display_data"
    },
    {
     "name": "stdout",
     "output_type": "stream",
     "text": [
      "hello world\n"
     ]
    }
   ],
   "source": [
    "# Solution 1.1\n",
    "\n",
    "%pylab inline\n",
    "\n",
    "import numpy\n",
    "import pylab\n",
    "import scipy.interpolate\n",
    "\n",
    "x=numpy.array([0.1,0.3,1.0,1.4,2.8,4.5])\n",
    "y=numpy.array([0.3,0.1,0.2,0.3,0.7,0.9])\n",
    "\n",
    "xx=numpy.linspace(min(x), max(x), 100)\n",
    "\n",
    "lp=scipy.interpolate.lagrange(x, y)\n",
    "pylab.plot(xx, lp(xx), 'g', label='Lagrange')\n",
    "    \n",
    "# Overlay raw data\n",
    "pylab.plot(x,y,'k*',label='Raw data')\n",
    "pylab.xlabel('x')\n",
    "pylab.ylabel('y')\n",
    "\n",
    "# Add a legend\n",
    "pylab.legend(loc='best')\n",
    "\n",
    "pylab.show()\n",
    "\n",
    "print \"hello world\"\n"
   ]
  },
  {
   "cell_type": "code",
   "execution_count": 5,
   "metadata": {
    "collapsed": false
   },
   "outputs": [
    {
     "data": {
      "image/png": "[encoded data removed]",
      "text/plain": [
       "<matplotlib.figure.Figure at 0x103ecf350>"
      ]
     },
     "metadata": {},
     "output_type": "display_data"
    }
   ],
   "source": [
    "# Solution 1.2\n",
    "\n",
    "# Cubic\n",
    "poly_coeffs=numpy.polyfit(x, y, 3)\n",
    "p3 = numpy.poly1d(poly_coeffs)\n",
    "pylab.plot(xx, p3(xx), 'r', label='Cubic')\n",
    "\n",
    "# Overlay raw data\n",
    "pylab.plot(x,y,'k*',label='Raw data')\n",
    "pylab.xlabel('x')\n",
    "pylab.ylabel('y')\n",
    "\n",
    "# Add a legend\n",
    "pylab.legend(loc='best')\n",
    "\n",
    "pylab.show()"
   ]
  },
  {
   "cell_type": "markdown",
   "metadata": {},
   "source": [
    "## Question 2\n",
    "\n",
    "For this exercise, consider the system of linear equations\n",
    "\n",
    "\\begin{align*}\n",
    "  2x + -3y + 4z &= 5 \\\\\n",
    "  x -  y + 5z &= 0 \\\\\n",
    "  -x + 2y + 7z &= -2\n",
    "\\end{align*}\n",
    "\n",
    " 1. Rewriting the above equation in matrix form, $\\pmb{A} \\pmb{x} = \\pmb{b}$, show that $\\pmb{A}$ has an inverse and therefore the above system as a solution. <sub>[5 marks]</sub>\n",
    " 2. Write a function that takes a matrix $\\pmb{A}$ and a vector $\\pmb{b}$ and converts it into upper-triangular form. <sub>[5 marks]</sub>\n",
    " 3. Write a python function that solves for $\\pmb{x}$ given $\\pmb{A}$ and $\\pmb{b}$ as inputs. This python function should call the function you developed in the previous question, 2.2. <sub>[5 marks]</sub>\n",
    " 4. Use `numpy.dot(linalg.inv(A),b)` to verify your solution. <sub>[5 marks]</sub>"
   ]
  },
  {
   "cell_type": "code",
   "execution_count": 6,
   "metadata": {
    "collapsed": true
   },
   "outputs": [],
   "source": [
    "# 2.1\n",
    "import numpy.linalg\n",
    "\n",
    "A = numpy.array([[2., -3., 4.],\n",
    "                 [1., -1., 5.],\n",
    "                 [-1, 2., 7.]])\n",
    "b = numpy.array([5., 0., -2.])\n",
    "\n",
    "if numpy.isclose(numpy.linalg.det(A), 0):\n",
    "    raise ValueError(\"Matrix A is singular and therefore cannot be inverted.\")"
   ]
  },
  {
   "cell_type": "code",
   "execution_count": 7,
   "metadata": {
    "collapsed": false
   },
   "outputs": [
    {
     "name": "stdout",
     "output_type": "stream",
     "text": [
      "[[ 2.  -3.   4. ]\n",
      " [ 0.   0.5  3. ]\n",
      " [ 0.   0.   6. ]]\n",
      "[ 5.  -2.5  3. ]\n"
     ]
    }
   ],
   "source": [
    "# 2.2\n",
    "def upper_triangle(A, b):\n",
    "    # Assuming it is a square matrix of size nxn.\n",
    "    n = numpy.size(b)\n",
    "    \n",
    "    # Loop over each pivot row.\n",
    "    for k in range(n-1):\n",
    "        # Loop over each equation below the pivot row.\n",
    "        for i in range(k+1, n):\n",
    "            # Define the scaling factor outside the innermost\n",
    "            # loop otherwise its value gets changed as you are\n",
    "            # over-writing A\n",
    "            s = (A[i,k]/A[k,k])\n",
    "            # we don't start the following loop from 0 as we can assume\n",
    "            # some entries in the rows are already zero\n",
    "            for j in range(k, n): \n",
    "                A[i,j] = A[i,j] - s*A[k,j]\n",
    "            b[i] = b[i] - s*b[k]\n",
    "\n",
    "upper_triangle(A, b)\n",
    "print(A)\n",
    "print(b)"
   ]
  },
  {
   "cell_type": "code",
   "execution_count": 8,
   "metadata": {
    "collapsed": true
   },
   "outputs": [],
   "source": [
    "# 2.3\n",
    "def solver(A, b):\n",
    "    upper_triangle(A, b)\n",
    "    \n",
    "    n = numpy.size(b)\n",
    "    x = numpy.zeros(n)\n",
    "    \n",
    "    for k in range(n-1, -1, -1):\n",
    "        s = 0.\n",
    "        for j in range(k+1, n):\n",
    "            s = s + A[k, j]*x[j]\n",
    "        x[k] = (b[k] - s)/A[k, k]\n",
    "    \n",
    "    return x\n",
    "\n",
    "x = solver(A, b)"
   ]
  },
  {
   "cell_type": "code",
   "execution_count": 9,
   "metadata": {
    "collapsed": false
   },
   "outputs": [
    {
     "name": "stdout",
     "output_type": "stream",
     "text": [
      "Solver passed\n"
     ]
    }
   ],
   "source": [
    "# 2.4\n",
    "if numpy.allclose(numpy.dot(linalg.inv(A),b), x):\n",
    "    print \"Solver passed\"\n",
    "else:\n",
    "    print \"Solver failed\""
   ]
  },
  {
   "cell_type": "markdown",
   "metadata": {},
   "source": [
    "## Question 3\n",
    "\n",
    "Consider the function $f(x) = \\cos(x)$.\n",
    " 1. Write a function that computes the derivative $df/dx$ using central differencing. The interface to your function should look like *central_diff(f, x, h)* where $f$ is the function to be differentiated, $x$ is the position at which the derivative should be estimated, and $h (= \\Delta x)$ is the step size. <sub>[10 marks]</sub>\n",
    " 2. Use this function to compute the derivative at $x = 2.5$ for decreasing values of $\\Delta x$. Start with $\\Delta x=1.2$ and keep halving until the relative difference between solutions falls below $1.0^{-6}$ Plot the convergence of the method, i.e. plot $\\Delta x$ against the absolute difference between the analytical value and the finite difference approximation. <sub>[10 marks]</sub>"
   ]
  },
  {
   "cell_type": "code",
   "execution_count": 10,
   "metadata": {
    "collapsed": false
   },
   "outputs": [
    {
     "name": "stdout",
     "output_type": "stream",
     "text": [
      "Populating the interactive namespace from numpy and matplotlib\n",
      "Exact deriviative at cos(2.5) =  -0.598472144104\n",
      "Central differencing\n",
      " -0.464833 (error=      0.13)\n",
      " -0.563205 (error=     0.035)\n",
      " -0.589535 (error=    0.0089)\n",
      "  -0.59623 (error=    0.0022)\n",
      " -0.597911 (error=   0.00056)\n",
      " -0.598332 (error=   0.00014)\n",
      " -0.598437 (error=   3.5e-05)\n",
      " -0.598463 (error=   8.8e-06)\n",
      "  -0.59847 (error=   2.2e-06)\n",
      " -0.598472 (error=   5.5e-07)\n"
     ]
    },
    {
     "name": "stderr",
     "output_type": "stream",
     "text": [
      "WARNING: pylab import has clobbered these variables: ['pylab']\n",
      "`%matplotlib` prevents importing * from pylab and numpy\n"
     ]
    },
    {
     "data": {
      "text/plain": [
       "<matplotlib.legend.Legend at 0x10d896350>"
      ]
     },
     "execution_count": 10,
     "metadata": {},
     "output_type": "execute_result"
    },
    {
     "data": {
      "image/png": "[encoded data removed]",
      "text/plain": [
       "<matplotlib.figure.Figure at 0x10d8961d0>"
      ]
     },
     "metadata": {},
     "output_type": "display_data"
    }
   ],
   "source": [
    "%pylab inline\n",
    "import math\n",
    "\n",
    "def central_diff(f, x, h):\n",
    "    fxph = f(x+h)\n",
    "    fxnh = f(x-h)\n",
    "    return (fxph-fxnh)/(2*h)\n",
    "\n",
    "exact = -math.sin(2.5) # for this example we know trivially what the exact solution should be\n",
    "\n",
    "print \"Exact deriviative at cos(2.5) = \", -math.sin(2.5)\n",
    "print \"%20s\"%(\"Central differencing\")\n",
    "\n",
    "atol=1.0e-6\n",
    "fd_errors = []; cd_errors = []; h_all = [] # we're going to store all the values for plotting\n",
    "h=1.2 # an initial mesh spacing\n",
    "for i in range(100):\n",
    "    cd = central_diff(math.cos, 2.5, h)\n",
    "    print \"%10g (error=%10.2g)\"%(cd, abs(cd-exact))\n",
    "    if abs(cd-exact)<atol:\n",
    "        break\n",
    "    # store the h and the errors\n",
    "    h_all.append(h); cd_errors.append(abs(cd-exact))\n",
    "    h=h/2 # halve h for the next iteration\n",
    "\n",
    "# as we expect a polynomial relationship between h and the errors,\n",
    "# a log-log plot will demonstrate this if we get straight lines\n",
    "# the slopes of these lines indicating the order of the relationship:\n",
    "loglog(h_all,cd_errors,'k.-',label='central')\n",
    "xlabel('h');ylabel('Error');grid(True)\n",
    "pylab.legend(loc='best')"
   ]
  },
  {
   "cell_type": "markdown",
   "metadata": {},
   "source": [
    "## Question 4\n",
    "\n",
    " 1. Write a Python function that integrates a given function using the trapezoidal rule. The function should look like *trapezoid_rule(start_point, end_point, f, atol=1.0e-6)* where *start_point* and *end_point* are the bound of the integral, *f* is the function to be integrated and *atol* is the target error in the integral (approximate the error as the absolute difference between successive estimates of the integral for increasing numbers of segments). <sup>[10 marks]</sup>\n",
    " 2. Use this function to evaluate the integral $\\int_0^\\pi \\sqrt{x}\\cos(x) dx$ to two decimal places only. How many subdivisions are needed to achieve this result? <sup>[10 marks]</sup>"
   ]
  },
  {
   "cell_type": "code",
   "execution_count": 11,
   "metadata": {
    "collapsed": false
   },
   "outputs": [
    {
     "name": "stdout",
     "output_type": "stream",
     "text": [
      "(-0.94069360904553889, 9)\n"
     ]
    }
   ],
   "source": [
    "import numpy as np\n",
    "\n",
    "def trapezoid_rule(start_point, end_point, f, atol=1.0e-6, maxiter=1000):\n",
    "    convergence = np.zeros(maxiter)\n",
    "\n",
    "    for number_of_bins in range (1, maxiter):\n",
    "        bin_size = float(end_point - start_point)/number_of_bins\n",
    "        \n",
    "        # Loop to create each trapezoid \n",
    "        for i in range(number_of_bins):\n",
    "            a = start_point + (bin_size * i)\n",
    "            b = a+bin_size\n",
    "            \n",
    "            convergence[number_of_bins] += bin_size*float(f(a)+f(b))/2.0\n",
    "\n",
    "        if number_of_bins>1 and abs(convergence[number_of_bins]-convergence[number_of_bins-1])<atol:\n",
    "            break\n",
    "    return convergence[number_of_bins], number_of_bins\n",
    "\n",
    "def f(x):\n",
    "    return sqrt(x)*cos(x)\n",
    "\n",
    "print trapezoid_rule(0.0, pi, f, 0.01)"
   ]
  },
  {
   "cell_type": "markdown",
   "metadata": {},
   "source": [
    "## Question 5\n",
    "\n",
    "Consider the function:\n",
    "$$f(x) = \\dfrac{1}{(x − 0.3)^2 + 0.01} - \\dfrac{1}{(x − 0.8)^2 + 0.04}$$.\n",
    "\n",
    " 1. Write a general Python function that computes the root of a function using the bisection method. The function interface should look like *bisection(f, lower_bound, upper_bound, atol=1.0E-4, max_iterations=100)* where *f* is the function to whose root is sought, *lower_bound* and the *upper_bound* are two values that bracket the root, *atol* is the target absolute error in the solution and *max_iterations* is the maximum number of iterations to be executed. The function should return as a tuple the root and number of iterations required to achieve the specified tolerance. <sub>[5 marks]</sub>\n",
    " 2. Write a general Python function that computes the root of a function using the Newton-Raphson method. The function interface should look like *newton(fxn, x0, atol=1.0E-4, max_iterations=100)* and return as a tuple the root and number of iterations required to achieve the specified tolerance. For this you should evaluate numerically the first derivative of $f(x)$ using finite differencing. <sub>[5 marks]</sub>\n",
    " 3. Using both approaches, calculate the root of $f(x)$ and the number of iterations required in both cases. <sub>[5 marks]</sub>\n",
    " 4. Give an example where the Newton-Raphson method will fail in this case and explain why. <sub>[5 marks]</sub>"
   ]
  },
  {
   "cell_type": "code",
   "execution_count": 15,
   "metadata": {
    "collapsed": false
   },
   "outputs": [
    {
     "name": "stdout",
     "output_type": "stream",
     "text": [
      "Bisection used 25 evaluations\n",
      "0.580017089844\n",
      "Newton (num dif) used 12 evaluations\n",
      "0.579999983636\n"
     ]
    },
    {
     "data": {
      "image/png": "[encoded data removed]",
      "text/plain": [
       "<matplotlib.figure.Figure at 0x10e0be350>"
      ]
     },
     "metadata": {},
     "output_type": "display_data"
    }
   ],
   "source": [
    "%matplotlib inline\n",
    "import numpy as np\n",
    "import matplotlib.pyplot as plt\n",
    "\n",
    "def bisection(fct, a, b, atol=1.0E-4, nmax=100):\n",
    "    n = 0\n",
    "    fevals = 0\n",
    "    while n <= nmax:\n",
    "        c = (a+b)/2.\n",
    "        if fct(c) == 0. or (b-a)/2. < atol: # one evaluation\n",
    "            fevals += 1\n",
    "            print 'Bisection used', fevals, 'evaluations'\n",
    "            return c\n",
    "        n += 1\n",
    "        if np.sign(fct(c)) == np.sign(fct(a)): # two evaluations\n",
    "            a = c\n",
    "        else:\n",
    "            b = c\n",
    "        fevals += 2\n",
    "    raise RuntimeError('no root found within [a,b]')\n",
    "\n",
    "def newton_numdif(fct, x0, dx=1.0E-2, atol=1.0E-4):\n",
    "    x = [x0]\n",
    "    fevals = 0\n",
    "    while 1:\n",
    "        dfdx = (fct(x[-1]+dx)-fct(x[-1]))/(dx) # two evaluations\n",
    "        if numpy.isclose(dfdx, 0):\n",
    "            print \"Newton-Raphson failing: zero gradient\"\n",
    "            return x[-1]\n",
    "        x.append(x[-1] - fct(x[-1])/dfdx) #  one evaluation\n",
    "        fevals += 3\n",
    "        if abs(x[-1]-x[-2]) < atol:\n",
    "            print 'Newton (num dif) used', fevals, 'evaluations'\n",
    "            return x[-1]\n",
    "\n",
    "def f(x):\n",
    "    return 1./((x-0.3)**2+0.01) - 1./((x-0.8)**2+0.04)\n",
    "\n",
    "x0=0.5\n",
    "print bisection(f, x0, 2*x0)\n",
    "print newton_numdif(f, x0)\n",
    "\n",
    "xx = np.linspace(-2,3,100)\n",
    "plt.plot(xx,f(xx))\n",
    "plt.plot(xx,np.linspace(0,0,100),'k--')\n",
    "plt.show()"
   ]
  },
  {
   "cell_type": "code",
   "execution_count": 16,
   "metadata": {
    "collapsed": false
   },
   "outputs": [
    {
     "name": "stdout",
     "output_type": "stream",
     "text": [
      "Newton-Raphson failing: zero gradient\n",
      "155.183712525\n"
     ]
    }
   ],
   "source": [
    "# 5.4\n",
    "# Any x outside the bounds defined by the maximum and minimum values of f(x)\n",
    "# results in Newton-Raphsons method to diverge and ultimately fail \n",
    "# as the gradient goes to zero. Also fails where df/dx=0.\n",
    "print newton_numdif(f, 1.0)\n",
    "\n"
   ]
  }
 ],
 "metadata": {
  "kernelspec": {
   "display_name": "Python 2",
   "language": "python",
   "name": "python2"
  },
  "language_info": {
   "codemirror_mode": {
    "name": "ipython",
    "version": 2
   },
   "file_extension": ".py",
   "mimetype": "text/x-python",
   "name": "python",
   "nbconvert_exporter": "python",
   "pygments_lexer": "ipython2",
   "version": "2.7.11"
  }
 },
 "nbformat": 4,
 "nbformat_minor": 0
}
