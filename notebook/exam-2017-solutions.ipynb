{
 "cells": [
  {
   "cell_type": "markdown",
   "metadata": {},
   "source": [
    "# 3.09 Numerical methods 1 exam - 14:00-16:00 5th May 2017"
   ]
  },
  {
   "cell_type": "markdown",
   "metadata": {},
   "source": [
    "# Test instructions\n",
    "\n",
    "* This test contains **3** questions each of which should be answered.\n",
    "* Write your program in a Python cell just under each question.\n",
    "* You should write an explanation of your solution as comments in your code.\n",
    "* In each case your solution program must fulfil all of the instructions. Please check the instructions carefully and double check that your program fulfils all of the given instructions.\n",
    "* Save your work regularly.\n",
    "* At the end of the test you should email your IPython notebook document (i.e. this document) to [Gerard Gorman](http://www.imperial.ac.uk/people/g.gorman) at <mailto:g.gorman@imperial.ac.uk> **and also** [Matthew Piggott](http://www.imperial.ac.uk/people/m.d.piggott) at \n",
    "<mailto:m.d.piggott@imperial.ac.uk>  "
   ]
  },
  {
   "cell_type": "markdown",
   "metadata": {},
   "source": [
    "## Question 1\n",
    "\n",
    "Consider the matrix:\n",
    "\n",
    "\\begin{equation}\n",
    "\\bf{A} = \n",
    "\\begin{pmatrix}\n",
    "1  & 3 & −9 &  6 & 4\\\\\n",
    "2  &−1 &  6 &  7 & 1\\\\\n",
    "3  & 2 & −3 & 15 & 5\\\\\n",
    "8  &−1 &  1 &  4 & 2\\\\\n",
    "11 & 1 & −2 & 18 & 7\n",
    "\\end{pmatrix}.\n",
    "\\end{equation}\n",
    "\n",
    " 1. Write a Python Gaussian function that takes as input a matrix and returns the upper diagonal matrix. Demonstrate the correctness by applying it to the matrix A. <sub>[17 marks]</sub>\n",
    " 2. Determine whether $\\bf{A}$ is invertible and explain why. <sub>[17 marks]</sub>"
   ]
  },
  {
   "cell_type": "code",
   "execution_count": 1,
   "metadata": {},
   "outputs": [
    {
     "name": "stdout",
     "output_type": "stream",
     "text": [
      "Upper diagonal matrix:\n",
      " [[ 11.      1.     -2.     18.      7.   ]\n",
      " [  0.      2.909  -8.818   4.364   3.364]\n",
      " [  0.      0.      2.781   7.5     1.094]\n",
      " [  0.      0.      0.     -2.      0.   ]\n",
      " [  0.      0.      0.      0.      0.   ]]\n",
      "Is the matrix singular - i.e. cannot be inverted?  True\n"
     ]
    }
   ],
   "source": [
    "import numpy\n",
    "from scipy import linalg\n",
    "numpy.set_printoptions(precision=3, suppress=True)\n",
    "\n",
    "A = numpy.array(((1,  3, -9,  6, 4),\n",
    "                 (2, -1,  6,  7, 1),\n",
    "                 (3,  2, -3, 15, 5),\n",
    "                 (8, -1,  1,  4, 2),\n",
    "                 (11, 1, -2, 18, 7)), dtype=numpy.float64)\n",
    "\n",
    "detA = linalg.det(A)\n",
    "\n",
    "# Print upper diagonal matrix\n",
    "print(\"Upper diagonal matrix:\\n\", linalg.lu(A)[2])\n",
    "\n",
    "# A very small value for the determinant indicates this is a near singular matrix.\n",
    "# We can check if it is close to zero:\n",
    "print(\"Is the matrix singular - i.e. cannot be inverted? \", numpy.isclose(detA, 0))"
   ]
  },
  {
   "cell_type": "markdown",
   "metadata": {},
   "source": [
    "## Question 2\n",
    "\n",
    "Consider the expression\n",
    "\\begin{equation}\n",
    "f(x) = x \\mathrm{sin}(\\pi x)-\\mathrm{e}^{-x}.\n",
    "\\end{equation}\n",
    "\n",
    " 1. Write a function, $f$,  to evaluate this expression for a given $x$. Show that it works by plotting the function with respect to $100$ evenly spaced points between $x=-3$ and $x=3$. <sub>[8 marks]</sub>\n",
    " 2. Write another function, $g$ that uses central finite differences to numerically evaluate the derivative of an arbitrary given function with respect to $x$ (you may assume $dx\\approx0.01$). Show that it works by plotting the derivative of the function defined above between $x=-3$ and $x=3$. <sub>[8 marks]</sub>\n",
    " 3. Write a function that implements Newton's method for root finding. It should take as input parameters a function, $f$, whose root is to be found, its derivative function, $g$, and an initial guess, $x0$. <sub>[9 marks]</sub>\n",
    " 4. Use your implementation of Newton's method to calculate all the roots of $f$ between $-3$ and $3$.<sub>[8 marks]</sub>"
   ]
  },
  {
   "cell_type": "code",
   "execution_count": 2,
   "metadata": {},
   "outputs": [
    {
     "data": {
      "text/plain": [
       "[<matplotlib.lines.Line2D at 0x10cb01080>]"
      ]
     },
     "execution_count": 2,
     "metadata": {},
     "output_type": "execute_result"
    },
    {
     "data": {
      "image/png": "[encoded data removed]",
      "text/plain": [
       "<matplotlib.figure.Figure at 0x10c9bfc88>"
      ]
     },
     "metadata": {},
     "output_type": "display_data"
    }
   ],
   "source": [
    "# Sample solution\n",
    "%matplotlib inline\n",
    "import numpy as np\n",
    "import matplotlib.pyplot as plt\n",
    "\n",
    "# 1.1\n",
    "def f(x):\n",
    "    return x*np.sin(np.pi*x)-np.exp(-x)\n",
    "\n",
    "x = np.linspace(-3, 3, 100)\n",
    "y = f(x)\n",
    "\n",
    "plt.plot(x, y)"
   ]
  },
  {
   "cell_type": "code",
   "execution_count": 3,
   "metadata": {},
   "outputs": [
    {
     "data": {
      "text/plain": [
       "[<matplotlib.lines.Line2D at 0x10bba8320>]"
      ]
     },
     "execution_count": 3,
     "metadata": {},
     "output_type": "execute_result"
    },
    {
     "data": {
      "image/png": "[encoded data removed]",
      "text/plain": [
       "<matplotlib.figure.Figure at 0x10bba82e8>"
      ]
     },
     "metadata": {},
     "output_type": "display_data"
    }
   ],
   "source": [
    "# 1.2\n",
    "def g(f, x, dx=0.01):\n",
    "    return (f(x+dx)-f(x-dx))/(2*dx)\n",
    "\n",
    "plt.plot(x, y)\n",
    "plt.plot(x, g(f, x))\n",
    "\n"
   ]
  },
  {
   "cell_type": "code",
   "execution_count": 4,
   "metadata": {
    "collapsed": true
   },
   "outputs": [],
   "source": [
    "# 1.3\n",
    "def newton_numdif(f, g, x0, atol=1.0e-4, max_its=1000):\n",
    "    for i in range(max_its):\n",
    "        dfdx = g(f, x0)\n",
    "        \n",
    "        if np.isclose(dfdx, 0):\n",
    "            return None\n",
    "        \n",
    "        x1 = x0 - f(x0)/dfdx\n",
    "        \n",
    "        if abs(x0-x1) < atol:\n",
    "            return x1\n",
    "        else:\n",
    "            x0 = x1\n",
    "        \n",
    "    return None"
   ]
  },
  {
   "cell_type": "code",
   "execution_count": 5,
   "metadata": {},
   "outputs": [
    {
     "name": "stdout",
     "output_type": "stream",
     "text": [
      "[Decimal('0.578263'), Decimal('0.819118'), Decimal('2.020891'), Decimal('2.994680')]\n"
     ]
    }
   ],
   "source": [
    "# 1.4\n",
    "\n",
    "import decimal\n",
    "\n",
    "r = []\n",
    "for xi in np.linspace(-3, 3, 100):\n",
    "    root = newton_numdif(f, g, xi, atol=1.e-12)\n",
    "    if root is None:\n",
    "        print(\"Found zero derivative at x=%f\"%xi)\n",
    "    else:\n",
    "        root = round(decimal.Decimal(root), 6)\n",
    "        if -3 <= root <= 3:\n",
    "            r.append(root)\n",
    "        \n",
    "print(sorted(set(r)))"
   ]
  },
  {
   "cell_type": "code",
   "execution_count": 6,
   "metadata": {},
   "outputs": [
    {
     "name": "stdout",
     "output_type": "stream",
     "text": [
      "226.229832144\n",
      "[[ 1. -0. -0. -0.  0.]\n",
      " [-0.  1. -0.  0. -0.]\n",
      " [ 0. -0.  1.  0.  0.]\n",
      " [-0.  0.  0.  1. -0.]\n",
      " [-0.  0. -0.  0.  1.]]\n"
     ]
    }
   ],
   "source": [
    "A = numpy.array(((1,  3, -9,  6, 4),\n",
    "                 (2, -1,  6,  7, 1),\n",
    "                 (3,  2, -3, 15, 5),\n",
    "                 (8, -1,  1,  4, 2),\n",
    "                 (11, 1, -2, 18, 1)), dtype=numpy.float64)\n",
    "\n",
    "print(numpy.linalg.cond(A))\n",
    "print(numpy.dot(A, numpy.linalg.inv(A)))"
   ]
  },
  {
   "cell_type": "markdown",
   "metadata": {},
   "source": [
    "## Question 3\n",
    "\n",
    "The discrete function $y$ is defined as:\n",
    "\n",
    "y = [0.0109439010693,0.292339081461,0.925277149533,\n",
    "     2.01332091034,3.37454077451,4.68171817154,\n",
    "     5.64468727334,6.14851510939,6.28859790888,\n",
    "     6.2961542923,6.4,6.69882629738,7.11010256048,\n",
    "     7.42182227368,7.42089923772,7.03212055883,\n",
    "     6.39346348534,5.82192391325,5.67641305593,\n",
    "     6.17668765765,7.26466471676]\n",
    "\n",
    "for positions $x$:\n",
    "\n",
    "x = [-2.0,-1.8,-1.6,-1.4,-1.2,-1.0,-0.8,-0.6,-0.4,-0.2,\n",
    "     0.0,0.2,0.4,0.6,0.8,1.0,1.2,1.4,1.6,1.8,2.0]\n",
    "\n",
    "     \n",
    " 1. Fit a polynomial to the data such that the polynomial passes through each point. Plot the polynomial fit with the original data.<sub>[11 marks]</sub>\n",
    " 2.  Write a Python function that integrates a given function using Simpson's rule. The function should look like *simpson_rule(start_point, end_point, f, atol=1.0e-6)* where *start_point* and *end_point* are the bound of the integral, *f* is the function to be integrated and *atol* is the target error in the integral (you may approximate the error as the amount the integral changes when the number of segments is doubled).<sub>[11 marks]</sub>\n",
    " 3. Plot the value of the integral as a function of bin width.<sub>[11 marks]</sub>"
   ]
  },
  {
   "cell_type": "code",
   "execution_count": 7,
   "metadata": {},
   "outputs": [
    {
     "data": {
      "image/png": "[encoded data removed]",
      "text/plain": [
       "<matplotlib.figure.Figure at 0x10bb94470>"
      ]
     },
     "metadata": {},
     "output_type": "display_data"
    }
   ],
   "source": [
    "x = [-2.0,-1.8,-1.6,-1.4,-1.2,-1.0,-0.8,-0.6,-0.4,-0.2,\n",
    "     0.0,0.2,0.4,0.6,0.8,1.0,1.2,1.4,1.6,1.8,2.0]\n",
    "y = [0.0109439010693,0.292339081461,0.925277149533,\n",
    "     2.01332091034,3.37454077451,4.68171817154,\n",
    "     5.64468727334,6.14851510939,6.28859790888,\n",
    "     6.2961542923,6.4,6.69882629738,7.11010256048,\n",
    "     7.42182227368,7.42089923772,7.03212055883,\n",
    "     6.39346348534,5.82192391325,5.67641305593,\n",
    "     6.17668765765,7.26466471676]\n",
    "\n",
    "poly_coeffs=numpy.polyfit(x, y, len(x)-1)\n",
    "pn = numpy.poly1d(poly_coeffs)\n",
    "\n",
    "plt.plot(np.linspace(-2, 2, 100),\n",
    "         pn(np.linspace(-2, 2, 100)),\n",
    "         'r', label='pn')\n",
    "plt.plot(x, y, 'o')\n",
    "plt.show()"
   ]
  },
  {
   "cell_type": "code",
   "execution_count": 8,
   "metadata": {},
   "outputs": [
    {
     "data": {
      "image/png": "[encoded data removed]",
      "text/plain": [
       "<matplotlib.figure.Figure at 0x10ccd1518>"
      ]
     },
     "metadata": {},
     "output_type": "display_data"
    }
   ],
   "source": [
    "import numpy as np\n",
    "from math import *\n",
    "\n",
    "\n",
    "\n",
    "def simpsons_rule(start_point, end_point, function, atol=1.e-6, maxiter=1000):\n",
    "    \n",
    "    \n",
    "    \n",
    "    number_of_bins = 2\n",
    "    previous_total = 0\n",
    "    convergence = []\n",
    "    bins = []\n",
    "    \n",
    "    for ite in range(maxiter):\n",
    "        \n",
    "        bin_size = float(end_point - start_point)/number_of_bins    \n",
    "        running_total = 0.0\n",
    "    \n",
    "        #Loop to create each shape \n",
    "        for i in range(number_of_bins):\n",
    "            #Find a, c, and b\n",
    "            this_bin_start = start_point + bin_size * (i)\n",
    "            this_bin_mid = this_bin_start + bin_size/2\n",
    "            this_bin_end = this_bin_start + bin_size\n",
    "            #Calculate the rule and add to running total.\n",
    "            running_total += (bin_size/6)*float(function(this_bin_start)+4*function(this_bin_mid)+function(this_bin_end))\n",
    "        \n",
    "        convergence.append(running_total)\n",
    "        bins.append(number_of_bins)\n",
    "        \n",
    "        error = abs(previous_total - running_total)\n",
    "        if error < atol:\n",
    "            return running_total, error, convergence, bins\n",
    "        \n",
    "        number_of_bins = number_of_bins*2\n",
    "        previous_total = running_total\n",
    "        \n",
    "    print(\"ERROR: Simpson's method did not converge\")\n",
    "    return running_total, error, convergence, bins\n",
    "\n",
    "\n",
    "\n",
    "integral, error, convergence, bins = simpsons_rule(-2, 2, pn)\n",
    "\n",
    "plt.plot(bins, convergence, '+-')\n",
    "plt.show()"
   ]
  },
  {
   "cell_type": "code",
   "execution_count": null,
   "metadata": {
    "collapsed": true
   },
   "outputs": [],
   "source": []
  }
 ],
 "metadata": {
  "kernelspec": {
   "display_name": "Python 3",
   "language": "python",
   "name": "python3"
  },
  "language_info": {
   "codemirror_mode": {
    "name": "ipython",
    "version": 3
   },
   "file_extension": ".py",
   "mimetype": "text/x-python",
   "name": "python",
   "nbconvert_exporter": "python",
   "pygments_lexer": "ipython3",
   "version": "3.6.2"
  }
 },
 "nbformat": 4,
 "nbformat_minor": 1
}
