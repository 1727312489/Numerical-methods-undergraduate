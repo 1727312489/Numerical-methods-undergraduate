{
 "cells": [
  {
   "cell_type": "markdown",
   "metadata": {},
   "source": [
    "# Numerical Methods 1\n",
    "### [Gerard Gorman](http://www.imperial.ac.uk/people/g.gorman), [Matthew Piggott](http://www.imperial.ac.uk/people/m.d.piggott)"
   ]
  },
  {
   "cell_type": "markdown",
   "metadata": {},
   "source": [
    "# Lecture 6: Quadrature\n",
    "\n",
    "## Learning objectives:\n",
    "\n",
    "* Be able to describe relationship between integration and quadrature."
   ]
  },
  {
   "cell_type": "markdown",
   "metadata": {},
   "source": [
    "## Performing numerical integration"
   ]
  },
  {
   "cell_type": "markdown",
   "metadata": {},
   "source": [
    "*Quadrature* is the term used for numerical evaluation of a definite integral, or put more simply, finding the area under a curve. If we have a function $f(x)$ defined between $a$ and $b$, the\n",
    "[integral](http://en.wikipedia.org/wiki/Integral) is defined as \n",
    "\n",
    "\\begin{equation}\n",
    "F\\left ( x \\right ) = \\int_{a}^{b} f\\left ( x \\right )dx\n",
    "\\end{equation}\n",
    "\n",
    "and its result is the area under the curve. This operation is an essential part of calculus, being the inverse of differentiation. Knowing the value of the area under a curve is important to all kinds of applications. However, many expressions are difficult to integrate analytically, or the function which governs their shape is unknown, and we only have data. Therefore, no course on numerical methods is complete without discussing the different methods of numerical integration. A fundamental property of a definite integral is that\n",
    "\n",
    "\\begin{equation}\n",
    "\\int_{a}^{b} f\\left ( x \\right )dx = \\int_{c}^{a} f\\left ( x \\right )dx + \\int_{b}^{c} f\\left ( x \\right )dx\n",
    "\\end{equation}\n",
    "\n",
    "where $c$ is a point between $a$ and $b$. Therefore, we can perform an integration by splitting the function up into sections and summing the result of each integration. If the function is complicated or unknown, we can approximate its distribution between subdivisions and choose the size of subdivisions to get an accurate result. This is known as *adaptive quadrature*. In this lecture, five different quadrature methods will be covered in the context of a simple function:\n",
    "\n",
    "* Midpoint rule\n",
    "* Trapezoid rule\n",
    "* Simpson's rule\n",
    "* Composite Simpson's rule\n",
    "* Weddle's rule."
   ]
  },
  {
   "cell_type": "markdown",
   "metadata": {},
   "source": [
    "## Integration example\n",
    "Let's begin with a simple function to demonstrate the different methods of numerical integration:\n",
    "\n",
    "\\begin{equation}\n",
    "f\\left ( x \\right ) = \\sin \\left ( x \\right ).\n",
    "\\end{equation}\n",
    "\n",
    "We want to know what the area under the sin function is between 0 and $pi$. The integral of $\\sin \\left ( x \\right )$ is $-\\cos \\left ( x \\right )$, so we can integrate it ourselves by hand to find the true area under the curve:\n",
    "\n",
    "\\begin{equation}\n",
    "F\\left ( x \\right ) =  \\int_{0}^{\\pi} \\sin \\left ( x \\right ) = \\left [ -\\cos\\left ( x \\right )+ C \\right ]_{0}^{\\pi} =-\\cos\\left ( \\pi \\right ) + \\cos\\left ( 0 \\right ) = 2\n",
    "\\end{equation}\n",
    "\n",
    "Let's start by plotting the function between these points."
   ]
  },
  {
   "cell_type": "code",
   "execution_count": 12,
   "metadata": {
    "collapsed": false
   },
   "outputs": [
    {
     "name": "stdout",
     "output_type": "stream",
     "text": [
      "Populating the interactive namespace from numpy and matplotlib\n"
     ]
    },
    {
     "data": {
      "image/png": "[encoded data removed]",
      "text/plain": [
       "<matplotlib.figure.Figure at 0x10c18bb10>"
      ]
     },
     "metadata": {},
     "output_type": "display_data"
    }
   ],
   "source": [
    "%pylab inline\n",
    "\n",
    "x = linspace(0,np.pi,20) #Get the value of pi from numpy\n",
    "y = sin(x)\n",
    "\n",
    "plot(x, y)\n",
    "xlim([0,np.pi]) #Set x axis limits between 0 and pi\n",
    "show()"
   ]
  },
  {
   "cell_type": "markdown",
   "metadata": {},
   "source": [
    "Now let's investigate the different quadrature rules, finding the area under the curve and seeing how it differs from the true area which we know is 2."
   ]
  },
  {
   "cell_type": "markdown",
   "metadata": {},
   "source": [
    "### Rule 1: Midpoint rule\n",
    "\n",
    "The midpoint rule is the simplest quadrature rule. Let $h = b - a$ be the length of the interval. The midpoint rule, $M$, approximates the integral by the area of a rectangle, with base of length $h$ and  height of the value of $f(x)$ at the midpoint,\n",
    "\n",
    "\\begin{equation}\n",
    "M = hf \\left ( \\frac {a+b} {2} \\right )\n",
    "\\end{equation}\n",
    "\n",
    "The result of the integration is the combined area of all the rectanges. A complex example looks like this:\n",
    "\n",
    "<img src=\"http://upload.wikimedia.org/wikipedia/commons/thumb/2/26/Integration_rectangle.svg/340px-Integration_rectangle.svg.png\" width=\"300\">\n",
    "\n",
    "The SciPy module features many different integration functions, and you can find thorough documentation for these functions (including methods not covered in this course) [here](http://docs.scipy.org/doc/scipy/reference/integrate.html). This library does not contain a function for the midpoint rule but it is trivial to create our own.  "
   ]
  },
  {
   "cell_type": "code",
   "execution_count": 2,
   "metadata": {
    "collapsed": false
   },
   "outputs": [],
   "source": [
    "def midpoint_rule(start_point, end_point, function, number_of_bins=10):\n",
    "    #First, check how big each bin needs to be. Bin is just another word for rectangle.\n",
    "    bin_size = float(end_point - start_point)/number_of_bins\n",
    "    \n",
    "    #To make sure the function works as expected and doesn't output garbage accidentally,\n",
    "    #let's assert that there are more than 0 bins, and that the number of bins is a whole number\n",
    "    assert bin_size > 0\n",
    "    assert type(number_of_bins) == int\n",
    "    #By doing this, the function will give an error if either of these are not true,\n",
    "    #avoiding problems later. This is a neat alternative to a try-except loop.\n",
    "    #In programming it is always good to know more than one way of doing things!\n",
    "    \n",
    "    #Create the variable to contain the sum of all the areas\n",
    "    running_total = 0.0\n",
    "    #Find the first midpoint\n",
    "    mid = start_point + bin_size/2\n",
    "    \n",
    "    #Loop to create each rectangle \n",
    "    while (mid < end_point):\n",
    "        #Find the area of the next rectangle and add it to the running total\n",
    "        running_total += bin_size * function(mid)\n",
    "        #Move the midpoint up to the next centre of the bin\n",
    "        mid += bin_size\n",
    "    \n",
    "    #Return our running total result\n",
    "    return running_total"
   ]
  },
  {
   "cell_type": "markdown",
   "metadata": {},
   "source": [
    "Now let's test the midpoint function. "
   ]
  },
  {
   "cell_type": "code",
   "execution_count": 22,
   "metadata": {
    "collapsed": false
   },
   "outputs": [
    {
     "name": "stdout",
     "output_type": "stream",
     "text": [
      "The area found by direct integration = 2\n",
      "Area 1 rectangle(s) = 3.14159 (error=1.14159)\n",
      "Area 2 rectangle(s) = 2.22144 (error=0.221441)\n",
      "Area 10 rectangle(s) = 2.00825 (error=0.00824841)\n",
      "Area 100 rectangle(s) = 2.00008 (error=8.22491e-05)\n",
      "Area 1000 rectangle(s) = 2 (error=8.22467e-07)\n"
     ]
    }
   ],
   "source": [
    "print \"The area found by direct integration = 2\"\n",
    "for i in (1, 2, 10, 100, 1000):\n",
    "    area = midpoint_rule(0, np.pi, sin, i)\n",
    "    print \"Area %d rectangle(s) = %g (error=%g)\"%(i, area, abs(area-2))"
   ]
  },
  {
   "cell_type": "markdown",
   "metadata": {},
   "source": [
    "With one rectangle, we are simply finding the area of a box of shape $\\pi \\times$ 1, so of course the result is $\\pi$. As we increase the number of rectangles we split the function up by, we increase the accuracy of our area. The simplicity of this method is its weakness, as rectangles are rarely a good approximation for the shape of a smooth function. We should want to use as few shapes as possible to approximate our function, because each additional rectangle is one extra time round the loop, increasing processing time. Instead, let's try another shape that follows the profile a little better..."
   ]
  },
  {
   "cell_type": "markdown",
   "metadata": {},
   "source": [
    "## Rule 2: Trapezoid rule"
   ]
  },
  {
   "cell_type": "markdown",
   "metadata": {},
   "source": [
    "If we swap the shape of the rectangle for a trapezoid, we arrive at the trapezoid rule. The trapezoid rule, $T$, approximates the integral by the area of a trapezoid with base $h$ and sides equal to the vaules of the integral at the two end points,\n",
    "\n",
    "\\begin{equation}\n",
    "T = h \\frac {f\\left ( a\\right ) + f \\left (b \\right )} {2}\n",
    "\\end{equation}\n",
    "\n",
    "An example looks more accurate than the midpoint rule:\n",
    "\n",
    "<img src=\"http://upload.wikimedia.org/wikipedia/commons/thumb/0/03/Integration_trapezoid.svg/340px-Integration_trapezoid.svg.png\" width=\"300\">\n",
    "\n",
    "Numpy has a function for the trapezoid rule, <a href=\"http://docs.scipy.org/doc/numpy/reference/generated/numpy.trapz.html\">numpy.trapz</a>, but we'll make our own that works in a similar way to our midpoint rule function."
   ]
  },
  {
   "cell_type": "code",
   "execution_count": 4,
   "metadata": {
    "collapsed": false
   },
   "outputs": [],
   "source": [
    "def trapezoid_rule(start_point, end_point, function, number_of_bins=10):\n",
    "    \n",
    "    bin_size = float(end_point - start_point)/number_of_bins\n",
    "    \n",
    "    assert bin_size > 0\n",
    "    assert type(number_of_bins) == int\n",
    "    \n",
    "    running_total = 0.0\n",
    "    \n",
    "    #Loop to create each trapezoid \n",
    "    for i in range(number_of_bins):\n",
    "        #Set the start of this bin\n",
    "        this_bin_start = start_point + bin_size * (i)\n",
    "        #Find the area of the next rectangle and add it to the running total\n",
    "        running_total += bin_size*float(function(this_bin_start)+function(this_bin_start+bin_size))/2\n",
    "        #Move the midpoint up to the start of the next trapezoid\n",
    "        \n",
    "    #Return our running total result\n",
    "    return running_total"
   ]
  },
  {
   "cell_type": "markdown",
   "metadata": {},
   "source": [
    "Testing the function in a similar way:"
   ]
  },
  {
   "cell_type": "code",
   "execution_count": 21,
   "metadata": {
    "collapsed": false
   },
   "outputs": [
    {
     "name": "stdout",
     "output_type": "stream",
     "text": [
      "The area found by direct integration = 2\n",
      "Area 1 rectangle(s) = 1.92367e-16 (error=2)\n",
      "Area 2 rectangle(s) = 1.5708 (error=0.429204)\n",
      "Area 10 rectangle(s) = 1.98352 (error=0.0164765)\n",
      "Area 100 rectangle(s) = 1.99984 (error=0.000164496)\n",
      "Area 1000 rectangle(s) = 2 (error=1.64493e-06)\n"
     ]
    }
   ],
   "source": [
    "print \"The area found by direct integration = 2\"\n",
    "for i in (1, 2, 10, 100, 1000):\n",
    "    area = trapezoid_rule(0, np.pi, sin, i)\n",
    "    print \"Area %d rectangle(s) = %g (error=%g)\"%(i, area, abs(area-2))"
   ]
  },
  {
   "cell_type": "markdown",
   "metadata": {},
   "source": [
    "We can see a few differences compared to the midpoint rule. In this particular case, the trapezoid rule always under-estimates the area, whereas the midpoint rule over-estimates. The result for finding the integral of $\\sin$ with only one triangle is very small, because that trapezoid has almost no height. Perhaps most surprisingly, the midpoint rule is more accurate than the trapezoid rule.\n",
    "\n",
    "The accuracy of a quadrature rule is predicted by examining its behaviour in practice with polynomials. The order of a rule is the degree of the lowest degree polynomial that the rule does not integrate exactly. If a rule of order $p$ is used to integrate a smooth function of length $h$, then Taylor series analysis shows the error is proportional to $h^p$. Both the midpoint and trapezoid rules are exact for constant and linear functions, but are not exact for quadratics. Therefore, they have order two. Let's use a different example (which integrates to whole numbers) to quantify how accurate the midpoint and trapezoid rules are in comparison to one another. If we are calculating\n",
    "\n",
    "\\begin{equation}\n",
    "\\int_{0}^{1} x^{2}dx = \\frac {1}{3}\n",
    "\\end{equation}\n",
    "\n",
    "the midpoint rule gives\n",
    "\n",
    "\\begin{equation}\n",
    "M = 1 \\frac {1}{3}^{2} = \\frac {1}{4}\n",
    "\\end{equation}\n",
    "\n",
    "and the trapezoid rule gives\n",
    "\n",
    "\\begin{equation}\n",
    "T = 1 \\frac {0+1^{2}}{2} = \\frac {1}{2}\n",
    "\\end{equation}\n",
    "\n",
    "The error for $M$ is 1/12, while the error for $T$ is -1/6. Therefore, the midpoint rule is twice as accurate as the trapezoid rule. This is true more generally for smooth functions over small intervals."
   ]
  },
  {
   "cell_type": "markdown",
   "metadata": {},
   "source": [
    "### Rule 3: Simpson's rule\n",
    "\n",
    "Knowing the error estimates from the two rules explored so far allows us to combine them to create a new rule, more accurate than either one separately, with a little help from [Thomas Simpson](http://en.wikipedia.org/wiki/Thomas_Simpson) - luckily not related to Homer. \n",
    "\n",
    "<img src=\"http://simpsonswiki.com/w/images/2/2b/Homer_Mentions_Tron_%28Treehouse_of_Horror_VI%29.png\" width=\"300\">\n",
    "\n",
    "If the error in $T$ is exactly -2 times the error in $M$, then solving\n",
    "\n",
    "\\begin{equation}\n",
    "S-T = -2 \\left ( S-M\\right )\n",
    "\\end{equation}\n",
    "\n",
    "for $S$ gives us the exact value of the integral. Therefore, the solution\n",
    "\n",
    "\\begin{equation}\n",
    "S = \\frac{2}{3}M + \\frac{1}{3}T\n",
    "\\end{equation}\n",
    "\n",
    "is usually a more accurate approximation that either $M$ or $T$ alone. This is known as [Simpson's rule](http://en.wikipedia.org/wiki/Simpson%27s_rule). It can also be found by integrating the quadratic function that interpolates the integral at two end points, $a$ and $b$, and the midpoint, $c = \\left ( a+b\\right )/2$:\n",
    "\n",
    "\\begin{equation}\n",
    "S = \\frac{h}{6}\\left ( f \\left ( a\\right ) + 4f \\left ( c\\right ) + f\\left ( b\\right )\\right )\n",
    "\\end{equation}\n",
    "\n",
    "This expression now integrates up to cubics exactly, so it is order 4. It looks like a much closer fit to the function:\n",
    "\n",
    "<img src=\"http://upload.wikimedia.org/wikipedia/commons/5/50/Integration_simpson.png\" width=\"300\">\n",
    "\n",
    "Let's make a function to test it out..."
   ]
  },
  {
   "cell_type": "code",
   "execution_count": 6,
   "metadata": {
    "collapsed": false
   },
   "outputs": [],
   "source": [
    "def simpsons_rule(start_point, end_point, function, number_of_bins=10):\n",
    "    \n",
    "    bin_size = float(end_point - start_point)/number_of_bins\n",
    "    \n",
    "    assert bin_size > 0\n",
    "    assert type(number_of_bins) == int\n",
    "    \n",
    "    running_total = 0.0\n",
    "    \n",
    "    #Loop to create each shape \n",
    "    for i in range(number_of_bins):\n",
    "        #Find a, c, and b\n",
    "        this_bin_start = start_point + bin_size * (i)\n",
    "        this_bin_mid = this_bin_start + bin_size/2\n",
    "        this_bin_end = this_bin_start + bin_size\n",
    "        #Calculate the rule and add to running total.\n",
    "        running_total += (bin_size/6)*float(function(this_bin_start)+4*function(this_bin_mid)+function(this_bin_end))\n",
    "        \n",
    "    #Return our running total result\n",
    "    return running_total"
   ]
  },
  {
   "cell_type": "code",
   "execution_count": 20,
   "metadata": {
    "collapsed": false
   },
   "outputs": [
    {
     "name": "stdout",
     "output_type": "stream",
     "text": [
      "The area found by direct integration = 2\n",
      "Area 1 rectangle(s) = 2.0944 (error=0.0943951)\n",
      "Area 2 rectangle(s) = 2.00456 (error=0.00455975)\n",
      "Area 10 rectangle(s) = 2.00001 (error=6.78444e-06)\n",
      "Area 100 rectangle(s) = 2 (error=6.76471e-10)\n",
      "Area 1000 rectangle(s) = 2 (error=6.79456e-14)\n"
     ]
    }
   ],
   "source": [
    "print \"The area found by direct integration = 2\"\n",
    "for i in (1, 2, 10, 100, 1000):\n",
    "    area = simpsons_rule(0, np.pi, sin, i)\n",
    "    print \"Area %d rectangle(s) = %g (error=%g)\"%(i, area, abs(area-2))"
   ]
  },
  {
   "cell_type": "markdown",
   "metadata": {},
   "source": [
    "### Rule 4: Composite Simpson's Rule\n",
    "\n",
    "Let's take our calculations another step further. Previously, we have considered $a$ at the start of the interval, and $b$ at the end, with $c$ at the mid point. Instead, let's split the domain up into smaller subintervals, by making $d$ and $e$ the midpoints of these subintervals. $d = \\left ( a+c\\right )/2$, and $e = \\left( c+b\\right )/2$. If we apply Simpson's rule to each subinterval to obtain a rule over $\\left[a,b\\right]$:\n",
    "\n",
    "\\begin{equation}\n",
    "S_2 = \\frac{h}{12}\\left ( f \\left ( a\\right ) + 4f \\left ( d\\right ) + 2f\\left ( c\\right ) + 4f \\left ( e\\right ) + f \\left ( b\\right )\\right )\n",
    "\\end{equation}\n",
    "\n",
    "This is known as the [Composite Simpson's rule](http://en.wikipedia.org/wiki/Simpson%27s_rule#Composite_Simpson.27s_rule), an example of a *composite* quadrature rule as it is a method that subdivides each interval. Composite methods produce much better results for oscillatory functions.\n",
    "\n",
    "We finally don't need to write our own function, as scipy includes a function for the Composite Simpson's rule, [simps](http://docs.scipy.org/doc/scipy/reference/generated/scipy.integrate.simps.html). Since we have written functions above, let's make another one so we know it works in the same way as the others, so we can be sure our results are comparable."
   ]
  },
  {
   "cell_type": "code",
   "execution_count": 8,
   "metadata": {
    "collapsed": false
   },
   "outputs": [],
   "source": [
    "def simpsons_composite_rule(start_point, end_point, function, number_of_bins=10):\n",
    "    \n",
    "    bin_size = float(end_point - start_point)/number_of_bins\n",
    "    \n",
    "    assert bin_size > 0\n",
    "    assert type(number_of_bins) == int\n",
    "    \n",
    "    running_total = 0.0\n",
    "    \n",
    "    #Loop to create each shape \n",
    "    for i in range(number_of_bins):\n",
    "        #Find a, d, c, e, and b\n",
    "        this_bin_start = start_point + bin_size * (i)\n",
    "        this_bin_quarter = this_bin_start + bin_size*1./4\n",
    "        this_bin_mid = this_bin_start + bin_size*2./4\n",
    "        this_bin_three_quarter = this_bin_start + bin_size*3./4\n",
    "        this_bin_end = this_bin_start + bin_size\n",
    "        #Calculate the rule and add to running total. Sorry about the extremely long line...\n",
    "        running_total += (bin_size/12)*float(function(this_bin_start)+4*function(this_bin_quarter)+2*function(this_bin_mid)+4*function(this_bin_three_quarter)+function(this_bin_end))\n",
    "        \n",
    "    #Return our running total result\n",
    "    return running_total"
   ]
  },
  {
   "cell_type": "code",
   "execution_count": 19,
   "metadata": {
    "collapsed": false
   },
   "outputs": [
    {
     "name": "stdout",
     "output_type": "stream",
     "text": [
      "The area found by direct integration = 2\n",
      "Area 1 rectangle(s) = 2.00456 (error=0.00455975)\n",
      "Area 2 rectangle(s) = 2.00027 (error=0.00026917)\n",
      "Area 10 rectangle(s) = 2 (error=4.23093e-07)\n",
      "Area 100 rectangle(s) = 2 (error=4.22791e-11)\n",
      "Area 1000 rectangle(s) = 2 (error=6.21725e-15)\n"
     ]
    }
   ],
   "source": [
    "print \"The area found by direct integration = 2\"\n",
    "for i in (1, 2, 10, 100, 1000):\n",
    "    area = simpsons_composite_rule(0, np.pi, sin, i)\n",
    "    print \"Area %d rectangle(s) = %g (error=%g)\"%(i, area, abs(area-2))"
   ]
  },
  {
   "cell_type": "markdown",
   "metadata": {},
   "source": [
    "This is a slight improvement for a simple function like $\\sin$, but will be much more of an improvement for functions which oscillate more with respect to the size of our bins. "
   ]
  },
  {
   "cell_type": "markdown",
   "metadata": {},
   "source": [
    "### Rule 5: Weddle's rule\n",
    "\n",
    "Now we are on our final rule... Given that $S$ and $S_2$ approximate the same integral, their difference can be used to estimate the error:\n",
    "\n",
    "\\begin{equation}\n",
    "E = \\left ( S_2 - S \\right)\n",
    "\\end{equation}\n",
    "\n",
    "Therefore, we can combine these rules to make an *even more* accurate approximation. Both of the rules are of order four, but the $S_2$ step size is half the S step size, so $S_2$ is roughly $2^4$ times as accurate. Let's call this super accurate rule $Q$, and we can find it by solving:\n",
    "\n",
    "\\begin{equation}\n",
    "Q - S = 16 \\left ( Q - S_2 \\right )\n",
    "\\end{equation}\n",
    "\n",
    "resulting in:\n",
    "\n",
    "\\begin{equation}\n",
    "Q = S_2 + \\frac {\\left (S_2 - S \\right )}{15} \n",
    "\\end{equation}\n",
    "\n",
    "This is known as Weddle's rule or the extrapolated Simposon's rule, because it uses two different values of $h$ and extrapolates towards $h = 0$. Making a function of this is easy as we just call our other two Simpson functions."
   ]
  },
  {
   "cell_type": "code",
   "execution_count": 10,
   "metadata": {
    "collapsed": false
   },
   "outputs": [],
   "source": [
    "def weddles_rule(start_point, end_point, function, number_of_bins=10):\n",
    "    result_simpson = simpsons_rule(start_point, end_point, function, number_of_bins)\n",
    "    result_composite = simpsons_composite_rule(start_point, end_point, function, number_of_bins)\n",
    "    \n",
    "    return result_composite + float(result_composite - result_simpson)/15"
   ]
  },
  {
   "cell_type": "code",
   "execution_count": 18,
   "metadata": {
    "collapsed": false
   },
   "outputs": [
    {
     "name": "stdout",
     "output_type": "stream",
     "text": [
      "The area found by direct integration = 2\n",
      "Area with 1 rectangle(s) = 1.99857 (error=0.00142927)\n",
      "Area with 2 rectangle(s) = 1.99998 (error=1.68691e-05)\n",
      "Area with 10 rectangle(s) = 2 (error=9.96725e-10)\n",
      "Area with 100 rectangle(s) = 2 (error=4.44089e-16)\n",
      "Area with 1000 rectangle(s) = 2 (error=2.22045e-15)\n"
     ]
    }
   ],
   "source": [
    "print \"The area found by direct integration = 2\"\n",
    "for i in (1, 2, 10, 100, 1000):\n",
    "    area = weddles_rule(0, np.pi, sin, i)\n",
    "    print \"Area with %d rectangle(s) = %g (error=%g)\"%(i, area, abs(area-2))"
   ]
  },
  {
   "cell_type": "markdown",
   "metadata": {},
   "source": [
    "You can see our final rule is much more accurate for fewer required bins."
   ]
  },
  {
   "cell_type": "code",
   "execution_count": null,
   "metadata": {
    "collapsed": false
   },
   "outputs": [],
   "source": []
  }
 ],
 "metadata": {
  "kernelspec": {
   "display_name": "Python 2",
   "language": "python",
   "name": "python2"
  },
  "language_info": {
   "codemirror_mode": {
    "name": "ipython",
    "version": 2
   },
   "file_extension": ".py",
   "mimetype": "text/x-python",
   "name": "python",
   "nbconvert_exporter": "python",
   "pygments_lexer": "ipython2",
   "version": "2.7.11"
  }
 },
 "nbformat": 4,
 "nbformat_minor": 0
}
